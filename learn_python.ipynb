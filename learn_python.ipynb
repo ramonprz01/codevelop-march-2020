{
 "cells": [
  {
   "cell_type": "markdown",
   "metadata": {},
   "source": [
    "# <center> <h1>Welcome to Intro to Data Analytics</h1> </center>"
   ]
  },
  {
   "cell_type": "markdown",
   "metadata": {},
   "source": [
    "![data analytics](https://ofdataanalytics.com/wp-content/uploads/2019/08/Screenshot-2019-08-22-at-22.15.17.png)"
   ]
  },
  {
   "cell_type": "markdown",
   "metadata": {},
   "source": [
    "You have probably heard of, and maybe even researched on your own, terms such as data analytics, data sciece, machine learning, deep learning, artificial intelligence, data mining, the list goes on, and wonder what's the big fuzz about these new terms and/or how does one get started in roles involving these (forgive the buzz) words. Whale 🐳, let's cover these on a high level and move on to the very beginnig, or the core skill one would need in order to jump into roles with these terms, __data analysis__."
   ]
  },
  {
   "cell_type": "markdown",
   "metadata": {},
   "source": [
    "> \"This is my favorite part about analytics: Taking boring flat data and bringing it to life through visualization.\" ~ John Tukey"
   ]
  },
  {
   "cell_type": "markdown",
   "metadata": {},
   "source": [
    "## Outline 4 Today"
   ]
  },
  {
   "cell_type": "markdown",
   "metadata": {},
   "source": [
    "1. What is Data Analytics, what is a data analyst, and what does the Data Analytics Cycle?\n",
    "2. What is Python and why is it so popular?\n",
    "3. Coming up with an idea or project\n",
    "4. Getting the data we'll need\n",
    "5. Preparing the data for analysis\n",
    "6. Analysing and visualising data\n",
    "7. Next steps"
   ]
  },
  {
   "cell_type": "markdown",
   "metadata": {},
   "source": [
    "## 1. What is Data Analytics, what is a data analyst, and what does the Data Analytics Cycle?"
   ]
  },
  {
   "cell_type": "markdown",
   "metadata": {},
   "source": [
    "![data analytics](https://i2.wp.com/www.upbuild.io/wp-content/uploads/2018/07/upbuild-what-are-your-analytics-telling-you.png?w=1364&ssl=1)\n",
    "- __Data Analytics__\n",
    "\n",
    "Data analytics is a process for uncovering insights from information. This information can structured or unstructured, qualitative or quantitative, time-dependent or -independent, and highly-dimensional or with only one dimension.\n",
    "\n",
    "You can also think of data analytics as the following:\n",
    "\n",
    "    - A process for finding answers to questions\n",
    "    - Interrogation of the facts and evaluation of the future\n",
    "    - Information decomposition\n",
    "    - Automagic sometimes\n",
    "    - An evolving framework for the inquisitive mind\n",
    "    \n",
    "![detective](https://media.giphy.com/media/NS7gPxeumewkWDOIxi/giphy.gif)\n",
    "- __Data Analyst__\n",
    "\n",
    "A data analyst can be thought of as a detective. Detectives look at the evidence of a case, analyse it and ask many (many) questions throughout the process, make up inferences based on the evidence, narrow down a conclusion when everything is said and done. This is, in a way, the same process a data analyst undertakes for a project. To understand this better, let's look at the Data Analytics Cycle.\n",
    "\n",
    "- __Data Analytics Cycle__\n",
    "\n",
    "The data analytics cycle is an iterative process that data analysts go through in their day-to-day activities. This may vary depending on the type of company and responsabilities of the analyst, but for the most part, we can look at the cycle (from a high level) in the following way.\n",
    "\n",
    "    1. Define the problem or question to be solved\n",
    "    2. What can of data will we need to solve this and where do we get it from?\n",
    "    3. Cleaning or structuring the data in a way that is suitable for analysis (very often, this may be the most time-consuming stage of the cycle)\n",
    "    4. Exploratory Data Analysis and Visualisation\n",
    "    5. Hypothesis testing or inference stage - making predictions\n",
    "    6. Reporting our findings\n",
    "    7. Presenting our findings and collecting feedback\n",
    "    8. Start again"
   ]
  },
  {
   "cell_type": "markdown",
   "metadata": {},
   "source": [
    "## 2. What is Python and why is it so popular?"
   ]
  },
  {
   "cell_type": "markdown",
   "metadata": {},
   "source": [
    "Python is a general-purpose programming language that allows us to create programs, analyse data, create websites, create applications, and many other cool things. It is free and open-source, which means that anyone can contribute to its development and help make this language an even better one. This latter fact, along with the great readability of the language, are (to your host) two of the major contributing factors of Python's popularity.\n",
    "\n",
    "Python can be thought of as a person, we are very cool the way we are but to interact more efficiently we make use of \"add-ons\", and thus, so does Python. These add-ons may be clothes, shoes, accessories, slang words, and other physical objects such as cars, houses, boats, etc. In Python, our add-ons become additional programs other people have created in order to make a specific workflow easier.\n",
    "\n",
    "Python in the domain of data analytics uses very heavily the following packages/libraries (and so are we today).\n",
    "\n",
    "Some of the packages/libraries  most heavily used in data analytics are:*\n",
    "\n",
    "#### For Data Analysis\n",
    "\n",
    "- [pandas](https://pandas.pydata.org/) -> \"is a fast, powerful, flexible and easy to use open source data analysis and manipulation tool, built on top of the Python programming language.\"\n",
    "\n",
    "- [numpy](https://numpy.org/) -> \"is the fundamental package for scientific computing with Python. It contains among other things, a powerful N-dimensional array object, sophisticated (broadcasting) functions, tools for integrating C/C++ and Fortran code, useful linear algebra, Fourier transform, and random number capabilities.\"\n",
    "\n",
    "- [SciPy](https://www.scipy.org/) -> \"is a Python-based ecosystem of open-source software for mathematics, science, and engineering.\"\n",
    "\n",
    "#### For Data Visualisation\n",
    "\n",
    "- [matplotlib](https://matplotlib.org/) -> \"is a comprehensive library for creating static, animated, and interactive visualizations in Python.\"\n",
    "\n",
    "- [seaborn](https://seaborn.pydata.org/) -> \"s a Python data visualization library based on matplotlib. It provides a high-level interface for drawing attractive and informative statistical graphics.\"\n",
    "\n",
    "- [altair](https://altair-viz.github.io/index.html) -> Although Altair has not had the same adoption from the community as the previous two data visualisation libraries, it is a great library for visualising your data.\n",
    "\n",
    "\\* Definitions have been taken straight from the packages respective websites."
   ]
  },
  {
   "cell_type": "markdown",
   "metadata": {},
   "source": [
    "## 3. Coming up with an idea or project"
   ]
  },
  {
   "cell_type": "markdown",
   "metadata": {},
   "source": [
    "Let's first come up with a good scenario for our data analytics project. After all, we can't just get down to analysing data without having at least a bit of context as to what we would like to do with the data and what are we hoping to find.\n",
    "\n",
    "#### I. The Scenario\n",
    "\n",
    "Say you have always exercised at least 5 days a week, or that since last year, as your New Year's resolution, you chose to exercise for at least 5 days a week throughout the entire year. This being a completely novel endeavor for you, something no one else picks during New Year's (😎), you decide it would good to also track your progress throughout your journey, so you get a smart watch to aid you in this regard.\n",
    "\n",
    "You start noticing how most of the apps you use and websites you visit all gather a lot of data about you. Netflix captures your taste of movie for any given day and time. Facebook know which kinds of posts you like the most, and has a good sense regarding your political inclinations based on the things you post. Amazon always seems to know what to recommend you to buy (and crap, it seems to work). Now you start getting curious about all of the data your smartwatch might have about you so you decide that it is time to take control of your own data before others analyse it for you.\n",
    "\n",
    "- __Me on Week 1__\n",
    "\n",
    "![week1](https://media.giphy.com/media/13Lwn87rxZSUVi/giphy.gif)\n",
    "\n",
    "#### II. The Task\n",
    "\n",
    "Now that we have a decided to do something with our data, let's put this into a general list of tasks we'd like to take on.\n",
    "\n",
    "1. Get the data out of wherever our smartwatch is keeping it at.\n",
    "2. Prepare it for analysis.\n",
    "3. Analyse it.\n",
    "4. Think of questions/hypotheses you might want test.\n",
    "5. Write down your findings.\n",
    "6. Improve your analysis by collecting some feedback and\n",
    "7. prepare your code for future use.\n",
    "\n",
    "- __Me around Valentine's Day__\n",
    "\n",
    "![Exercise](https://media.giphy.com/media/mb8QpqfFX4CtO/giphy.gif)\n",
    "\n"
   ]
  },
  {
   "cell_type": "markdown",
   "metadata": {},
   "source": [
    "## 4. Getting the data we'll need"
   ]
  },
  {
   "cell_type": "markdown",
   "metadata": {},
   "source": [
    "![get data](https://media.giphy.com/media/8qrrHSsrK9xpknGVNF/giphy.gif)"
   ]
  },
  {
   "cell_type": "markdown",
   "metadata": {},
   "source": [
    "Now that we have our task somewhat defined, we can move on to gathering the data we will need for our project.\n",
    "\n",
    "Depending on which smartwatch or smartphone you have, there will be different ways to access your data. I will cover two here but you are by no means limited by these tools. In fact, I would strongly encourage you to get the data for your own tool and begin your data analytics journey by analysing your own data.\n",
    "\n",
    "- __Garmin__\n",
    "    1. Go to [__Garmin Connect__](https://connect.garmin.com/signin)\n",
    "    2. Sign in with your username and password\n",
    "    3. Go to the activities section and click on __`All Activities`__\n",
    "    4. Exporting the data gets a bit tricky here because Garmin will only export items that have already loaded, so in order to get all of your data, scroll all the way down to the very end of all of your activities.\n",
    "    5. Once you reach the last one, click on the __`Export CSV`__ button at the top right hand corner. You will see a __`Activities.csv`__ file in your downloads folder.  \n",
    "    __NOTE:__ Garmin track much more data than what you will download from Garmin Connect but the format is not as user-friendly as what you would get using these steps.\n",
    "    \n",
    "- __Apple Health__\n",
    "    - First Approach\n",
    "        1. Go to the __`Health`__ app on your IPhone.\n",
    "        2. Click on your profile at the top right-hand corner.\n",
    "        3. Scroll to the very bottom and click on __`Export All Health Data`__.\n",
    "        4. A message will pop up asking you if you really want to export your own data, click Export.\n",
    "        5. Once the app finishes preparing your data, send it to your folder, email, hardrive or app of choice.\n",
    "    - Second Approach (prefer method)\n",
    "        1. Download the app called [__Workout - CSV Exporter__](https://apps.apple.com/us/app/workout-csv-exporter/id1140433100?ls=1).\n",
    "        2. Select the kind of workouts you would like to export.\n",
    "        3. The app will also only download what it has currently loaded so make sure you scroll down all the way to the bottom to download the page before you proceed to export your data.\n",
    "        4. Click on the share icon at the top and select how you would like to export your data.\n",
    "     "
   ]
  },
  {
   "cell_type": "markdown",
   "metadata": {},
   "source": [
    "In order to use data in Python, we first need a couple of things to help us read it into memory. Just like humans have tools to build houses, skycrapers, airplanes, and more, Python has tools for data analytics that can enhance our productivity in extraordinary ways. The python packages `pandas`, `numpy`, `matplotlib`, and `seaborn` are some of the tools that will make our work much easier today as we put on our detective hats on.\n",
    "\n",
    "Let's begin by loading these for packages first. To do this we will need to use the `import` command which tells Python that we want to bring in an object from our storage into our environment (a.k.a. this notebook we are working on 🤓)."
   ]
  },
  {
   "cell_type": "code",
   "execution_count": 1,
   "metadata": {},
   "outputs": [],
   "source": [
    "# Import your packages below\n",
    "import pandas as pd\n",
    "import numpy as np\n",
    "import matplotlib.pyplot as plt\n",
    "import seaborn as sns\n",
    "sns.set()\n",
    "import datetime\n",
    "import altair as alt\n",
    "pd.set_option('display.max_columns', None)\n",
    "\n",
    "%matplotlib inline"
   ]
  },
  {
   "cell_type": "markdown",
   "metadata": {},
   "source": [
    "Another thing you will notice is that as we imported our packages into our environment, we also used an alias so that we don't have to use the full name of the package every time we need to use each one of them.\n",
    "\n",
    "The next step we need to take is to load our dataset into memory. You will find a dataset readily available in the following link\n",
    "\n",
    "> https://raw.githubusercontent.com/ramonprz01/codevelop-march-2020/master/data/activities_data.csv"
   ]
  },
  {
   "cell_type": "markdown",
   "metadata": {},
   "source": [
    "To get the data we will use a method called `.read_csv()` from our padas library and assign it to a variable. A variable is like a bucket or a net, it can hold on to an object for us and allow us to do things with it and to it. You can also think of variables as the name of a column in a spreadsheet."
   ]
  },
  {
   "cell_type": "code",
   "execution_count": 2,
   "metadata": {},
   "outputs": [],
   "source": [
    "# The word df is our variable\n",
    "# The alias pd allows us to use the pandas library\n",
    "# The .read_csv() helps us read in the data\n",
    "\n",
    "df = pd.read_csv(\"https://raw.githubusercontent.com/ramonprz01/codevelop-march-2020/master/data/activities_data.csv\")"
   ]
  },
  {
   "cell_type": "markdown",
   "metadata": {},
   "source": [
    "The next thing we want to do after loading our data is to make sure it was loaded into memory in the right way. We can do this by calling the method `.head()` on our pandas dataframe."
   ]
  },
  {
   "cell_type": "code",
   "execution_count": 3,
   "metadata": {},
   "outputs": [
    {
     "data": {
      "text/html": [
       "<div>\n",
       "<style scoped>\n",
       "    .dataframe tbody tr th:only-of-type {\n",
       "        vertical-align: middle;\n",
       "    }\n",
       "\n",
       "    .dataframe tbody tr th {\n",
       "        vertical-align: top;\n",
       "    }\n",
       "\n",
       "    .dataframe thead th {\n",
       "        text-align: right;\n",
       "    }\n",
       "</style>\n",
       "<table border=\"1\" class=\"dataframe\">\n",
       "  <thead>\n",
       "    <tr style=\"text-align: right;\">\n",
       "      <th></th>\n",
       "      <th>Activity Type</th>\n",
       "      <th>Date</th>\n",
       "      <th>Favorite</th>\n",
       "      <th>Title</th>\n",
       "      <th>Distance</th>\n",
       "      <th>Calories</th>\n",
       "      <th>Time</th>\n",
       "      <th>Avg HR</th>\n",
       "      <th>Max HR</th>\n",
       "      <th>Aerobic TE</th>\n",
       "      <th>Avg Run Cadence</th>\n",
       "      <th>Max Run Cadence</th>\n",
       "      <th>Avg Pace</th>\n",
       "      <th>Best Pace</th>\n",
       "      <th>Elev Gain</th>\n",
       "      <th>Elev Loss</th>\n",
       "      <th>Avg Stride Length</th>\n",
       "      <th>Avg Vertical Ratio</th>\n",
       "      <th>Avg Vertical Oscillation</th>\n",
       "      <th>Training Stress Score®</th>\n",
       "      <th>Grit</th>\n",
       "      <th>Flow</th>\n",
       "      <th>Climb Time</th>\n",
       "      <th>Bottom Time</th>\n",
       "      <th>Min Temp</th>\n",
       "      <th>Surface Interval</th>\n",
       "      <th>Decompression</th>\n",
       "      <th>Best Lap Time</th>\n",
       "      <th>Number of Runs</th>\n",
       "      <th>Max Temp</th>\n",
       "    </tr>\n",
       "  </thead>\n",
       "  <tbody>\n",
       "    <tr>\n",
       "      <td>0</td>\n",
       "      <td>Running</td>\n",
       "      <td>2020-03-15 18:36:50</td>\n",
       "      <td>False</td>\n",
       "      <td>Sydney Running</td>\n",
       "      <td>2.38</td>\n",
       "      <td>317</td>\n",
       "      <td>00:19:31</td>\n",
       "      <td>155</td>\n",
       "      <td>182</td>\n",
       "      <td>3.4</td>\n",
       "      <td>166</td>\n",
       "      <td>183</td>\n",
       "      <td>8:13</td>\n",
       "      <td>6:48</td>\n",
       "      <td>141</td>\n",
       "      <td>174</td>\n",
       "      <td>1.18</td>\n",
       "      <td>0.0</td>\n",
       "      <td>0.0</td>\n",
       "      <td>0.0</td>\n",
       "      <td>0.0</td>\n",
       "      <td>0.0</td>\n",
       "      <td>0:00</td>\n",
       "      <td>0:00</td>\n",
       "      <td>68.0</td>\n",
       "      <td>0:00</td>\n",
       "      <td>No</td>\n",
       "      <td>03:02.70</td>\n",
       "      <td>3</td>\n",
       "      <td>0.0</td>\n",
       "    </tr>\n",
       "    <tr>\n",
       "      <td>1</td>\n",
       "      <td>Running</td>\n",
       "      <td>2020-03-11 18:26:18</td>\n",
       "      <td>False</td>\n",
       "      <td>Sydney Running</td>\n",
       "      <td>4.09</td>\n",
       "      <td>550</td>\n",
       "      <td>00:33:29</td>\n",
       "      <td>158</td>\n",
       "      <td>171</td>\n",
       "      <td>4.0</td>\n",
       "      <td>166</td>\n",
       "      <td>181</td>\n",
       "      <td>8:11</td>\n",
       "      <td>6:48</td>\n",
       "      <td>226</td>\n",
       "      <td>256</td>\n",
       "      <td>1.18</td>\n",
       "      <td>0.0</td>\n",
       "      <td>0.0</td>\n",
       "      <td>0.0</td>\n",
       "      <td>0.0</td>\n",
       "      <td>0.0</td>\n",
       "      <td>0:00</td>\n",
       "      <td>0:00</td>\n",
       "      <td>71.6</td>\n",
       "      <td>0:00</td>\n",
       "      <td>No</td>\n",
       "      <td>00:53.73</td>\n",
       "      <td>5</td>\n",
       "      <td>0.0</td>\n",
       "    </tr>\n",
       "    <tr>\n",
       "      <td>2</td>\n",
       "      <td>Running</td>\n",
       "      <td>2020-03-08 17:48:07</td>\n",
       "      <td>False</td>\n",
       "      <td>Sydney Running</td>\n",
       "      <td>2.82</td>\n",
       "      <td>336</td>\n",
       "      <td>00:21:16</td>\n",
       "      <td>150</td>\n",
       "      <td>168</td>\n",
       "      <td>3.3</td>\n",
       "      <td>167</td>\n",
       "      <td>195</td>\n",
       "      <td>7:32</td>\n",
       "      <td>5:44</td>\n",
       "      <td>128</td>\n",
       "      <td>190</td>\n",
       "      <td>1.28</td>\n",
       "      <td>0.0</td>\n",
       "      <td>0.0</td>\n",
       "      <td>0.0</td>\n",
       "      <td>0.0</td>\n",
       "      <td>0.0</td>\n",
       "      <td>0:00</td>\n",
       "      <td>0:00</td>\n",
       "      <td>71.6</td>\n",
       "      <td>0:00</td>\n",
       "      <td>No</td>\n",
       "      <td>06:12.32</td>\n",
       "      <td>3</td>\n",
       "      <td>0.0</td>\n",
       "    </tr>\n",
       "    <tr>\n",
       "      <td>3</td>\n",
       "      <td>Running</td>\n",
       "      <td>2020-03-04 18:41:53</td>\n",
       "      <td>False</td>\n",
       "      <td>Sydney Running</td>\n",
       "      <td>1.00</td>\n",
       "      <td>117</td>\n",
       "      <td>00:08:24.7</td>\n",
       "      <td>136</td>\n",
       "      <td>148</td>\n",
       "      <td>2.0</td>\n",
       "      <td>160</td>\n",
       "      <td>175</td>\n",
       "      <td>8:24</td>\n",
       "      <td>7:37</td>\n",
       "      <td>39</td>\n",
       "      <td>62</td>\n",
       "      <td>1.19</td>\n",
       "      <td>0.0</td>\n",
       "      <td>0.0</td>\n",
       "      <td>0.0</td>\n",
       "      <td>0.0</td>\n",
       "      <td>0.0</td>\n",
       "      <td>0:00</td>\n",
       "      <td>0:00</td>\n",
       "      <td>77.0</td>\n",
       "      <td>0:00</td>\n",
       "      <td>No</td>\n",
       "      <td>00:00.46</td>\n",
       "      <td>2</td>\n",
       "      <td>0.0</td>\n",
       "    </tr>\n",
       "    <tr>\n",
       "      <td>4</td>\n",
       "      <td>Running</td>\n",
       "      <td>2020-02-29 15:55:38</td>\n",
       "      <td>False</td>\n",
       "      <td>Sydney Running</td>\n",
       "      <td>2.80</td>\n",
       "      <td>347</td>\n",
       "      <td>00:22:17</td>\n",
       "      <td>150</td>\n",
       "      <td>170</td>\n",
       "      <td>3.4</td>\n",
       "      <td>166</td>\n",
       "      <td>213</td>\n",
       "      <td>7:58</td>\n",
       "      <td>6:38</td>\n",
       "      <td>135</td>\n",
       "      <td>187</td>\n",
       "      <td>1.22</td>\n",
       "      <td>0.0</td>\n",
       "      <td>0.0</td>\n",
       "      <td>0.0</td>\n",
       "      <td>0.0</td>\n",
       "      <td>0.0</td>\n",
       "      <td>0:00</td>\n",
       "      <td>0:00</td>\n",
       "      <td>80.6</td>\n",
       "      <td>0:00</td>\n",
       "      <td>No</td>\n",
       "      <td>06:13.66</td>\n",
       "      <td>3</td>\n",
       "      <td>0.0</td>\n",
       "    </tr>\n",
       "  </tbody>\n",
       "</table>\n",
       "</div>"
      ],
      "text/plain": [
       "  Activity Type                 Date  Favorite           Title  Distance  \\\n",
       "0       Running  2020-03-15 18:36:50     False  Sydney Running      2.38   \n",
       "1       Running  2020-03-11 18:26:18     False  Sydney Running      4.09   \n",
       "2       Running  2020-03-08 17:48:07     False  Sydney Running      2.82   \n",
       "3       Running  2020-03-04 18:41:53     False  Sydney Running      1.00   \n",
       "4       Running  2020-02-29 15:55:38     False  Sydney Running      2.80   \n",
       "\n",
       "  Calories        Time  Avg HR  Max HR Aerobic TE Avg Run Cadence  \\\n",
       "0      317    00:19:31     155     182        3.4             166   \n",
       "1      550    00:33:29     158     171        4.0             166   \n",
       "2      336    00:21:16     150     168        3.3             167   \n",
       "3      117  00:08:24.7     136     148        2.0             160   \n",
       "4      347    00:22:17     150     170        3.4             166   \n",
       "\n",
       "  Max Run Cadence Avg Pace Best Pace Elev Gain Elev Loss  Avg Stride Length  \\\n",
       "0             183     8:13      6:48       141       174               1.18   \n",
       "1             181     8:11      6:48       226       256               1.18   \n",
       "2             195     7:32      5:44       128       190               1.28   \n",
       "3             175     8:24      7:37        39        62               1.19   \n",
       "4             213     7:58      6:38       135       187               1.22   \n",
       "\n",
       "   Avg Vertical Ratio  Avg Vertical Oscillation  Training Stress Score®  Grit  \\\n",
       "0                 0.0                       0.0                     0.0   0.0   \n",
       "1                 0.0                       0.0                     0.0   0.0   \n",
       "2                 0.0                       0.0                     0.0   0.0   \n",
       "3                 0.0                       0.0                     0.0   0.0   \n",
       "4                 0.0                       0.0                     0.0   0.0   \n",
       "\n",
       "   Flow Climb Time Bottom Time  Min Temp Surface Interval Decompression  \\\n",
       "0   0.0       0:00        0:00      68.0             0:00            No   \n",
       "1   0.0       0:00        0:00      71.6             0:00            No   \n",
       "2   0.0       0:00        0:00      71.6             0:00            No   \n",
       "3   0.0       0:00        0:00      77.0             0:00            No   \n",
       "4   0.0       0:00        0:00      80.6             0:00            No   \n",
       "\n",
       "  Best Lap Time Number of Runs  Max Temp  \n",
       "0      03:02.70              3       0.0  \n",
       "1      00:53.73              5       0.0  \n",
       "2      06:12.32              3       0.0  \n",
       "3      00:00.46              2       0.0  \n",
       "4      06:13.66              3       0.0  "
      ]
     },
     "execution_count": 3,
     "metadata": {},
     "output_type": "execute_result"
    }
   ],
   "source": [
    "df.head()"
   ]
  },
  {
   "cell_type": "markdown",
   "metadata": {},
   "source": [
    "#### __Exercise prompt__ - Now you use the method `.tail()` on your data to see the first 5 rows of the dataset."
   ]
  },
  {
   "cell_type": "code",
   "execution_count": null,
   "metadata": {},
   "outputs": [],
   "source": []
  },
  {
   "cell_type": "markdown",
   "metadata": {},
   "source": [
    "One other thing we can do to inspect our dataset and make sure it was imported successfully is to look at the shape of it."
   ]
  },
  {
   "cell_type": "code",
   "execution_count": 4,
   "metadata": {},
   "outputs": [
    {
     "data": {
      "text/plain": [
       "(454, 30)"
      ]
     },
     "execution_count": 4,
     "metadata": {},
     "output_type": "execute_result"
    }
   ],
   "source": [
    "df.shape"
   ]
  },
  {
   "cell_type": "code",
   "execution_count": 5,
   "metadata": {},
   "outputs": [
    {
     "name": "stdout",
     "output_type": "stream",
     "text": [
      "<class 'pandas.core.frame.DataFrame'>\n",
      "RangeIndex: 454 entries, 0 to 453\n",
      "Data columns (total 30 columns):\n",
      "Activity Type               454 non-null object\n",
      "Date                        454 non-null object\n",
      "Favorite                    454 non-null bool\n",
      "Title                       454 non-null object\n",
      "Distance                    454 non-null float64\n",
      "Calories                    454 non-null object\n",
      "Time                        454 non-null object\n",
      "Avg HR                      454 non-null int64\n",
      "Max HR                      454 non-null int64\n",
      "Aerobic TE                  454 non-null object\n",
      "Avg Run Cadence             454 non-null object\n",
      "Max Run Cadence             454 non-null object\n",
      "Avg Pace                    454 non-null object\n",
      "Best Pace                   454 non-null object\n",
      "Elev Gain                   454 non-null object\n",
      "Elev Loss                   454 non-null object\n",
      "Avg Stride Length           454 non-null float64\n",
      "Avg Vertical Ratio          454 non-null float64\n",
      "Avg Vertical Oscillation    454 non-null float64\n",
      "Training Stress Score®      454 non-null float64\n",
      "Grit                        454 non-null float64\n",
      "Flow                        454 non-null float64\n",
      "Climb Time                  454 non-null object\n",
      "Bottom Time                 454 non-null object\n",
      "Min Temp                    454 non-null float64\n",
      "Surface Interval            454 non-null object\n",
      "Decompression               454 non-null object\n",
      "Best Lap Time               454 non-null object\n",
      "Number of Runs              454 non-null object\n",
      "Max Temp                    454 non-null float64\n",
      "dtypes: bool(1), float64(9), int64(2), object(18)\n",
      "memory usage: 103.4+ KB\n"
     ]
    }
   ],
   "source": [
    "# Let's first have a look at our dataset\n",
    "df.info()"
   ]
  },
  {
   "cell_type": "code",
   "execution_count": 6,
   "metadata": {},
   "outputs": [
    {
     "data": {
      "text/html": [
       "<div>\n",
       "<style scoped>\n",
       "    .dataframe tbody tr th:only-of-type {\n",
       "        vertical-align: middle;\n",
       "    }\n",
       "\n",
       "    .dataframe tbody tr th {\n",
       "        vertical-align: top;\n",
       "    }\n",
       "\n",
       "    .dataframe thead th {\n",
       "        text-align: right;\n",
       "    }\n",
       "</style>\n",
       "<table border=\"1\" class=\"dataframe\">\n",
       "  <thead>\n",
       "    <tr style=\"text-align: right;\">\n",
       "      <th></th>\n",
       "      <th>Distance</th>\n",
       "      <th>Avg HR</th>\n",
       "      <th>Max HR</th>\n",
       "      <th>Avg Stride Length</th>\n",
       "      <th>Avg Vertical Ratio</th>\n",
       "      <th>Avg Vertical Oscillation</th>\n",
       "      <th>Training Stress Score®</th>\n",
       "      <th>Grit</th>\n",
       "      <th>Flow</th>\n",
       "      <th>Min Temp</th>\n",
       "      <th>Max Temp</th>\n",
       "    </tr>\n",
       "  </thead>\n",
       "  <tbody>\n",
       "    <tr>\n",
       "      <td>count</td>\n",
       "      <td>454.000000</td>\n",
       "      <td>454.000000</td>\n",
       "      <td>454.000000</td>\n",
       "      <td>454.000000</td>\n",
       "      <td>454.0</td>\n",
       "      <td>454.0</td>\n",
       "      <td>454.0</td>\n",
       "      <td>454.0</td>\n",
       "      <td>454.0</td>\n",
       "      <td>454.000000</td>\n",
       "      <td>454.0</td>\n",
       "    </tr>\n",
       "    <tr>\n",
       "      <td>mean</td>\n",
       "      <td>1.549229</td>\n",
       "      <td>126.618943</td>\n",
       "      <td>146.788546</td>\n",
       "      <td>0.696938</td>\n",
       "      <td>0.0</td>\n",
       "      <td>0.0</td>\n",
       "      <td>0.0</td>\n",
       "      <td>0.0</td>\n",
       "      <td>0.0</td>\n",
       "      <td>78.240969</td>\n",
       "      <td>0.0</td>\n",
       "    </tr>\n",
       "    <tr>\n",
       "      <td>std</td>\n",
       "      <td>1.100382</td>\n",
       "      <td>22.570717</td>\n",
       "      <td>21.611751</td>\n",
       "      <td>0.570507</td>\n",
       "      <td>0.0</td>\n",
       "      <td>0.0</td>\n",
       "      <td>0.0</td>\n",
       "      <td>0.0</td>\n",
       "      <td>0.0</td>\n",
       "      <td>5.903790</td>\n",
       "      <td>0.0</td>\n",
       "    </tr>\n",
       "    <tr>\n",
       "      <td>min</td>\n",
       "      <td>0.000000</td>\n",
       "      <td>70.000000</td>\n",
       "      <td>82.000000</td>\n",
       "      <td>0.000000</td>\n",
       "      <td>0.0</td>\n",
       "      <td>0.0</td>\n",
       "      <td>0.0</td>\n",
       "      <td>0.0</td>\n",
       "      <td>0.0</td>\n",
       "      <td>55.400000</td>\n",
       "      <td>0.0</td>\n",
       "    </tr>\n",
       "    <tr>\n",
       "      <td>25%</td>\n",
       "      <td>0.830000</td>\n",
       "      <td>105.250000</td>\n",
       "      <td>129.000000</td>\n",
       "      <td>0.000000</td>\n",
       "      <td>0.0</td>\n",
       "      <td>0.0</td>\n",
       "      <td>0.0</td>\n",
       "      <td>0.0</td>\n",
       "      <td>0.0</td>\n",
       "      <td>75.200000</td>\n",
       "      <td>0.0</td>\n",
       "    </tr>\n",
       "    <tr>\n",
       "      <td>50%</td>\n",
       "      <td>1.030000</td>\n",
       "      <td>134.000000</td>\n",
       "      <td>151.000000</td>\n",
       "      <td>1.060000</td>\n",
       "      <td>0.0</td>\n",
       "      <td>0.0</td>\n",
       "      <td>0.0</td>\n",
       "      <td>0.0</td>\n",
       "      <td>0.0</td>\n",
       "      <td>77.000000</td>\n",
       "      <td>0.0</td>\n",
       "    </tr>\n",
       "    <tr>\n",
       "      <td>75%</td>\n",
       "      <td>2.050000</td>\n",
       "      <td>146.000000</td>\n",
       "      <td>164.000000</td>\n",
       "      <td>1.170000</td>\n",
       "      <td>0.0</td>\n",
       "      <td>0.0</td>\n",
       "      <td>0.0</td>\n",
       "      <td>0.0</td>\n",
       "      <td>0.0</td>\n",
       "      <td>82.400000</td>\n",
       "      <td>0.0</td>\n",
       "    </tr>\n",
       "    <tr>\n",
       "      <td>max</td>\n",
       "      <td>4.690000</td>\n",
       "      <td>164.000000</td>\n",
       "      <td>190.000000</td>\n",
       "      <td>2.030000</td>\n",
       "      <td>0.0</td>\n",
       "      <td>0.0</td>\n",
       "      <td>0.0</td>\n",
       "      <td>0.0</td>\n",
       "      <td>0.0</td>\n",
       "      <td>96.800000</td>\n",
       "      <td>0.0</td>\n",
       "    </tr>\n",
       "  </tbody>\n",
       "</table>\n",
       "</div>"
      ],
      "text/plain": [
       "         Distance      Avg HR      Max HR  Avg Stride Length  \\\n",
       "count  454.000000  454.000000  454.000000         454.000000   \n",
       "mean     1.549229  126.618943  146.788546           0.696938   \n",
       "std      1.100382   22.570717   21.611751           0.570507   \n",
       "min      0.000000   70.000000   82.000000           0.000000   \n",
       "25%      0.830000  105.250000  129.000000           0.000000   \n",
       "50%      1.030000  134.000000  151.000000           1.060000   \n",
       "75%      2.050000  146.000000  164.000000           1.170000   \n",
       "max      4.690000  164.000000  190.000000           2.030000   \n",
       "\n",
       "       Avg Vertical Ratio  Avg Vertical Oscillation  Training Stress Score®  \\\n",
       "count               454.0                     454.0                   454.0   \n",
       "mean                  0.0                       0.0                     0.0   \n",
       "std                   0.0                       0.0                     0.0   \n",
       "min                   0.0                       0.0                     0.0   \n",
       "25%                   0.0                       0.0                     0.0   \n",
       "50%                   0.0                       0.0                     0.0   \n",
       "75%                   0.0                       0.0                     0.0   \n",
       "max                   0.0                       0.0                     0.0   \n",
       "\n",
       "        Grit   Flow    Min Temp  Max Temp  \n",
       "count  454.0  454.0  454.000000     454.0  \n",
       "mean     0.0    0.0   78.240969       0.0  \n",
       "std      0.0    0.0    5.903790       0.0  \n",
       "min      0.0    0.0   55.400000       0.0  \n",
       "25%      0.0    0.0   75.200000       0.0  \n",
       "50%      0.0    0.0   77.000000       0.0  \n",
       "75%      0.0    0.0   82.400000       0.0  \n",
       "max      0.0    0.0   96.800000       0.0  "
      ]
     },
     "execution_count": 6,
     "metadata": {},
     "output_type": "execute_result"
    }
   ],
   "source": [
    "df.describe()"
   ]
  },
  {
   "cell_type": "markdown",
   "metadata": {},
   "source": [
    "### 5. Data Cleaning / Preparation for analysis"
   ]
  },
  {
   "cell_type": "markdown",
   "metadata": {},
   "source": [
    "Let's start by having a look at the columns of our dataframe. We can accomplish this by calling the attribute `.columns` on our dataframe."
   ]
  },
  {
   "cell_type": "code",
   "execution_count": 21,
   "metadata": {},
   "outputs": [
    {
     "data": {
      "text/plain": [
       "Index(['Activity Type', 'Date', 'Favorite', 'Title', 'Distance', 'Calories',\n",
       "       'Time', 'Avg HR', 'Max HR', 'Aerobic TE', 'Avg Run Cadence',\n",
       "       'Max Run Cadence', 'Avg Pace', 'Best Pace', 'Elev Gain', 'Elev Loss',\n",
       "       'Avg Stride Length', 'Avg Vertical Ratio', 'Avg Vertical Oscillation',\n",
       "       'Training Stress Score®', 'Grit', 'Flow', 'Climb Time', 'Bottom Time',\n",
       "       'Min Temp', 'Surface Interval', 'Decompression', 'Best Lap Time',\n",
       "       'Number of Runs', 'Max Temp'],\n",
       "      dtype='object')"
      ]
     },
     "execution_count": 21,
     "metadata": {},
     "output_type": "execute_result"
    }
   ],
   "source": [
    "df.columns"
   ]
  },
  {
   "cell_type": "markdown",
   "metadata": {},
   "source": [
    "The name of the variables in any dataset can often come with spaces and some uppercase letters that might make it harder to interact with them individually. I find it useful to convert these to lower case and substitute the space with an underscore, so let's do that next.\n",
    "\n",
    "To access an array that comes from a dataframe and has strings in it, we need to tell python that we are accessing strings with the `.str` attribute, and the use a the method `.replace()` with the first argument beign what we want to replace and the second what we want to replace it with. In our case, we want to replace the space `' '` with and underscore `'_'`.\n",
    "\n",
    "NOTE: notice the subtle differences between attributes and methods of an object, the former does not need `()` at the end as it does't need any arguments, and latter does require a set of `()` as it does require arguments."
   ]
  },
  {
   "cell_type": "code",
   "execution_count": 22,
   "metadata": {},
   "outputs": [],
   "source": [
    "df.columns = df.columns.str.lower().str.replace(' ', '_')"
   ]
  },
  {
   "cell_type": "markdown",
   "metadata": {},
   "source": [
    "Let's examine our columns to make sure we changed all of our variable names."
   ]
  },
  {
   "cell_type": "code",
   "execution_count": 23,
   "metadata": {},
   "outputs": [
    {
     "data": {
      "text/plain": [
       "Index(['activity_type', 'date', 'favorite', 'title', 'distance', 'calories',\n",
       "       'time', 'avg_hr', 'max_hr', 'aerobic_te', 'avg_run_cadence',\n",
       "       'max_run_cadence', 'avg_pace', 'best_pace', 'elev_gain', 'elev_loss',\n",
       "       'avg_stride_length', 'avg_vertical_ratio', 'avg_vertical_oscillation',\n",
       "       'training_stress_score®', 'grit', 'flow', 'climb_time', 'bottom_time',\n",
       "       'min_temp', 'surface_interval', 'decompression', 'best_lap_time',\n",
       "       'number_of_runs', 'max_temp'],\n",
       "      dtype='object')"
      ]
     },
     "execution_count": 23,
     "metadata": {},
     "output_type": "execute_result"
    }
   ],
   "source": [
    "df.columns"
   ]
  },
  {
   "cell_type": "markdown",
   "metadata": {},
   "source": [
    "If you noticed earlier when you used the `.tail()` method on your dataframe, we have values that are not useful for any type of calcualtion. These are `\"--\"` and we should change them to the more conventional `np.nan` values, which is consider \"Not a Number.\""
   ]
  },
  {
   "cell_type": "code",
   "execution_count": null,
   "metadata": {},
   "outputs": [],
   "source": [
    "df.replace('--', np.nan, inplace=True)"
   ]
  },
  {
   "cell_type": "code",
   "execution_count": null,
   "metadata": {},
   "outputs": [],
   "source": [
    "df.tail()"
   ]
  },
  {
   "cell_type": "code",
   "execution_count": null,
   "metadata": {},
   "outputs": [],
   "source": [
    "df.drop(['avg_vertical_ratio', 'avg_vertical_oscillation',\n",
    "         'training_stress_score®', 'grit', 'flow', 'favorite',\n",
    "         'bottom_time', 'surface_interval', 'best_lap_time', \n",
    "         'max_temp', 'decompression'], axis=1, inplace=True)"
   ]
  },
  {
   "cell_type": "code",
   "execution_count": null,
   "metadata": {},
   "outputs": [],
   "source": [
    "df.shape"
   ]
  },
  {
   "cell_type": "code",
   "execution_count": null,
   "metadata": {},
   "outputs": [],
   "source": [
    "type(df['time'].iloc[1])"
   ]
  },
  {
   "cell_type": "code",
   "execution_count": null,
   "metadata": {},
   "outputs": [],
   "source": [
    "df['date'] = pd.to_datetime(df['date'])\n",
    "df['date'].dt.year.value_counts()"
   ]
  },
  {
   "cell_type": "code",
   "execution_count": null,
   "metadata": {},
   "outputs": [],
   "source": [
    "df.info()"
   ]
  },
  {
   "cell_type": "code",
   "execution_count": null,
   "metadata": {},
   "outputs": [],
   "source": [
    "df['calories'] = pd.to_numeric(df['calories'])\n",
    "df['aerobic_te'] = pd.to_numeric(df['aerobic_te'])\n",
    "df['avg_run_cadence'] = pd.to_numeric(df['avg_run_cadence'])\n",
    "df['max_run_cadence'] = pd.to_numeric(df['max_run_cadence'])\n",
    "df['number_of_runs'] = pd.to_numeric(df['number_of_runs'])"
   ]
  },
  {
   "cell_type": "code",
   "execution_count": null,
   "metadata": {},
   "outputs": [],
   "source": [
    "df['month'] = df['date'].dt.month\n",
    "df['year'] = df['date'].dt.year\n",
    "df['week'] = df['date'].dt.week\n",
    "df['weekday'] = df['date'].dt.weekday\n",
    "df['quarter'] = df['date'].dt.quarter\n",
    "df['time_exercise'] = df['date'].dt.time\n",
    "df['date_exercise'] = df['date'].dt.date\n",
    "df['day_of_week'] = df['date'].dt.weekday_name"
   ]
  },
  {
   "cell_type": "code",
   "execution_count": null,
   "metadata": {},
   "outputs": [],
   "source": [
    "time_of_day = []\n",
    "\n",
    "for i in df['time_exercise']:\n",
    "    if i > datetime.time(5, 59, 59) and i < datetime.time(12, 0, 0):\n",
    "        time_of_day.append('morning')\n",
    "    elif i > datetime.time(11, 59, 59) and i < datetime.time(18, 0, 0):\n",
    "        time_of_day.append('afternoon')\n",
    "    else:\n",
    "        time_of_day.append('night')"
   ]
  },
  {
   "cell_type": "code",
   "execution_count": null,
   "metadata": {},
   "outputs": [],
   "source": [
    "time_of_day[-5:]"
   ]
  },
  {
   "cell_type": "code",
   "execution_count": null,
   "metadata": {},
   "outputs": [],
   "source": [
    "df['time_day'] = time_of_day"
   ]
  },
  {
   "cell_type": "code",
   "execution_count": null,
   "metadata": {},
   "outputs": [],
   "source": [
    "week_or_end = []\n",
    "\n",
    "for day in df['weekday']:\n",
    "    if day >= 5:\n",
    "        week_or_end.append('weekend')\n",
    "    else:\n",
    "        week_or_end.append('week_day')\n",
    "\n",
    "week_or_end[:5]"
   ]
  },
  {
   "cell_type": "code",
   "execution_count": null,
   "metadata": {},
   "outputs": [],
   "source": [
    "df['week_or_end'] = week_or_end"
   ]
  },
  {
   "cell_type": "code",
   "execution_count": null,
   "metadata": {},
   "outputs": [],
   "source": [
    "df.head()"
   ]
  },
  {
   "cell_type": "markdown",
   "metadata": {},
   "source": [
    "### 6. Analysing and Visualising Data"
   ]
  },
  {
   "cell_type": "code",
   "execution_count": null,
   "metadata": {},
   "outputs": [],
   "source": [
    "df.mean()"
   ]
  },
  {
   "cell_type": "code",
   "execution_count": null,
   "metadata": {},
   "outputs": [],
   "source": [
    "df.pivot_table(\n",
    "    index=['week_or_end', 'time_day'],\n",
    "    columns='year',\n",
    "    values='distance',\n",
    "    aggfunc='mean'\n",
    ")"
   ]
  },
  {
   "cell_type": "code",
   "execution_count": null,
   "metadata": {},
   "outputs": [],
   "source": [
    "time_day_group = df.groupby(['time_day'])"
   ]
  },
  {
   "cell_type": "code",
   "execution_count": null,
   "metadata": {},
   "outputs": [],
   "source": [
    "time_day_group['activity_type'].value_counts()"
   ]
  },
  {
   "cell_type": "code",
   "execution_count": null,
   "metadata": {},
   "outputs": [],
   "source": [
    "time_day_group['activity_type'].value_counts(normalize=True)['night']"
   ]
  },
  {
   "cell_type": "code",
   "execution_count": null,
   "metadata": {},
   "outputs": [],
   "source": [
    "time_day_group['calories'].median()"
   ]
  },
  {
   "cell_type": "code",
   "execution_count": null,
   "metadata": {},
   "outputs": [],
   "source": [
    "time_day_group['calories'].agg(['median', 'mean', 'count'])"
   ]
  },
  {
   "cell_type": "code",
   "execution_count": null,
   "metadata": {},
   "outputs": [],
   "source": [
    "time_day_group['distance'].plot(kind='hist', title=\"Histogram of Distance\")"
   ]
  },
  {
   "cell_type": "code",
   "execution_count": null,
   "metadata": {},
   "outputs": [],
   "source": [
    "df.loc[df['year'] == 2018, 'distance'].plot.box()"
   ]
  },
  {
   "cell_type": "code",
   "execution_count": null,
   "metadata": {},
   "outputs": [],
   "source": [
    "df[['distance', 'calories']].plot.hexbin(x='calories', y='distance', gridsize=25)"
   ]
  },
  {
   "cell_type": "code",
   "execution_count": null,
   "metadata": {},
   "outputs": [],
   "source": [
    "sns.distplot(df['distance'], bins=40, kde=True)"
   ]
  },
  {
   "cell_type": "code",
   "execution_count": null,
   "metadata": {},
   "outputs": [],
   "source": [
    "sns.distplot(df['avg_hr'], bins=30, kde=False)"
   ]
  },
  {
   "cell_type": "code",
   "execution_count": null,
   "metadata": {},
   "outputs": [],
   "source": [
    "sns.jointplot(x='distance', y='calories', data=df)"
   ]
  },
  {
   "cell_type": "code",
   "execution_count": null,
   "metadata": {},
   "outputs": [],
   "source": [
    "sns.jointplot(x='distance', y='calories', data=df, kind='hex');"
   ]
  },
  {
   "cell_type": "code",
   "execution_count": null,
   "metadata": {},
   "outputs": [],
   "source": [
    "sns.jointplot(x='distance', y='calories', data=df, kind='reg')"
   ]
  },
  {
   "cell_type": "code",
   "execution_count": null,
   "metadata": {},
   "outputs": [],
   "source": [
    "sns.pairplot(df[['distance', 'calories', 'avg_hr', 'max_hr']])"
   ]
  },
  {
   "cell_type": "code",
   "execution_count": null,
   "metadata": {},
   "outputs": [],
   "source": [
    "alt.Chart(df[['avg_hr', 'max_hr', 'calories', 'distance', 'title']]).mark_circle(size=60).encode(\n",
    "    x='distance',\n",
    "    y='calories',\n",
    "    color='title',\n",
    "    tooltip=['avg_hr', 'max_hr', 'calories', 'distance', 'title']\n",
    ").interactive()"
   ]
  },
  {
   "cell_type": "code",
   "execution_count": null,
   "metadata": {},
   "outputs": [],
   "source": [
    "alt.Chart(df[['avg_hr', 'max_hr', 'calories', 'distance', 'title', 'time_day']]).mark_circle(size=60).encode(\n",
    "    x='distance',\n",
    "    y='calories',\n",
    "    color='time_day',\n",
    "    tooltip=['avg_hr', 'max_hr', 'calories', 'distance', 'title', 'time_day']\n",
    ").interactive()"
   ]
  },
  {
   "cell_type": "code",
   "execution_count": null,
   "metadata": {},
   "outputs": [],
   "source": [
    "mask = (df['calories'] == max(df['calories']))\n",
    "mask"
   ]
  },
  {
   "cell_type": "code",
   "execution_count": null,
   "metadata": {},
   "outputs": [],
   "source": [
    "today = datetime.date.today()\n",
    "today"
   ]
  },
  {
   "cell_type": "code",
   "execution_count": null,
   "metadata": {},
   "outputs": [],
   "source": [
    "difference = today - df[mask]['date_exercise']\n",
    "difference"
   ]
  },
  {
   "cell_type": "code",
   "execution_count": null,
   "metadata": {},
   "outputs": [],
   "source": [
    "difference.iloc[0].total_seconds()"
   ]
  },
  {
   "cell_type": "markdown",
   "metadata": {},
   "source": [
    "### 7. Conclusion and Next steps"
   ]
  },
  {
   "cell_type": "markdown",
   "metadata": {},
   "source": [
    "We have cover a lot of things today. From data analytics to Python, from loading data and preparing it for analysis, to actually analysing and visualising our data.\n",
    "\n",
    "As your next steps you could:\n",
    "- learn python programming fundamentals\n",
    "- learn how to clean and wrangle data prior to analysing it\n",
    "- take an in-depth data analytics course and make sure you work on your own custom analyses while doing so\n",
    "- ask for feedback\n",
    "- repeat\n",
    "\n",
    "As your next, next steps you could:\n",
    "- learn to design experiments on and off-line\n",
    "- learn more about the command line and git for version control\n",
    "- create a dashboard application\n",
    "- learn data mining / machine learning\n",
    "- move into data science\n",
    "- learn a big data framework such as [Dask](https://dask.org/) or [Spark](https://spark.apache.org/)\n",
    "\n",
    "![gracias](https://media.giphy.com/media/JVXU0uN1l6wdq/giphy.gif)"
   ]
  },
  {
   "cell_type": "code",
   "execution_count": null,
   "metadata": {},
   "outputs": [],
   "source": []
  }
 ],
 "metadata": {
  "kernelspec": {
   "display_name": "Python 3",
   "language": "python",
   "name": "python3"
  },
  "language_info": {
   "codemirror_mode": {
    "name": "ipython",
    "version": 3
   },
   "file_extension": ".py",
   "mimetype": "text/x-python",
   "name": "python",
   "nbconvert_exporter": "python",
   "pygments_lexer": "ipython3",
   "version": "3.7.4"
  }
 },
 "nbformat": 4,
 "nbformat_minor": 4
}
