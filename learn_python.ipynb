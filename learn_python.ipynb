{
 "cells": [
  {
   "cell_type": "markdown",
   "metadata": {},
   "source": [
    "# <center> <h1>Welcome to Intro to Data Analytics</h1> </center>"
   ]
  },
  {
   "cell_type": "markdown",
   "metadata": {},
   "source": [
    "![data analytics](https://ofdataanalytics.com/wp-content/uploads/2019/08/Screenshot-2019-08-22-at-22.15.17.png)"
   ]
  },
  {
   "cell_type": "markdown",
   "metadata": {},
   "source": [
    "You have probably heard of, and maybe even researched on your own, terms such as data analytics, data sciece, machine learning, deep learning, artificial intelligence, data mining, the list goes on, and wonder what's the big fuzz about these new terms and/or how does one get started in roles involving these (forgive the buzz) words. Whale 🐳, let's cover these on a high level and move on to the very beginnig, or the core skill one would need in order to jump into roles with these terms, __data analysis__."
   ]
  },
  {
   "cell_type": "markdown",
   "metadata": {},
   "source": [
    "> \"This is my favorite part about analytics: Taking boring flat data and bringing it to life through visualization.\" ~ John Tukey"
   ]
  },
  {
   "cell_type": "markdown",
   "metadata": {},
   "source": [
    "## Outline 4 Today"
   ]
  },
  {
   "cell_type": "markdown",
   "metadata": {},
   "source": [
    "1. What is Data Analytics, what is a data analyst, and what does the Data Analytics Cycle?\n",
    "2. What is Python and why is it so popular?\n",
    "3. Coming up with an idea or project\n",
    "4. Getting the data we'll need\n",
    "5. Preparing the data for analysis\n",
    "6. Analysing and visualising data\n",
    "7. Next steps"
   ]
  },
  {
   "cell_type": "markdown",
   "metadata": {},
   "source": [
    "### 1. What is Data Analytics, what is a data analyst, and what does the Data Analytics Cycle?"
   ]
  },
  {
   "cell_type": "markdown",
   "metadata": {},
   "source": [
    "Blurb\n",
    "\n",
    "- Data Analytics\n",
    "- Data Analyst\n",
    "- Data Analytics Cycle"
   ]
  },
  {
   "cell_type": "markdown",
   "metadata": {},
   "source": [
    "### 2. What is Python and why is it so popular?"
   ]
  },
  {
   "cell_type": "markdown",
   "metadata": {},
   "source": [
    "Earlier we mentioend that Python can be thought of as a person, we are very cool the way we are but to interact more efficiently we make use of \"add-ons.\" These may be clothes, shoes, accessories, slang words, "
   ]
  },
  {
   "cell_type": "markdown",
   "metadata": {},
   "source": [
    "Packages we will use today:\n",
    "- pandas\n",
    "- numpy\n",
    "- matplotlib\n",
    "- seaborn\n",
    "- datetime\n",
    "- altair"
   ]
  },
  {
   "cell_type": "markdown",
   "metadata": {},
   "source": [
    "### 3. Coming up with an idea or project"
   ]
  },
  {
   "cell_type": "markdown",
   "metadata": {},
   "source": [
    "Let's first come up with a good scenario for our data analytics project. After all, we can't just get down to analysing data without having at least a bit of context as to what we would like to do with the data and what are we hoping to find.\n",
    "\n",
    "#### I. The Scenario\n",
    "\n",
    "Say you have always exercised at least 5 days a week, or that since last year, as your New Year's resolution, you chose to exercise for at least 5 days a week throughout the entire year. This being a completely novel endeavor for you, something no one else picks during New Year's (😎), you decide it would good to also track your progress throughout your journey, so you get a smart watch to aid you in this regard.\n",
    "\n",
    "You start noticing how most of the apps you use and websites you visit all gather a lot of data about you. Netflix captures your taste of movie for any given day and time. Facebook know which kinds of posts you like the most, and has a good sense regarding your political inclinations based on the things you post. Amazon always seems to know what to recommend you to buy (and crap, it seems to work). Now you start getting curious about all of the data your smartwatch might have about you so you decide that it is time to take control of your own data before others analyse it for you.\n",
    "\n",
    "- __Me on Week 1__\n",
    "\n",
    "![week1](https://media.giphy.com/media/13Lwn87rxZSUVi/giphy.gif)\n",
    "\n",
    "#### II. The Task\n",
    "\n",
    "Now that we have a decided to do something with our data, let's put this into a general list of tasks we'd like to take on.\n",
    "\n",
    "1. Get the data out of wherever our smartwatch is keeping it at.\n",
    "2. Prepare it for analysis.\n",
    "3. Analyse it.\n",
    "4. Think of questions/hypotheses you might want test.\n",
    "5. Write down your findings.\n",
    "6. Improve your analysis by collecting some feedback and\n",
    "7. prepare your code for future use.\n",
    "\n",
    "- __Me around Valentine's Day__\n",
    "\n",
    "![Exercise](https://media.giphy.com/media/mb8QpqfFX4CtO/giphy.gif)\n",
    "\n"
   ]
  },
  {
   "cell_type": "markdown",
   "metadata": {},
   "source": [
    "### 4. Getting the data we'll need"
   ]
  },
  {
   "cell_type": "markdown",
   "metadata": {},
   "source": [
    "![get data](https://media.giphy.com/media/8qrrHSsrK9xpknGVNF/giphy.gif)"
   ]
  },
  {
   "cell_type": "markdown",
   "metadata": {},
   "source": [
    "Now that we have our task somewhat defined, we can move on to gathering the data we will need for our project.\n",
    "\n",
    "Depending on which smartwatch or smartphone you have, there will be different ways to access your data. I will cover two here but you are by no means limited by these tools. In fact, I would strongly encourage you to get the data for your own tool and begin your data analytics journey by analysing your own data.\n",
    "\n",
    "- __Garmin__\n",
    "    1. Go to [__Garmin Connect__](https://connect.garmin.com/signin)\n",
    "    2. Sign in with your username and password\n",
    "    3. Go to the activities section and click on __`All Activities`__\n",
    "    4. Exporting the data gets a bit tricky here because Garmin will only export items that have already loaded, so in order to get all of your data, scroll all the way down to the very end of all of your activities.\n",
    "    5. Once you reach the last one, click on the __`Export CSV`__ button at the top right hand corner. You will see a __`Activities.csv`__ file in your downloads folder.  \n",
    "    __NOTE:__ Garmin track much more data than what you will download from Garmin Connect but the format is not as user-friendly as what you would get using these steps.\n",
    "    \n",
    "- __Apple Health__\n",
    "    - First Approach\n",
    "        1. Go to the __`Health`__ app on your IPhone.\n",
    "        2. Click on your profile at the top right-hand corner.\n",
    "        3. Scroll to the very bottom and click on __`Export All Health Data`__.\n",
    "        4. A message will pop up asking you if you really want to export your own data, click Export.\n",
    "        5. Once the app finishes preparing your data, send it to your folder, email, hardrive or app of choice.\n",
    "    - Second Approach (prefer method)\n",
    "        1. Download the app called [__Workout - CSV Exporter__](https://apps.apple.com/us/app/workout-csv-exporter/id1140433100?ls=1).\n",
    "        2. Select the kind of workouts you would like to export.\n",
    "        3. The app will also only download what it has currently loaded so make sure you scroll down all the way to the bottom to download the page before you proceed to export your data.\n",
    "        4. Click on the share icon at the top and select how you would like to export your data.\n",
    "     "
   ]
  },
  {
   "cell_type": "markdown",
   "metadata": {},
   "source": [
    "In order to use data in Python, we first need a couple of things to help us read it into memory. Just like humans have tools to build houses, skycrapers, airplanes, and more, Python has tools for data analytics that can enhance our productivity in extraordinary ways. The python packages `pandas`, `numpy`, `matplotlib`, and `seaborn` are some of the tools that will make our work much easier today as we put on our detective hats on.\n",
    "\n",
    "Let's begin by loading these for packages first. To do this we will need to use the `import` command which tells Python that we want to bring in an object from our storage into our environment (a.k.a. this notebook we are working on 🤓)."
   ]
  },
  {
   "cell_type": "code",
   "execution_count": null,
   "metadata": {},
   "outputs": [],
   "source": [
    "# Import your packages below\n",
    "import pandas as pd\n",
    "import numpy as np\n",
    "import matplotlib.pyplot as plt\n",
    "import seaborn as sns\n",
    "\n",
    "%matplotlib inline"
   ]
  },
  {
   "cell_type": "markdown",
   "metadata": {},
   "source": [
    "Another thing you will notice is that as we imported our packages into memory "
   ]
  },
  {
   "cell_type": "markdown",
   "metadata": {},
   "source": []
  },
  {
   "cell_type": "code",
   "execution_count": null,
   "metadata": {},
   "outputs": [],
   "source": [
    "# Let's first get the data we will need to solve our problem\n",
    "W"
   ]
  },
  {
   "cell_type": "markdown",
   "metadata": {},
   "source": [
    "### 5. Preparing the data for analysis"
   ]
  },
  {
   "cell_type": "markdown",
   "metadata": {},
   "source": [
    "### 6. Analysing and visualising data"
   ]
  },
  {
   "cell_type": "markdown",
   "metadata": {},
   "source": [
    "### 7. Next steps"
   ]
  },
  {
   "cell_type": "code",
   "execution_count": null,
   "metadata": {},
   "outputs": [],
   "source": []
  }
 ],
 "metadata": {
  "kernelspec": {
   "display_name": "Python 3",
   "language": "python",
   "name": "python3"
  },
  "language_info": {
   "codemirror_mode": {
    "name": "ipython",
    "version": 3
   },
   "file_extension": ".py",
   "mimetype": "text/x-python",
   "name": "python",
   "nbconvert_exporter": "python",
   "pygments_lexer": "ipython3",
   "version": "3.7.4"
  }
 },
 "nbformat": 4,
 "nbformat_minor": 4
}
