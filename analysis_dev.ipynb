{
 "cells": [
  {
   "cell_type": "markdown",
   "metadata": {},
   "source": [
    "# Analysis Development Notebook"
   ]
  },
  {
   "cell_type": "markdown",
   "metadata": {},
   "source": [
    "Python is a great tool for analysing data and what makes it even better is the fact that analysts, developers, scientists, etc., have contributed their code in the form of packages so that we don't have to build things from scratch every single time we analyse data."
   ]
  },
  {
   "cell_type": "code",
   "execution_count": 12,
   "metadata": {},
   "outputs": [],
   "source": [
    "import pandas as pd\n",
    "import numpy as np\n",
    "import matplotlib.pyplot as plt\n",
    "import seaborn as sns\n",
    "sns.set()\n",
    "import datetime\n",
    "import altair as alt\n",
    "pd.set_option('display.max_columns', None)\n",
    "\n",
    "%matplotlib inline"
   ]
  },
  {
   "cell_type": "markdown",
   "metadata": {},
   "source": [
    "## 1. Collecting Data"
   ]
  },
  {
   "cell_type": "markdown",
   "metadata": {},
   "source": [
    "A common way to load your data as is as `df`, which stads for __dataframe__. You can think of a dataframe as a spreadsheet document such as Microsoft Excel or Google Sheets.\n",
    "\n",
    "The python package called pandas has many useful tools to help us manipulate spreadsheet-like objects (a.k.a. dataframes)."
   ]
  },
  {
   "cell_type": "code",
   "execution_count": 18,
   "metadata": {},
   "outputs": [],
   "source": [
    "df = pd.read_csv(\"https://raw.githubusercontent.com/ramonprz01/codevelop-march-2020/master/data/activities_data.csv\")"
   ]
  },
  {
   "cell_type": "markdown",
   "metadata": {},
   "source": [
    "We always want to make sure the dataset was loaded into memory corrently and also see if we can spot some inconsistencies right off the bat. We can do that "
   ]
  },
  {
   "cell_type": "code",
   "execution_count": 19,
   "metadata": {},
   "outputs": [
    {
     "data": {
      "text/html": [
       "<div>\n",
       "<style scoped>\n",
       "    .dataframe tbody tr th:only-of-type {\n",
       "        vertical-align: middle;\n",
       "    }\n",
       "\n",
       "    .dataframe tbody tr th {\n",
       "        vertical-align: top;\n",
       "    }\n",
       "\n",
       "    .dataframe thead th {\n",
       "        text-align: right;\n",
       "    }\n",
       "</style>\n",
       "<table border=\"1\" class=\"dataframe\">\n",
       "  <thead>\n",
       "    <tr style=\"text-align: right;\">\n",
       "      <th></th>\n",
       "      <th>Activity Type</th>\n",
       "      <th>Date</th>\n",
       "      <th>Favorite</th>\n",
       "      <th>Title</th>\n",
       "      <th>Distance</th>\n",
       "      <th>Calories</th>\n",
       "      <th>Time</th>\n",
       "      <th>Avg HR</th>\n",
       "      <th>Max HR</th>\n",
       "      <th>Aerobic TE</th>\n",
       "      <th>Avg Run Cadence</th>\n",
       "      <th>Max Run Cadence</th>\n",
       "      <th>Avg Pace</th>\n",
       "      <th>Best Pace</th>\n",
       "      <th>Elev Gain</th>\n",
       "      <th>Elev Loss</th>\n",
       "      <th>Avg Stride Length</th>\n",
       "      <th>Avg Vertical Ratio</th>\n",
       "      <th>Avg Vertical Oscillation</th>\n",
       "      <th>Training Stress Score®</th>\n",
       "      <th>Grit</th>\n",
       "      <th>Flow</th>\n",
       "      <th>Climb Time</th>\n",
       "      <th>Bottom Time</th>\n",
       "      <th>Min Temp</th>\n",
       "      <th>Surface Interval</th>\n",
       "      <th>Decompression</th>\n",
       "      <th>Best Lap Time</th>\n",
       "      <th>Number of Runs</th>\n",
       "      <th>Max Temp</th>\n",
       "    </tr>\n",
       "  </thead>\n",
       "  <tbody>\n",
       "    <tr>\n",
       "      <td>0</td>\n",
       "      <td>Running</td>\n",
       "      <td>2020-03-15 18:36:50</td>\n",
       "      <td>False</td>\n",
       "      <td>Sydney Running</td>\n",
       "      <td>2.38</td>\n",
       "      <td>317</td>\n",
       "      <td>00:19:31</td>\n",
       "      <td>155</td>\n",
       "      <td>182</td>\n",
       "      <td>3.4</td>\n",
       "      <td>166</td>\n",
       "      <td>183</td>\n",
       "      <td>8:13</td>\n",
       "      <td>6:48</td>\n",
       "      <td>141</td>\n",
       "      <td>174</td>\n",
       "      <td>1.18</td>\n",
       "      <td>0.0</td>\n",
       "      <td>0.0</td>\n",
       "      <td>0.0</td>\n",
       "      <td>0.0</td>\n",
       "      <td>0.0</td>\n",
       "      <td>0:00</td>\n",
       "      <td>0:00</td>\n",
       "      <td>68.0</td>\n",
       "      <td>0:00</td>\n",
       "      <td>No</td>\n",
       "      <td>03:02.70</td>\n",
       "      <td>3</td>\n",
       "      <td>0.0</td>\n",
       "    </tr>\n",
       "    <tr>\n",
       "      <td>1</td>\n",
       "      <td>Running</td>\n",
       "      <td>2020-03-11 18:26:18</td>\n",
       "      <td>False</td>\n",
       "      <td>Sydney Running</td>\n",
       "      <td>4.09</td>\n",
       "      <td>550</td>\n",
       "      <td>00:33:29</td>\n",
       "      <td>158</td>\n",
       "      <td>171</td>\n",
       "      <td>4.0</td>\n",
       "      <td>166</td>\n",
       "      <td>181</td>\n",
       "      <td>8:11</td>\n",
       "      <td>6:48</td>\n",
       "      <td>226</td>\n",
       "      <td>256</td>\n",
       "      <td>1.18</td>\n",
       "      <td>0.0</td>\n",
       "      <td>0.0</td>\n",
       "      <td>0.0</td>\n",
       "      <td>0.0</td>\n",
       "      <td>0.0</td>\n",
       "      <td>0:00</td>\n",
       "      <td>0:00</td>\n",
       "      <td>71.6</td>\n",
       "      <td>0:00</td>\n",
       "      <td>No</td>\n",
       "      <td>00:53.73</td>\n",
       "      <td>5</td>\n",
       "      <td>0.0</td>\n",
       "    </tr>\n",
       "    <tr>\n",
       "      <td>2</td>\n",
       "      <td>Running</td>\n",
       "      <td>2020-03-08 17:48:07</td>\n",
       "      <td>False</td>\n",
       "      <td>Sydney Running</td>\n",
       "      <td>2.82</td>\n",
       "      <td>336</td>\n",
       "      <td>00:21:16</td>\n",
       "      <td>150</td>\n",
       "      <td>168</td>\n",
       "      <td>3.3</td>\n",
       "      <td>167</td>\n",
       "      <td>195</td>\n",
       "      <td>7:32</td>\n",
       "      <td>5:44</td>\n",
       "      <td>128</td>\n",
       "      <td>190</td>\n",
       "      <td>1.28</td>\n",
       "      <td>0.0</td>\n",
       "      <td>0.0</td>\n",
       "      <td>0.0</td>\n",
       "      <td>0.0</td>\n",
       "      <td>0.0</td>\n",
       "      <td>0:00</td>\n",
       "      <td>0:00</td>\n",
       "      <td>71.6</td>\n",
       "      <td>0:00</td>\n",
       "      <td>No</td>\n",
       "      <td>06:12.32</td>\n",
       "      <td>3</td>\n",
       "      <td>0.0</td>\n",
       "    </tr>\n",
       "    <tr>\n",
       "      <td>3</td>\n",
       "      <td>Running</td>\n",
       "      <td>2020-03-04 18:41:53</td>\n",
       "      <td>False</td>\n",
       "      <td>Sydney Running</td>\n",
       "      <td>1.00</td>\n",
       "      <td>117</td>\n",
       "      <td>00:08:24.7</td>\n",
       "      <td>136</td>\n",
       "      <td>148</td>\n",
       "      <td>2.0</td>\n",
       "      <td>160</td>\n",
       "      <td>175</td>\n",
       "      <td>8:24</td>\n",
       "      <td>7:37</td>\n",
       "      <td>39</td>\n",
       "      <td>62</td>\n",
       "      <td>1.19</td>\n",
       "      <td>0.0</td>\n",
       "      <td>0.0</td>\n",
       "      <td>0.0</td>\n",
       "      <td>0.0</td>\n",
       "      <td>0.0</td>\n",
       "      <td>0:00</td>\n",
       "      <td>0:00</td>\n",
       "      <td>77.0</td>\n",
       "      <td>0:00</td>\n",
       "      <td>No</td>\n",
       "      <td>00:00.46</td>\n",
       "      <td>2</td>\n",
       "      <td>0.0</td>\n",
       "    </tr>\n",
       "    <tr>\n",
       "      <td>4</td>\n",
       "      <td>Running</td>\n",
       "      <td>2020-02-29 15:55:38</td>\n",
       "      <td>False</td>\n",
       "      <td>Sydney Running</td>\n",
       "      <td>2.80</td>\n",
       "      <td>347</td>\n",
       "      <td>00:22:17</td>\n",
       "      <td>150</td>\n",
       "      <td>170</td>\n",
       "      <td>3.4</td>\n",
       "      <td>166</td>\n",
       "      <td>213</td>\n",
       "      <td>7:58</td>\n",
       "      <td>6:38</td>\n",
       "      <td>135</td>\n",
       "      <td>187</td>\n",
       "      <td>1.22</td>\n",
       "      <td>0.0</td>\n",
       "      <td>0.0</td>\n",
       "      <td>0.0</td>\n",
       "      <td>0.0</td>\n",
       "      <td>0.0</td>\n",
       "      <td>0:00</td>\n",
       "      <td>0:00</td>\n",
       "      <td>80.6</td>\n",
       "      <td>0:00</td>\n",
       "      <td>No</td>\n",
       "      <td>06:13.66</td>\n",
       "      <td>3</td>\n",
       "      <td>0.0</td>\n",
       "    </tr>\n",
       "  </tbody>\n",
       "</table>\n",
       "</div>"
      ],
      "text/plain": [
       "  Activity Type                 Date  Favorite           Title  Distance  \\\n",
       "0       Running  2020-03-15 18:36:50     False  Sydney Running      2.38   \n",
       "1       Running  2020-03-11 18:26:18     False  Sydney Running      4.09   \n",
       "2       Running  2020-03-08 17:48:07     False  Sydney Running      2.82   \n",
       "3       Running  2020-03-04 18:41:53     False  Sydney Running      1.00   \n",
       "4       Running  2020-02-29 15:55:38     False  Sydney Running      2.80   \n",
       "\n",
       "  Calories        Time  Avg HR  Max HR Aerobic TE Avg Run Cadence  \\\n",
       "0      317    00:19:31     155     182        3.4             166   \n",
       "1      550    00:33:29     158     171        4.0             166   \n",
       "2      336    00:21:16     150     168        3.3             167   \n",
       "3      117  00:08:24.7     136     148        2.0             160   \n",
       "4      347    00:22:17     150     170        3.4             166   \n",
       "\n",
       "  Max Run Cadence Avg Pace Best Pace Elev Gain Elev Loss  Avg Stride Length  \\\n",
       "0             183     8:13      6:48       141       174               1.18   \n",
       "1             181     8:11      6:48       226       256               1.18   \n",
       "2             195     7:32      5:44       128       190               1.28   \n",
       "3             175     8:24      7:37        39        62               1.19   \n",
       "4             213     7:58      6:38       135       187               1.22   \n",
       "\n",
       "   Avg Vertical Ratio  Avg Vertical Oscillation  Training Stress Score®  Grit  \\\n",
       "0                 0.0                       0.0                     0.0   0.0   \n",
       "1                 0.0                       0.0                     0.0   0.0   \n",
       "2                 0.0                       0.0                     0.0   0.0   \n",
       "3                 0.0                       0.0                     0.0   0.0   \n",
       "4                 0.0                       0.0                     0.0   0.0   \n",
       "\n",
       "   Flow Climb Time Bottom Time  Min Temp Surface Interval Decompression  \\\n",
       "0   0.0       0:00        0:00      68.0             0:00            No   \n",
       "1   0.0       0:00        0:00      71.6             0:00            No   \n",
       "2   0.0       0:00        0:00      71.6             0:00            No   \n",
       "3   0.0       0:00        0:00      77.0             0:00            No   \n",
       "4   0.0       0:00        0:00      80.6             0:00            No   \n",
       "\n",
       "  Best Lap Time Number of Runs  Max Temp  \n",
       "0      03:02.70              3       0.0  \n",
       "1      00:53.73              5       0.0  \n",
       "2      06:12.32              3       0.0  \n",
       "3      00:00.46              2       0.0  \n",
       "4      06:13.66              3       0.0  "
      ]
     },
     "execution_count": 19,
     "metadata": {},
     "output_type": "execute_result"
    }
   ],
   "source": [
    "df.head()"
   ]
  },
  {
   "cell_type": "code",
   "execution_count": 20,
   "metadata": {},
   "outputs": [
    {
     "data": {
      "text/html": [
       "<div>\n",
       "<style scoped>\n",
       "    .dataframe tbody tr th:only-of-type {\n",
       "        vertical-align: middle;\n",
       "    }\n",
       "\n",
       "    .dataframe tbody tr th {\n",
       "        vertical-align: top;\n",
       "    }\n",
       "\n",
       "    .dataframe thead th {\n",
       "        text-align: right;\n",
       "    }\n",
       "</style>\n",
       "<table border=\"1\" class=\"dataframe\">\n",
       "  <thead>\n",
       "    <tr style=\"text-align: right;\">\n",
       "      <th></th>\n",
       "      <th>Activity Type</th>\n",
       "      <th>Date</th>\n",
       "      <th>Favorite</th>\n",
       "      <th>Title</th>\n",
       "      <th>Distance</th>\n",
       "      <th>Calories</th>\n",
       "      <th>Time</th>\n",
       "      <th>Avg HR</th>\n",
       "      <th>Max HR</th>\n",
       "      <th>Aerobic TE</th>\n",
       "      <th>Avg Run Cadence</th>\n",
       "      <th>Max Run Cadence</th>\n",
       "      <th>Avg Pace</th>\n",
       "      <th>Best Pace</th>\n",
       "      <th>Elev Gain</th>\n",
       "      <th>Elev Loss</th>\n",
       "      <th>Avg Stride Length</th>\n",
       "      <th>Avg Vertical Ratio</th>\n",
       "      <th>Avg Vertical Oscillation</th>\n",
       "      <th>Training Stress Score®</th>\n",
       "      <th>Grit</th>\n",
       "      <th>Flow</th>\n",
       "      <th>Climb Time</th>\n",
       "      <th>Bottom Time</th>\n",
       "      <th>Min Temp</th>\n",
       "      <th>Surface Interval</th>\n",
       "      <th>Decompression</th>\n",
       "      <th>Best Lap Time</th>\n",
       "      <th>Number of Runs</th>\n",
       "      <th>Max Temp</th>\n",
       "    </tr>\n",
       "  </thead>\n",
       "  <tbody>\n",
       "    <tr>\n",
       "      <td>449</td>\n",
       "      <td>Running</td>\n",
       "      <td>2017-10-06 11:04:11</td>\n",
       "      <td>False</td>\n",
       "      <td>Kansas City Running</td>\n",
       "      <td>4.44</td>\n",
       "      <td>608</td>\n",
       "      <td>00:44:14</td>\n",
       "      <td>141</td>\n",
       "      <td>162</td>\n",
       "      <td>3.5</td>\n",
       "      <td>157</td>\n",
       "      <td>169</td>\n",
       "      <td>9:58</td>\n",
       "      <td>7:58</td>\n",
       "      <td>144</td>\n",
       "      <td>138</td>\n",
       "      <td>1.03</td>\n",
       "      <td>0.0</td>\n",
       "      <td>0.0</td>\n",
       "      <td>0.0</td>\n",
       "      <td>0.0</td>\n",
       "      <td>0.0</td>\n",
       "      <td>0:00</td>\n",
       "      <td>0:00</td>\n",
       "      <td>80.6</td>\n",
       "      <td>0:00</td>\n",
       "      <td>No</td>\n",
       "      <td>00:00.00</td>\n",
       "      <td>--</td>\n",
       "      <td>0.0</td>\n",
       "    </tr>\n",
       "    <tr>\n",
       "      <td>450</td>\n",
       "      <td>Strength Training</td>\n",
       "      <td>2017-09-25 19:30:13</td>\n",
       "      <td>False</td>\n",
       "      <td>Strength</td>\n",
       "      <td>0.00</td>\n",
       "      <td>80</td>\n",
       "      <td>00:15:46</td>\n",
       "      <td>88</td>\n",
       "      <td>107</td>\n",
       "      <td>0.2</td>\n",
       "      <td>--</td>\n",
       "      <td>--</td>\n",
       "      <td>--</td>\n",
       "      <td>--</td>\n",
       "      <td>--</td>\n",
       "      <td>--</td>\n",
       "      <td>0.00</td>\n",
       "      <td>0.0</td>\n",
       "      <td>0.0</td>\n",
       "      <td>0.0</td>\n",
       "      <td>0.0</td>\n",
       "      <td>0.0</td>\n",
       "      <td>0:00</td>\n",
       "      <td>0:00</td>\n",
       "      <td>73.4</td>\n",
       "      <td>0:00</td>\n",
       "      <td>No</td>\n",
       "      <td>00:00.00</td>\n",
       "      <td>--</td>\n",
       "      <td>0.0</td>\n",
       "    </tr>\n",
       "    <tr>\n",
       "      <td>451</td>\n",
       "      <td>Running</td>\n",
       "      <td>2017-09-21 12:16:19</td>\n",
       "      <td>False</td>\n",
       "      <td>Kansas City Running</td>\n",
       "      <td>4.25</td>\n",
       "      <td>565</td>\n",
       "      <td>00:37:26</td>\n",
       "      <td>149</td>\n",
       "      <td>182</td>\n",
       "      <td>3.9</td>\n",
       "      <td>165</td>\n",
       "      <td>180</td>\n",
       "      <td>8:48</td>\n",
       "      <td>7:19</td>\n",
       "      <td>108</td>\n",
       "      <td>121</td>\n",
       "      <td>1.11</td>\n",
       "      <td>0.0</td>\n",
       "      <td>0.0</td>\n",
       "      <td>0.0</td>\n",
       "      <td>0.0</td>\n",
       "      <td>0.0</td>\n",
       "      <td>0:00</td>\n",
       "      <td>0:00</td>\n",
       "      <td>86.0</td>\n",
       "      <td>0:00</td>\n",
       "      <td>No</td>\n",
       "      <td>00:00.00</td>\n",
       "      <td>--</td>\n",
       "      <td>0.0</td>\n",
       "    </tr>\n",
       "    <tr>\n",
       "      <td>452</td>\n",
       "      <td>Running</td>\n",
       "      <td>2017-09-19 18:45:46</td>\n",
       "      <td>False</td>\n",
       "      <td>Kansas City Running</td>\n",
       "      <td>4.32</td>\n",
       "      <td>553</td>\n",
       "      <td>00:36:57</td>\n",
       "      <td>148</td>\n",
       "      <td>170</td>\n",
       "      <td>4.2</td>\n",
       "      <td>165</td>\n",
       "      <td>177</td>\n",
       "      <td>8:33</td>\n",
       "      <td>7:16</td>\n",
       "      <td>98</td>\n",
       "      <td>141</td>\n",
       "      <td>1.14</td>\n",
       "      <td>0.0</td>\n",
       "      <td>0.0</td>\n",
       "      <td>0.0</td>\n",
       "      <td>0.0</td>\n",
       "      <td>0.0</td>\n",
       "      <td>0:00</td>\n",
       "      <td>0:00</td>\n",
       "      <td>82.4</td>\n",
       "      <td>0:00</td>\n",
       "      <td>No</td>\n",
       "      <td>00:00.00</td>\n",
       "      <td>--</td>\n",
       "      <td>0.0</td>\n",
       "    </tr>\n",
       "    <tr>\n",
       "      <td>453</td>\n",
       "      <td>Running</td>\n",
       "      <td>2017-09-16 15:17:18</td>\n",
       "      <td>False</td>\n",
       "      <td>Kansas City Running</td>\n",
       "      <td>3.02</td>\n",
       "      <td>404</td>\n",
       "      <td>00:24:56</td>\n",
       "      <td>156</td>\n",
       "      <td>187</td>\n",
       "      <td>3.8</td>\n",
       "      <td>161</td>\n",
       "      <td>200</td>\n",
       "      <td>8:15</td>\n",
       "      <td>4:57</td>\n",
       "      <td>59</td>\n",
       "      <td>98</td>\n",
       "      <td>1.21</td>\n",
       "      <td>0.0</td>\n",
       "      <td>0.0</td>\n",
       "      <td>0.0</td>\n",
       "      <td>0.0</td>\n",
       "      <td>0.0</td>\n",
       "      <td>0:00</td>\n",
       "      <td>0:00</td>\n",
       "      <td>84.2</td>\n",
       "      <td>0:00</td>\n",
       "      <td>No</td>\n",
       "      <td>00:00.00</td>\n",
       "      <td>--</td>\n",
       "      <td>0.0</td>\n",
       "    </tr>\n",
       "  </tbody>\n",
       "</table>\n",
       "</div>"
      ],
      "text/plain": [
       "         Activity Type                 Date  Favorite                Title  \\\n",
       "449            Running  2017-10-06 11:04:11     False  Kansas City Running   \n",
       "450  Strength Training  2017-09-25 19:30:13     False             Strength   \n",
       "451            Running  2017-09-21 12:16:19     False  Kansas City Running   \n",
       "452            Running  2017-09-19 18:45:46     False  Kansas City Running   \n",
       "453            Running  2017-09-16 15:17:18     False  Kansas City Running   \n",
       "\n",
       "     Distance Calories      Time  Avg HR  Max HR Aerobic TE Avg Run Cadence  \\\n",
       "449      4.44      608  00:44:14     141     162        3.5             157   \n",
       "450      0.00       80  00:15:46      88     107        0.2              --   \n",
       "451      4.25      565  00:37:26     149     182        3.9             165   \n",
       "452      4.32      553  00:36:57     148     170        4.2             165   \n",
       "453      3.02      404  00:24:56     156     187        3.8             161   \n",
       "\n",
       "    Max Run Cadence Avg Pace Best Pace Elev Gain Elev Loss  Avg Stride Length  \\\n",
       "449             169     9:58      7:58       144       138               1.03   \n",
       "450              --       --        --        --        --               0.00   \n",
       "451             180     8:48      7:19       108       121               1.11   \n",
       "452             177     8:33      7:16        98       141               1.14   \n",
       "453             200     8:15      4:57        59        98               1.21   \n",
       "\n",
       "     Avg Vertical Ratio  Avg Vertical Oscillation  Training Stress Score®  \\\n",
       "449                 0.0                       0.0                     0.0   \n",
       "450                 0.0                       0.0                     0.0   \n",
       "451                 0.0                       0.0                     0.0   \n",
       "452                 0.0                       0.0                     0.0   \n",
       "453                 0.0                       0.0                     0.0   \n",
       "\n",
       "     Grit  Flow Climb Time Bottom Time  Min Temp Surface Interval  \\\n",
       "449   0.0   0.0       0:00        0:00      80.6             0:00   \n",
       "450   0.0   0.0       0:00        0:00      73.4             0:00   \n",
       "451   0.0   0.0       0:00        0:00      86.0             0:00   \n",
       "452   0.0   0.0       0:00        0:00      82.4             0:00   \n",
       "453   0.0   0.0       0:00        0:00      84.2             0:00   \n",
       "\n",
       "    Decompression Best Lap Time Number of Runs  Max Temp  \n",
       "449            No      00:00.00             --       0.0  \n",
       "450            No      00:00.00             --       0.0  \n",
       "451            No      00:00.00             --       0.0  \n",
       "452            No      00:00.00             --       0.0  \n",
       "453            No      00:00.00             --       0.0  "
      ]
     },
     "execution_count": 20,
     "metadata": {},
     "output_type": "execute_result"
    }
   ],
   "source": [
    "df.tail()"
   ]
  },
  {
   "cell_type": "code",
   "execution_count": 21,
   "metadata": {},
   "outputs": [
    {
     "data": {
      "text/plain": [
       "(454, 30)"
      ]
     },
     "execution_count": 21,
     "metadata": {},
     "output_type": "execute_result"
    }
   ],
   "source": [
    "df.shape"
   ]
  },
  {
   "cell_type": "markdown",
   "metadata": {},
   "source": [
    "## 2. Preparing Data 4 Analysis"
   ]
  },
  {
   "cell_type": "code",
   "execution_count": 22,
   "metadata": {},
   "outputs": [],
   "source": [
    "df.columns = df.columns.str.lower().str.replace(' ', '_')"
   ]
  },
  {
   "cell_type": "code",
   "execution_count": 23,
   "metadata": {},
   "outputs": [
    {
     "name": "stdout",
     "output_type": "stream",
     "text": [
      "<class 'pandas.core.frame.DataFrame'>\n",
      "RangeIndex: 454 entries, 0 to 453\n",
      "Data columns (total 30 columns):\n",
      "activity_type               454 non-null object\n",
      "date                        454 non-null object\n",
      "favorite                    454 non-null bool\n",
      "title                       454 non-null object\n",
      "distance                    454 non-null float64\n",
      "calories                    454 non-null object\n",
      "time                        454 non-null object\n",
      "avg_hr                      454 non-null int64\n",
      "max_hr                      454 non-null int64\n",
      "aerobic_te                  454 non-null object\n",
      "avg_run_cadence             454 non-null object\n",
      "max_run_cadence             454 non-null object\n",
      "avg_pace                    454 non-null object\n",
      "best_pace                   454 non-null object\n",
      "elev_gain                   454 non-null object\n",
      "elev_loss                   454 non-null object\n",
      "avg_stride_length           454 non-null float64\n",
      "avg_vertical_ratio          454 non-null float64\n",
      "avg_vertical_oscillation    454 non-null float64\n",
      "training_stress_score®      454 non-null float64\n",
      "grit                        454 non-null float64\n",
      "flow                        454 non-null float64\n",
      "climb_time                  454 non-null object\n",
      "bottom_time                 454 non-null object\n",
      "min_temp                    454 non-null float64\n",
      "surface_interval            454 non-null object\n",
      "decompression               454 non-null object\n",
      "best_lap_time               454 non-null object\n",
      "number_of_runs              454 non-null object\n",
      "max_temp                    454 non-null float64\n",
      "dtypes: bool(1), float64(9), int64(2), object(18)\n",
      "memory usage: 103.4+ KB\n"
     ]
    }
   ],
   "source": [
    "# Let's first have a look at our dataset\n",
    "df.info()"
   ]
  },
  {
   "cell_type": "code",
   "execution_count": 24,
   "metadata": {},
   "outputs": [
    {
     "data": {
      "text/html": [
       "<div>\n",
       "<style scoped>\n",
       "    .dataframe tbody tr th:only-of-type {\n",
       "        vertical-align: middle;\n",
       "    }\n",
       "\n",
       "    .dataframe tbody tr th {\n",
       "        vertical-align: top;\n",
       "    }\n",
       "\n",
       "    .dataframe thead th {\n",
       "        text-align: right;\n",
       "    }\n",
       "</style>\n",
       "<table border=\"1\" class=\"dataframe\">\n",
       "  <thead>\n",
       "    <tr style=\"text-align: right;\">\n",
       "      <th></th>\n",
       "      <th>distance</th>\n",
       "      <th>avg_hr</th>\n",
       "      <th>max_hr</th>\n",
       "      <th>avg_stride_length</th>\n",
       "      <th>avg_vertical_ratio</th>\n",
       "      <th>avg_vertical_oscillation</th>\n",
       "      <th>training_stress_score®</th>\n",
       "      <th>grit</th>\n",
       "      <th>flow</th>\n",
       "      <th>min_temp</th>\n",
       "      <th>max_temp</th>\n",
       "    </tr>\n",
       "  </thead>\n",
       "  <tbody>\n",
       "    <tr>\n",
       "      <td>count</td>\n",
       "      <td>454.000000</td>\n",
       "      <td>454.000000</td>\n",
       "      <td>454.000000</td>\n",
       "      <td>454.000000</td>\n",
       "      <td>454.0</td>\n",
       "      <td>454.0</td>\n",
       "      <td>454.0</td>\n",
       "      <td>454.0</td>\n",
       "      <td>454.0</td>\n",
       "      <td>454.000000</td>\n",
       "      <td>454.0</td>\n",
       "    </tr>\n",
       "    <tr>\n",
       "      <td>mean</td>\n",
       "      <td>1.549229</td>\n",
       "      <td>126.618943</td>\n",
       "      <td>146.788546</td>\n",
       "      <td>0.696938</td>\n",
       "      <td>0.0</td>\n",
       "      <td>0.0</td>\n",
       "      <td>0.0</td>\n",
       "      <td>0.0</td>\n",
       "      <td>0.0</td>\n",
       "      <td>78.240969</td>\n",
       "      <td>0.0</td>\n",
       "    </tr>\n",
       "    <tr>\n",
       "      <td>std</td>\n",
       "      <td>1.100382</td>\n",
       "      <td>22.570717</td>\n",
       "      <td>21.611751</td>\n",
       "      <td>0.570507</td>\n",
       "      <td>0.0</td>\n",
       "      <td>0.0</td>\n",
       "      <td>0.0</td>\n",
       "      <td>0.0</td>\n",
       "      <td>0.0</td>\n",
       "      <td>5.903790</td>\n",
       "      <td>0.0</td>\n",
       "    </tr>\n",
       "    <tr>\n",
       "      <td>min</td>\n",
       "      <td>0.000000</td>\n",
       "      <td>70.000000</td>\n",
       "      <td>82.000000</td>\n",
       "      <td>0.000000</td>\n",
       "      <td>0.0</td>\n",
       "      <td>0.0</td>\n",
       "      <td>0.0</td>\n",
       "      <td>0.0</td>\n",
       "      <td>0.0</td>\n",
       "      <td>55.400000</td>\n",
       "      <td>0.0</td>\n",
       "    </tr>\n",
       "    <tr>\n",
       "      <td>25%</td>\n",
       "      <td>0.830000</td>\n",
       "      <td>105.250000</td>\n",
       "      <td>129.000000</td>\n",
       "      <td>0.000000</td>\n",
       "      <td>0.0</td>\n",
       "      <td>0.0</td>\n",
       "      <td>0.0</td>\n",
       "      <td>0.0</td>\n",
       "      <td>0.0</td>\n",
       "      <td>75.200000</td>\n",
       "      <td>0.0</td>\n",
       "    </tr>\n",
       "    <tr>\n",
       "      <td>50%</td>\n",
       "      <td>1.030000</td>\n",
       "      <td>134.000000</td>\n",
       "      <td>151.000000</td>\n",
       "      <td>1.060000</td>\n",
       "      <td>0.0</td>\n",
       "      <td>0.0</td>\n",
       "      <td>0.0</td>\n",
       "      <td>0.0</td>\n",
       "      <td>0.0</td>\n",
       "      <td>77.000000</td>\n",
       "      <td>0.0</td>\n",
       "    </tr>\n",
       "    <tr>\n",
       "      <td>75%</td>\n",
       "      <td>2.050000</td>\n",
       "      <td>146.000000</td>\n",
       "      <td>164.000000</td>\n",
       "      <td>1.170000</td>\n",
       "      <td>0.0</td>\n",
       "      <td>0.0</td>\n",
       "      <td>0.0</td>\n",
       "      <td>0.0</td>\n",
       "      <td>0.0</td>\n",
       "      <td>82.400000</td>\n",
       "      <td>0.0</td>\n",
       "    </tr>\n",
       "    <tr>\n",
       "      <td>max</td>\n",
       "      <td>4.690000</td>\n",
       "      <td>164.000000</td>\n",
       "      <td>190.000000</td>\n",
       "      <td>2.030000</td>\n",
       "      <td>0.0</td>\n",
       "      <td>0.0</td>\n",
       "      <td>0.0</td>\n",
       "      <td>0.0</td>\n",
       "      <td>0.0</td>\n",
       "      <td>96.800000</td>\n",
       "      <td>0.0</td>\n",
       "    </tr>\n",
       "  </tbody>\n",
       "</table>\n",
       "</div>"
      ],
      "text/plain": [
       "         distance      avg_hr      max_hr  avg_stride_length  \\\n",
       "count  454.000000  454.000000  454.000000         454.000000   \n",
       "mean     1.549229  126.618943  146.788546           0.696938   \n",
       "std      1.100382   22.570717   21.611751           0.570507   \n",
       "min      0.000000   70.000000   82.000000           0.000000   \n",
       "25%      0.830000  105.250000  129.000000           0.000000   \n",
       "50%      1.030000  134.000000  151.000000           1.060000   \n",
       "75%      2.050000  146.000000  164.000000           1.170000   \n",
       "max      4.690000  164.000000  190.000000           2.030000   \n",
       "\n",
       "       avg_vertical_ratio  avg_vertical_oscillation  training_stress_score®  \\\n",
       "count               454.0                     454.0                   454.0   \n",
       "mean                  0.0                       0.0                     0.0   \n",
       "std                   0.0                       0.0                     0.0   \n",
       "min                   0.0                       0.0                     0.0   \n",
       "25%                   0.0                       0.0                     0.0   \n",
       "50%                   0.0                       0.0                     0.0   \n",
       "75%                   0.0                       0.0                     0.0   \n",
       "max                   0.0                       0.0                     0.0   \n",
       "\n",
       "        grit   flow    min_temp  max_temp  \n",
       "count  454.0  454.0  454.000000     454.0  \n",
       "mean     0.0    0.0   78.240969       0.0  \n",
       "std      0.0    0.0    5.903790       0.0  \n",
       "min      0.0    0.0   55.400000       0.0  \n",
       "25%      0.0    0.0   75.200000       0.0  \n",
       "50%      0.0    0.0   77.000000       0.0  \n",
       "75%      0.0    0.0   82.400000       0.0  \n",
       "max      0.0    0.0   96.800000       0.0  "
      ]
     },
     "execution_count": 24,
     "metadata": {},
     "output_type": "execute_result"
    }
   ],
   "source": [
    "df.describe()"
   ]
  },
  {
   "cell_type": "code",
   "execution_count": 25,
   "metadata": {},
   "outputs": [],
   "source": [
    "df.replace('--', np.nan, inplace=True)"
   ]
  },
  {
   "cell_type": "code",
   "execution_count": 26,
   "metadata": {},
   "outputs": [
    {
     "data": {
      "text/html": [
       "<div>\n",
       "<style scoped>\n",
       "    .dataframe tbody tr th:only-of-type {\n",
       "        vertical-align: middle;\n",
       "    }\n",
       "\n",
       "    .dataframe tbody tr th {\n",
       "        vertical-align: top;\n",
       "    }\n",
       "\n",
       "    .dataframe thead th {\n",
       "        text-align: right;\n",
       "    }\n",
       "</style>\n",
       "<table border=\"1\" class=\"dataframe\">\n",
       "  <thead>\n",
       "    <tr style=\"text-align: right;\">\n",
       "      <th></th>\n",
       "      <th>activity_type</th>\n",
       "      <th>date</th>\n",
       "      <th>favorite</th>\n",
       "      <th>title</th>\n",
       "      <th>distance</th>\n",
       "      <th>calories</th>\n",
       "      <th>time</th>\n",
       "      <th>avg_hr</th>\n",
       "      <th>max_hr</th>\n",
       "      <th>aerobic_te</th>\n",
       "      <th>avg_run_cadence</th>\n",
       "      <th>max_run_cadence</th>\n",
       "      <th>avg_pace</th>\n",
       "      <th>best_pace</th>\n",
       "      <th>elev_gain</th>\n",
       "      <th>elev_loss</th>\n",
       "      <th>avg_stride_length</th>\n",
       "      <th>avg_vertical_ratio</th>\n",
       "      <th>avg_vertical_oscillation</th>\n",
       "      <th>training_stress_score®</th>\n",
       "      <th>grit</th>\n",
       "      <th>flow</th>\n",
       "      <th>climb_time</th>\n",
       "      <th>bottom_time</th>\n",
       "      <th>min_temp</th>\n",
       "      <th>surface_interval</th>\n",
       "      <th>decompression</th>\n",
       "      <th>best_lap_time</th>\n",
       "      <th>number_of_runs</th>\n",
       "      <th>max_temp</th>\n",
       "    </tr>\n",
       "  </thead>\n",
       "  <tbody>\n",
       "    <tr>\n",
       "      <td>449</td>\n",
       "      <td>Running</td>\n",
       "      <td>2017-10-06 11:04:11</td>\n",
       "      <td>False</td>\n",
       "      <td>Kansas City Running</td>\n",
       "      <td>4.44</td>\n",
       "      <td>608</td>\n",
       "      <td>00:44:14</td>\n",
       "      <td>141</td>\n",
       "      <td>162</td>\n",
       "      <td>3.5</td>\n",
       "      <td>157</td>\n",
       "      <td>169</td>\n",
       "      <td>9:58</td>\n",
       "      <td>7:58</td>\n",
       "      <td>144</td>\n",
       "      <td>138</td>\n",
       "      <td>1.03</td>\n",
       "      <td>0.0</td>\n",
       "      <td>0.0</td>\n",
       "      <td>0.0</td>\n",
       "      <td>0.0</td>\n",
       "      <td>0.0</td>\n",
       "      <td>0:00</td>\n",
       "      <td>0:00</td>\n",
       "      <td>80.6</td>\n",
       "      <td>0:00</td>\n",
       "      <td>No</td>\n",
       "      <td>00:00.00</td>\n",
       "      <td>NaN</td>\n",
       "      <td>0.0</td>\n",
       "    </tr>\n",
       "    <tr>\n",
       "      <td>450</td>\n",
       "      <td>Strength Training</td>\n",
       "      <td>2017-09-25 19:30:13</td>\n",
       "      <td>False</td>\n",
       "      <td>Strength</td>\n",
       "      <td>0.00</td>\n",
       "      <td>80</td>\n",
       "      <td>00:15:46</td>\n",
       "      <td>88</td>\n",
       "      <td>107</td>\n",
       "      <td>0.2</td>\n",
       "      <td>NaN</td>\n",
       "      <td>NaN</td>\n",
       "      <td>NaN</td>\n",
       "      <td>NaN</td>\n",
       "      <td>NaN</td>\n",
       "      <td>NaN</td>\n",
       "      <td>0.00</td>\n",
       "      <td>0.0</td>\n",
       "      <td>0.0</td>\n",
       "      <td>0.0</td>\n",
       "      <td>0.0</td>\n",
       "      <td>0.0</td>\n",
       "      <td>0:00</td>\n",
       "      <td>0:00</td>\n",
       "      <td>73.4</td>\n",
       "      <td>0:00</td>\n",
       "      <td>No</td>\n",
       "      <td>00:00.00</td>\n",
       "      <td>NaN</td>\n",
       "      <td>0.0</td>\n",
       "    </tr>\n",
       "    <tr>\n",
       "      <td>451</td>\n",
       "      <td>Running</td>\n",
       "      <td>2017-09-21 12:16:19</td>\n",
       "      <td>False</td>\n",
       "      <td>Kansas City Running</td>\n",
       "      <td>4.25</td>\n",
       "      <td>565</td>\n",
       "      <td>00:37:26</td>\n",
       "      <td>149</td>\n",
       "      <td>182</td>\n",
       "      <td>3.9</td>\n",
       "      <td>165</td>\n",
       "      <td>180</td>\n",
       "      <td>8:48</td>\n",
       "      <td>7:19</td>\n",
       "      <td>108</td>\n",
       "      <td>121</td>\n",
       "      <td>1.11</td>\n",
       "      <td>0.0</td>\n",
       "      <td>0.0</td>\n",
       "      <td>0.0</td>\n",
       "      <td>0.0</td>\n",
       "      <td>0.0</td>\n",
       "      <td>0:00</td>\n",
       "      <td>0:00</td>\n",
       "      <td>86.0</td>\n",
       "      <td>0:00</td>\n",
       "      <td>No</td>\n",
       "      <td>00:00.00</td>\n",
       "      <td>NaN</td>\n",
       "      <td>0.0</td>\n",
       "    </tr>\n",
       "    <tr>\n",
       "      <td>452</td>\n",
       "      <td>Running</td>\n",
       "      <td>2017-09-19 18:45:46</td>\n",
       "      <td>False</td>\n",
       "      <td>Kansas City Running</td>\n",
       "      <td>4.32</td>\n",
       "      <td>553</td>\n",
       "      <td>00:36:57</td>\n",
       "      <td>148</td>\n",
       "      <td>170</td>\n",
       "      <td>4.2</td>\n",
       "      <td>165</td>\n",
       "      <td>177</td>\n",
       "      <td>8:33</td>\n",
       "      <td>7:16</td>\n",
       "      <td>98</td>\n",
       "      <td>141</td>\n",
       "      <td>1.14</td>\n",
       "      <td>0.0</td>\n",
       "      <td>0.0</td>\n",
       "      <td>0.0</td>\n",
       "      <td>0.0</td>\n",
       "      <td>0.0</td>\n",
       "      <td>0:00</td>\n",
       "      <td>0:00</td>\n",
       "      <td>82.4</td>\n",
       "      <td>0:00</td>\n",
       "      <td>No</td>\n",
       "      <td>00:00.00</td>\n",
       "      <td>NaN</td>\n",
       "      <td>0.0</td>\n",
       "    </tr>\n",
       "    <tr>\n",
       "      <td>453</td>\n",
       "      <td>Running</td>\n",
       "      <td>2017-09-16 15:17:18</td>\n",
       "      <td>False</td>\n",
       "      <td>Kansas City Running</td>\n",
       "      <td>3.02</td>\n",
       "      <td>404</td>\n",
       "      <td>00:24:56</td>\n",
       "      <td>156</td>\n",
       "      <td>187</td>\n",
       "      <td>3.8</td>\n",
       "      <td>161</td>\n",
       "      <td>200</td>\n",
       "      <td>8:15</td>\n",
       "      <td>4:57</td>\n",
       "      <td>59</td>\n",
       "      <td>98</td>\n",
       "      <td>1.21</td>\n",
       "      <td>0.0</td>\n",
       "      <td>0.0</td>\n",
       "      <td>0.0</td>\n",
       "      <td>0.0</td>\n",
       "      <td>0.0</td>\n",
       "      <td>0:00</td>\n",
       "      <td>0:00</td>\n",
       "      <td>84.2</td>\n",
       "      <td>0:00</td>\n",
       "      <td>No</td>\n",
       "      <td>00:00.00</td>\n",
       "      <td>NaN</td>\n",
       "      <td>0.0</td>\n",
       "    </tr>\n",
       "  </tbody>\n",
       "</table>\n",
       "</div>"
      ],
      "text/plain": [
       "         activity_type                 date  favorite                title  \\\n",
       "449            Running  2017-10-06 11:04:11     False  Kansas City Running   \n",
       "450  Strength Training  2017-09-25 19:30:13     False             Strength   \n",
       "451            Running  2017-09-21 12:16:19     False  Kansas City Running   \n",
       "452            Running  2017-09-19 18:45:46     False  Kansas City Running   \n",
       "453            Running  2017-09-16 15:17:18     False  Kansas City Running   \n",
       "\n",
       "     distance calories      time  avg_hr  max_hr aerobic_te avg_run_cadence  \\\n",
       "449      4.44      608  00:44:14     141     162        3.5             157   \n",
       "450      0.00       80  00:15:46      88     107        0.2             NaN   \n",
       "451      4.25      565  00:37:26     149     182        3.9             165   \n",
       "452      4.32      553  00:36:57     148     170        4.2             165   \n",
       "453      3.02      404  00:24:56     156     187        3.8             161   \n",
       "\n",
       "    max_run_cadence avg_pace best_pace elev_gain elev_loss  avg_stride_length  \\\n",
       "449             169     9:58      7:58       144       138               1.03   \n",
       "450             NaN      NaN       NaN       NaN       NaN               0.00   \n",
       "451             180     8:48      7:19       108       121               1.11   \n",
       "452             177     8:33      7:16        98       141               1.14   \n",
       "453             200     8:15      4:57        59        98               1.21   \n",
       "\n",
       "     avg_vertical_ratio  avg_vertical_oscillation  training_stress_score®  \\\n",
       "449                 0.0                       0.0                     0.0   \n",
       "450                 0.0                       0.0                     0.0   \n",
       "451                 0.0                       0.0                     0.0   \n",
       "452                 0.0                       0.0                     0.0   \n",
       "453                 0.0                       0.0                     0.0   \n",
       "\n",
       "     grit  flow climb_time bottom_time  min_temp surface_interval  \\\n",
       "449   0.0   0.0       0:00        0:00      80.6             0:00   \n",
       "450   0.0   0.0       0:00        0:00      73.4             0:00   \n",
       "451   0.0   0.0       0:00        0:00      86.0             0:00   \n",
       "452   0.0   0.0       0:00        0:00      82.4             0:00   \n",
       "453   0.0   0.0       0:00        0:00      84.2             0:00   \n",
       "\n",
       "    decompression best_lap_time number_of_runs  max_temp  \n",
       "449            No      00:00.00            NaN       0.0  \n",
       "450            No      00:00.00            NaN       0.0  \n",
       "451            No      00:00.00            NaN       0.0  \n",
       "452            No      00:00.00            NaN       0.0  \n",
       "453            No      00:00.00            NaN       0.0  "
      ]
     },
     "execution_count": 26,
     "metadata": {},
     "output_type": "execute_result"
    }
   ],
   "source": [
    "df.tail()"
   ]
  },
  {
   "cell_type": "code",
   "execution_count": 28,
   "metadata": {},
   "outputs": [
    {
     "data": {
      "text/plain": [
       "array(['3', '5', '2', '1', '4', nan], dtype=object)"
      ]
     },
     "execution_count": 28,
     "metadata": {},
     "output_type": "execute_result"
    }
   ],
   "source": [
    "df['number_of_runs'].unique()"
   ]
  },
  {
   "cell_type": "code",
   "execution_count": 29,
   "metadata": {},
   "outputs": [],
   "source": [
    "df.drop(['avg_vertical_ratio', 'avg_vertical_oscillation',\n",
    "         'training_stress_score®', 'grit', 'flow', 'favorite',\n",
    "         'bottom_time', 'surface_interval', 'best_lap_time', \n",
    "         'max_temp', 'decompression'], axis=1, inplace=True)"
   ]
  },
  {
   "cell_type": "code",
   "execution_count": 30,
   "metadata": {},
   "outputs": [
    {
     "data": {
      "text/html": [
       "<div>\n",
       "<style scoped>\n",
       "    .dataframe tbody tr th:only-of-type {\n",
       "        vertical-align: middle;\n",
       "    }\n",
       "\n",
       "    .dataframe tbody tr th {\n",
       "        vertical-align: top;\n",
       "    }\n",
       "\n",
       "    .dataframe thead th {\n",
       "        text-align: right;\n",
       "    }\n",
       "</style>\n",
       "<table border=\"1\" class=\"dataframe\">\n",
       "  <thead>\n",
       "    <tr style=\"text-align: right;\">\n",
       "      <th></th>\n",
       "      <th>activity_type</th>\n",
       "      <th>date</th>\n",
       "      <th>title</th>\n",
       "      <th>distance</th>\n",
       "      <th>calories</th>\n",
       "      <th>time</th>\n",
       "      <th>avg_hr</th>\n",
       "      <th>max_hr</th>\n",
       "      <th>aerobic_te</th>\n",
       "      <th>avg_run_cadence</th>\n",
       "      <th>max_run_cadence</th>\n",
       "      <th>avg_pace</th>\n",
       "      <th>best_pace</th>\n",
       "      <th>elev_gain</th>\n",
       "      <th>elev_loss</th>\n",
       "      <th>avg_stride_length</th>\n",
       "      <th>climb_time</th>\n",
       "      <th>min_temp</th>\n",
       "      <th>number_of_runs</th>\n",
       "    </tr>\n",
       "  </thead>\n",
       "  <tbody>\n",
       "    <tr>\n",
       "      <td>0</td>\n",
       "      <td>Running</td>\n",
       "      <td>2020-03-15 18:36:50</td>\n",
       "      <td>Sydney Running</td>\n",
       "      <td>2.38</td>\n",
       "      <td>317</td>\n",
       "      <td>00:19:31</td>\n",
       "      <td>155</td>\n",
       "      <td>182</td>\n",
       "      <td>3.4</td>\n",
       "      <td>166</td>\n",
       "      <td>183</td>\n",
       "      <td>8:13</td>\n",
       "      <td>6:48</td>\n",
       "      <td>141</td>\n",
       "      <td>174</td>\n",
       "      <td>1.18</td>\n",
       "      <td>0:00</td>\n",
       "      <td>68.0</td>\n",
       "      <td>3</td>\n",
       "    </tr>\n",
       "    <tr>\n",
       "      <td>1</td>\n",
       "      <td>Running</td>\n",
       "      <td>2020-03-11 18:26:18</td>\n",
       "      <td>Sydney Running</td>\n",
       "      <td>4.09</td>\n",
       "      <td>550</td>\n",
       "      <td>00:33:29</td>\n",
       "      <td>158</td>\n",
       "      <td>171</td>\n",
       "      <td>4.0</td>\n",
       "      <td>166</td>\n",
       "      <td>181</td>\n",
       "      <td>8:11</td>\n",
       "      <td>6:48</td>\n",
       "      <td>226</td>\n",
       "      <td>256</td>\n",
       "      <td>1.18</td>\n",
       "      <td>0:00</td>\n",
       "      <td>71.6</td>\n",
       "      <td>5</td>\n",
       "    </tr>\n",
       "    <tr>\n",
       "      <td>2</td>\n",
       "      <td>Running</td>\n",
       "      <td>2020-03-08 17:48:07</td>\n",
       "      <td>Sydney Running</td>\n",
       "      <td>2.82</td>\n",
       "      <td>336</td>\n",
       "      <td>00:21:16</td>\n",
       "      <td>150</td>\n",
       "      <td>168</td>\n",
       "      <td>3.3</td>\n",
       "      <td>167</td>\n",
       "      <td>195</td>\n",
       "      <td>7:32</td>\n",
       "      <td>5:44</td>\n",
       "      <td>128</td>\n",
       "      <td>190</td>\n",
       "      <td>1.28</td>\n",
       "      <td>0:00</td>\n",
       "      <td>71.6</td>\n",
       "      <td>3</td>\n",
       "    </tr>\n",
       "    <tr>\n",
       "      <td>3</td>\n",
       "      <td>Running</td>\n",
       "      <td>2020-03-04 18:41:53</td>\n",
       "      <td>Sydney Running</td>\n",
       "      <td>1.00</td>\n",
       "      <td>117</td>\n",
       "      <td>00:08:24.7</td>\n",
       "      <td>136</td>\n",
       "      <td>148</td>\n",
       "      <td>2.0</td>\n",
       "      <td>160</td>\n",
       "      <td>175</td>\n",
       "      <td>8:24</td>\n",
       "      <td>7:37</td>\n",
       "      <td>39</td>\n",
       "      <td>62</td>\n",
       "      <td>1.19</td>\n",
       "      <td>0:00</td>\n",
       "      <td>77.0</td>\n",
       "      <td>2</td>\n",
       "    </tr>\n",
       "    <tr>\n",
       "      <td>4</td>\n",
       "      <td>Running</td>\n",
       "      <td>2020-02-29 15:55:38</td>\n",
       "      <td>Sydney Running</td>\n",
       "      <td>2.80</td>\n",
       "      <td>347</td>\n",
       "      <td>00:22:17</td>\n",
       "      <td>150</td>\n",
       "      <td>170</td>\n",
       "      <td>3.4</td>\n",
       "      <td>166</td>\n",
       "      <td>213</td>\n",
       "      <td>7:58</td>\n",
       "      <td>6:38</td>\n",
       "      <td>135</td>\n",
       "      <td>187</td>\n",
       "      <td>1.22</td>\n",
       "      <td>0:00</td>\n",
       "      <td>80.6</td>\n",
       "      <td>3</td>\n",
       "    </tr>\n",
       "  </tbody>\n",
       "</table>\n",
       "</div>"
      ],
      "text/plain": [
       "  activity_type                 date           title  distance calories  \\\n",
       "0       Running  2020-03-15 18:36:50  Sydney Running      2.38      317   \n",
       "1       Running  2020-03-11 18:26:18  Sydney Running      4.09      550   \n",
       "2       Running  2020-03-08 17:48:07  Sydney Running      2.82      336   \n",
       "3       Running  2020-03-04 18:41:53  Sydney Running      1.00      117   \n",
       "4       Running  2020-02-29 15:55:38  Sydney Running      2.80      347   \n",
       "\n",
       "         time  avg_hr  max_hr aerobic_te avg_run_cadence max_run_cadence  \\\n",
       "0    00:19:31     155     182        3.4             166             183   \n",
       "1    00:33:29     158     171        4.0             166             181   \n",
       "2    00:21:16     150     168        3.3             167             195   \n",
       "3  00:08:24.7     136     148        2.0             160             175   \n",
       "4    00:22:17     150     170        3.4             166             213   \n",
       "\n",
       "  avg_pace best_pace elev_gain elev_loss  avg_stride_length climb_time  \\\n",
       "0     8:13      6:48       141       174               1.18       0:00   \n",
       "1     8:11      6:48       226       256               1.18       0:00   \n",
       "2     7:32      5:44       128       190               1.28       0:00   \n",
       "3     8:24      7:37        39        62               1.19       0:00   \n",
       "4     7:58      6:38       135       187               1.22       0:00   \n",
       "\n",
       "   min_temp number_of_runs  \n",
       "0      68.0              3  \n",
       "1      71.6              5  \n",
       "2      71.6              3  \n",
       "3      77.0              2  \n",
       "4      80.6              3  "
      ]
     },
     "execution_count": 30,
     "metadata": {},
     "output_type": "execute_result"
    }
   ],
   "source": [
    "df.head()"
   ]
  },
  {
   "cell_type": "markdown",
   "metadata": {},
   "source": [
    "Fix the date"
   ]
  },
  {
   "cell_type": "markdown",
   "metadata": {},
   "source": [
    "Make your numerical variables numerical."
   ]
  },
  {
   "cell_type": "code",
   "execution_count": 32,
   "metadata": {},
   "outputs": [
    {
     "data": {
      "text/plain": [
       "str"
      ]
     },
     "execution_count": 32,
     "metadata": {},
     "output_type": "execute_result"
    }
   ],
   "source": [
    "type(df['time'].iloc[1])"
   ]
  },
  {
   "cell_type": "code",
   "execution_count": 33,
   "metadata": {},
   "outputs": [
    {
     "data": {
      "text/plain": [
       "2018    224\n",
       "2019    198\n",
       "2020     20\n",
       "2017     12\n",
       "Name: date, dtype: int64"
      ]
     },
     "execution_count": 33,
     "metadata": {},
     "output_type": "execute_result"
    }
   ],
   "source": [
    "df['date'] = pd.to_datetime(df['date'])\n",
    "df['date'].dt.year.value_counts()"
   ]
  },
  {
   "cell_type": "code",
   "execution_count": 73,
   "metadata": {},
   "outputs": [
    {
     "name": "stdout",
     "output_type": "stream",
     "text": [
      "<class 'pandas.core.frame.DataFrame'>\n",
      "RangeIndex: 454 entries, 0 to 453\n",
      "Data columns (total 29 columns):\n",
      "activity_type        454 non-null object\n",
      "date                 454 non-null datetime64[ns]\n",
      "title                454 non-null object\n",
      "distance             454 non-null float64\n",
      "calories             453 non-null float64\n",
      "time                 454 non-null object\n",
      "avg_hr               454 non-null int64\n",
      "max_hr               454 non-null int64\n",
      "aerobic_te           453 non-null float64\n",
      "avg_run_cadence      287 non-null float64\n",
      "max_run_cadence      287 non-null float64\n",
      "avg_pace             438 non-null object\n",
      "best_pace            438 non-null object\n",
      "elev_gain            284 non-null object\n",
      "elev_loss            278 non-null object\n",
      "avg_stride_length    454 non-null float64\n",
      "climb_time           454 non-null object\n",
      "min_temp             454 non-null float64\n",
      "number_of_runs       449 non-null float64\n",
      "month                454 non-null int64\n",
      "year                 454 non-null int64\n",
      "week                 454 non-null int64\n",
      "weekday              454 non-null int64\n",
      "quarter              454 non-null int64\n",
      "time_exercise        454 non-null object\n",
      "date_exercise        454 non-null object\n",
      "day_of_week          454 non-null object\n",
      "time_day             454 non-null object\n",
      "week_or_end          454 non-null object\n",
      "dtypes: datetime64[ns](1), float64(8), int64(7), object(13)\n",
      "memory usage: 103.0+ KB\n"
     ]
    }
   ],
   "source": [
    "df.info()"
   ]
  },
  {
   "cell_type": "code",
   "execution_count": 35,
   "metadata": {},
   "outputs": [],
   "source": [
    "df['calories'] = pd.to_numeric(df['calories'])\n",
    "df['aerobic_te'] = pd.to_numeric(df['aerobic_te'])\n",
    "df['avg_run_cadence'] = pd.to_numeric(df['avg_run_cadence'])\n",
    "df['max_run_cadence'] = pd.to_numeric(df['max_run_cadence'])\n",
    "df['number_of_runs'] = pd.to_numeric(df['number_of_runs'])"
   ]
  },
  {
   "cell_type": "code",
   "execution_count": 36,
   "metadata": {},
   "outputs": [],
   "source": [
    "df['month'] = df['date'].dt.month\n",
    "df['year'] = df['date'].dt.year\n",
    "df['week'] = df['date'].dt.week\n",
    "df['weekday'] = df['date'].dt.weekday\n",
    "df['quarter'] = df['date'].dt.quarter\n",
    "df['time_exercise'] = df['date'].dt.time\n",
    "df['date_exercise'] = df['date'].dt.date\n",
    "df['day_of_week'] = df['date'].dt.weekday_name"
   ]
  },
  {
   "cell_type": "code",
   "execution_count": 47,
   "metadata": {},
   "outputs": [],
   "source": [
    "time_of_day = []\n",
    "\n",
    "for i in df['time_exercise']:\n",
    "    if i > datetime.time(5, 59, 59) and i < datetime.time(12, 0, 0):\n",
    "        time_of_day.append('morning')\n",
    "    elif i > datetime.time(11, 59, 59) and i < datetime.time(18, 0, 0):\n",
    "        time_of_day.append('afternoon')\n",
    "    else:\n",
    "        time_of_day.append('night')"
   ]
  },
  {
   "cell_type": "code",
   "execution_count": 48,
   "metadata": {},
   "outputs": [
    {
     "data": {
      "text/plain": [
       "['morning', 'night', 'afternoon', 'night', 'afternoon']"
      ]
     },
     "execution_count": 48,
     "metadata": {},
     "output_type": "execute_result"
    }
   ],
   "source": [
    "time_of_day[-5:]"
   ]
  },
  {
   "cell_type": "code",
   "execution_count": 49,
   "metadata": {},
   "outputs": [],
   "source": [
    "df['time_day'] = time_of_day"
   ]
  },
  {
   "cell_type": "code",
   "execution_count": 50,
   "metadata": {},
   "outputs": [
    {
     "data": {
      "text/html": [
       "<div>\n",
       "<style scoped>\n",
       "    .dataframe tbody tr th:only-of-type {\n",
       "        vertical-align: middle;\n",
       "    }\n",
       "\n",
       "    .dataframe tbody tr th {\n",
       "        vertical-align: top;\n",
       "    }\n",
       "\n",
       "    .dataframe thead th {\n",
       "        text-align: right;\n",
       "    }\n",
       "</style>\n",
       "<table border=\"1\" class=\"dataframe\">\n",
       "  <thead>\n",
       "    <tr style=\"text-align: right;\">\n",
       "      <th></th>\n",
       "      <th>activity_type</th>\n",
       "      <th>date</th>\n",
       "      <th>title</th>\n",
       "      <th>distance</th>\n",
       "      <th>calories</th>\n",
       "      <th>time</th>\n",
       "      <th>avg_hr</th>\n",
       "      <th>max_hr</th>\n",
       "      <th>aerobic_te</th>\n",
       "      <th>avg_run_cadence</th>\n",
       "      <th>max_run_cadence</th>\n",
       "      <th>avg_pace</th>\n",
       "      <th>best_pace</th>\n",
       "      <th>elev_gain</th>\n",
       "      <th>elev_loss</th>\n",
       "      <th>avg_stride_length</th>\n",
       "      <th>climb_time</th>\n",
       "      <th>min_temp</th>\n",
       "      <th>number_of_runs</th>\n",
       "      <th>month</th>\n",
       "      <th>year</th>\n",
       "      <th>week</th>\n",
       "      <th>weekday</th>\n",
       "      <th>quarter</th>\n",
       "      <th>time_exercise</th>\n",
       "      <th>date_exercise</th>\n",
       "      <th>day_of_week</th>\n",
       "      <th>time_day</th>\n",
       "    </tr>\n",
       "  </thead>\n",
       "  <tbody>\n",
       "    <tr>\n",
       "      <td>0</td>\n",
       "      <td>Running</td>\n",
       "      <td>2020-03-15 18:36:50</td>\n",
       "      <td>Sydney Running</td>\n",
       "      <td>2.38</td>\n",
       "      <td>317.0</td>\n",
       "      <td>00:19:31</td>\n",
       "      <td>155</td>\n",
       "      <td>182</td>\n",
       "      <td>3.4</td>\n",
       "      <td>166.0</td>\n",
       "      <td>183.0</td>\n",
       "      <td>8:13</td>\n",
       "      <td>6:48</td>\n",
       "      <td>141</td>\n",
       "      <td>174</td>\n",
       "      <td>1.18</td>\n",
       "      <td>0:00</td>\n",
       "      <td>68.0</td>\n",
       "      <td>3.0</td>\n",
       "      <td>3</td>\n",
       "      <td>2020</td>\n",
       "      <td>11</td>\n",
       "      <td>6</td>\n",
       "      <td>1</td>\n",
       "      <td>18:36:50</td>\n",
       "      <td>2020-03-15</td>\n",
       "      <td>Sunday</td>\n",
       "      <td>night</td>\n",
       "    </tr>\n",
       "    <tr>\n",
       "      <td>1</td>\n",
       "      <td>Running</td>\n",
       "      <td>2020-03-11 18:26:18</td>\n",
       "      <td>Sydney Running</td>\n",
       "      <td>4.09</td>\n",
       "      <td>550.0</td>\n",
       "      <td>00:33:29</td>\n",
       "      <td>158</td>\n",
       "      <td>171</td>\n",
       "      <td>4.0</td>\n",
       "      <td>166.0</td>\n",
       "      <td>181.0</td>\n",
       "      <td>8:11</td>\n",
       "      <td>6:48</td>\n",
       "      <td>226</td>\n",
       "      <td>256</td>\n",
       "      <td>1.18</td>\n",
       "      <td>0:00</td>\n",
       "      <td>71.6</td>\n",
       "      <td>5.0</td>\n",
       "      <td>3</td>\n",
       "      <td>2020</td>\n",
       "      <td>11</td>\n",
       "      <td>2</td>\n",
       "      <td>1</td>\n",
       "      <td>18:26:18</td>\n",
       "      <td>2020-03-11</td>\n",
       "      <td>Wednesday</td>\n",
       "      <td>night</td>\n",
       "    </tr>\n",
       "    <tr>\n",
       "      <td>2</td>\n",
       "      <td>Running</td>\n",
       "      <td>2020-03-08 17:48:07</td>\n",
       "      <td>Sydney Running</td>\n",
       "      <td>2.82</td>\n",
       "      <td>336.0</td>\n",
       "      <td>00:21:16</td>\n",
       "      <td>150</td>\n",
       "      <td>168</td>\n",
       "      <td>3.3</td>\n",
       "      <td>167.0</td>\n",
       "      <td>195.0</td>\n",
       "      <td>7:32</td>\n",
       "      <td>5:44</td>\n",
       "      <td>128</td>\n",
       "      <td>190</td>\n",
       "      <td>1.28</td>\n",
       "      <td>0:00</td>\n",
       "      <td>71.6</td>\n",
       "      <td>3.0</td>\n",
       "      <td>3</td>\n",
       "      <td>2020</td>\n",
       "      <td>10</td>\n",
       "      <td>6</td>\n",
       "      <td>1</td>\n",
       "      <td>17:48:07</td>\n",
       "      <td>2020-03-08</td>\n",
       "      <td>Sunday</td>\n",
       "      <td>afternoon</td>\n",
       "    </tr>\n",
       "    <tr>\n",
       "      <td>3</td>\n",
       "      <td>Running</td>\n",
       "      <td>2020-03-04 18:41:53</td>\n",
       "      <td>Sydney Running</td>\n",
       "      <td>1.00</td>\n",
       "      <td>117.0</td>\n",
       "      <td>00:08:24.7</td>\n",
       "      <td>136</td>\n",
       "      <td>148</td>\n",
       "      <td>2.0</td>\n",
       "      <td>160.0</td>\n",
       "      <td>175.0</td>\n",
       "      <td>8:24</td>\n",
       "      <td>7:37</td>\n",
       "      <td>39</td>\n",
       "      <td>62</td>\n",
       "      <td>1.19</td>\n",
       "      <td>0:00</td>\n",
       "      <td>77.0</td>\n",
       "      <td>2.0</td>\n",
       "      <td>3</td>\n",
       "      <td>2020</td>\n",
       "      <td>10</td>\n",
       "      <td>2</td>\n",
       "      <td>1</td>\n",
       "      <td>18:41:53</td>\n",
       "      <td>2020-03-04</td>\n",
       "      <td>Wednesday</td>\n",
       "      <td>night</td>\n",
       "    </tr>\n",
       "    <tr>\n",
       "      <td>4</td>\n",
       "      <td>Running</td>\n",
       "      <td>2020-02-29 15:55:38</td>\n",
       "      <td>Sydney Running</td>\n",
       "      <td>2.80</td>\n",
       "      <td>347.0</td>\n",
       "      <td>00:22:17</td>\n",
       "      <td>150</td>\n",
       "      <td>170</td>\n",
       "      <td>3.4</td>\n",
       "      <td>166.0</td>\n",
       "      <td>213.0</td>\n",
       "      <td>7:58</td>\n",
       "      <td>6:38</td>\n",
       "      <td>135</td>\n",
       "      <td>187</td>\n",
       "      <td>1.22</td>\n",
       "      <td>0:00</td>\n",
       "      <td>80.6</td>\n",
       "      <td>3.0</td>\n",
       "      <td>2</td>\n",
       "      <td>2020</td>\n",
       "      <td>9</td>\n",
       "      <td>5</td>\n",
       "      <td>1</td>\n",
       "      <td>15:55:38</td>\n",
       "      <td>2020-02-29</td>\n",
       "      <td>Saturday</td>\n",
       "      <td>afternoon</td>\n",
       "    </tr>\n",
       "  </tbody>\n",
       "</table>\n",
       "</div>"
      ],
      "text/plain": [
       "  activity_type                date           title  distance  calories  \\\n",
       "0       Running 2020-03-15 18:36:50  Sydney Running      2.38     317.0   \n",
       "1       Running 2020-03-11 18:26:18  Sydney Running      4.09     550.0   \n",
       "2       Running 2020-03-08 17:48:07  Sydney Running      2.82     336.0   \n",
       "3       Running 2020-03-04 18:41:53  Sydney Running      1.00     117.0   \n",
       "4       Running 2020-02-29 15:55:38  Sydney Running      2.80     347.0   \n",
       "\n",
       "         time  avg_hr  max_hr  aerobic_te  avg_run_cadence  max_run_cadence  \\\n",
       "0    00:19:31     155     182         3.4            166.0            183.0   \n",
       "1    00:33:29     158     171         4.0            166.0            181.0   \n",
       "2    00:21:16     150     168         3.3            167.0            195.0   \n",
       "3  00:08:24.7     136     148         2.0            160.0            175.0   \n",
       "4    00:22:17     150     170         3.4            166.0            213.0   \n",
       "\n",
       "  avg_pace best_pace elev_gain elev_loss  avg_stride_length climb_time  \\\n",
       "0     8:13      6:48       141       174               1.18       0:00   \n",
       "1     8:11      6:48       226       256               1.18       0:00   \n",
       "2     7:32      5:44       128       190               1.28       0:00   \n",
       "3     8:24      7:37        39        62               1.19       0:00   \n",
       "4     7:58      6:38       135       187               1.22       0:00   \n",
       "\n",
       "   min_temp  number_of_runs  month  year  week  weekday  quarter  \\\n",
       "0      68.0             3.0      3  2020    11        6        1   \n",
       "1      71.6             5.0      3  2020    11        2        1   \n",
       "2      71.6             3.0      3  2020    10        6        1   \n",
       "3      77.0             2.0      3  2020    10        2        1   \n",
       "4      80.6             3.0      2  2020     9        5        1   \n",
       "\n",
       "  time_exercise date_exercise day_of_week   time_day  \n",
       "0      18:36:50    2020-03-15      Sunday      night  \n",
       "1      18:26:18    2020-03-11   Wednesday      night  \n",
       "2      17:48:07    2020-03-08      Sunday  afternoon  \n",
       "3      18:41:53    2020-03-04   Wednesday      night  \n",
       "4      15:55:38    2020-02-29    Saturday  afternoon  "
      ]
     },
     "execution_count": 50,
     "metadata": {},
     "output_type": "execute_result"
    }
   ],
   "source": [
    "df.head()"
   ]
  },
  {
   "cell_type": "markdown",
   "metadata": {},
   "source": [
    "## 3. Descriptive Statistics"
   ]
  },
  {
   "cell_type": "code",
   "execution_count": 57,
   "metadata": {},
   "outputs": [
    {
     "data": {
      "text/plain": [
       "['weekend', 'week_day', 'weekend', 'week_day', 'weekend']"
      ]
     },
     "execution_count": 57,
     "metadata": {},
     "output_type": "execute_result"
    }
   ],
   "source": [
    "week_or_end = []\n",
    "\n",
    "for day in df['weekday']:\n",
    "    if day >= 5:\n",
    "        week_or_end.append('weekend')\n",
    "    else:\n",
    "        week_or_end.append('week_day')\n",
    "\n",
    "week_or_end[:5]"
   ]
  },
  {
   "cell_type": "code",
   "execution_count": 58,
   "metadata": {},
   "outputs": [],
   "source": [
    "df['week_or_end'] = week_or_end"
   ]
  },
  {
   "cell_type": "code",
   "execution_count": 59,
   "metadata": {},
   "outputs": [
    {
     "data": {
      "text/html": [
       "<div>\n",
       "<style scoped>\n",
       "    .dataframe tbody tr th:only-of-type {\n",
       "        vertical-align: middle;\n",
       "    }\n",
       "\n",
       "    .dataframe tbody tr th {\n",
       "        vertical-align: top;\n",
       "    }\n",
       "\n",
       "    .dataframe thead th {\n",
       "        text-align: right;\n",
       "    }\n",
       "</style>\n",
       "<table border=\"1\" class=\"dataframe\">\n",
       "  <thead>\n",
       "    <tr style=\"text-align: right;\">\n",
       "      <th></th>\n",
       "      <th>activity_type</th>\n",
       "      <th>date</th>\n",
       "      <th>title</th>\n",
       "      <th>distance</th>\n",
       "      <th>calories</th>\n",
       "      <th>time</th>\n",
       "      <th>avg_hr</th>\n",
       "      <th>max_hr</th>\n",
       "      <th>aerobic_te</th>\n",
       "      <th>avg_run_cadence</th>\n",
       "      <th>max_run_cadence</th>\n",
       "      <th>avg_pace</th>\n",
       "      <th>best_pace</th>\n",
       "      <th>elev_gain</th>\n",
       "      <th>elev_loss</th>\n",
       "      <th>avg_stride_length</th>\n",
       "      <th>climb_time</th>\n",
       "      <th>min_temp</th>\n",
       "      <th>number_of_runs</th>\n",
       "      <th>month</th>\n",
       "      <th>year</th>\n",
       "      <th>week</th>\n",
       "      <th>weekday</th>\n",
       "      <th>quarter</th>\n",
       "      <th>time_exercise</th>\n",
       "      <th>date_exercise</th>\n",
       "      <th>day_of_week</th>\n",
       "      <th>time_day</th>\n",
       "      <th>week_or_end</th>\n",
       "    </tr>\n",
       "  </thead>\n",
       "  <tbody>\n",
       "    <tr>\n",
       "      <td>0</td>\n",
       "      <td>Running</td>\n",
       "      <td>2020-03-15 18:36:50</td>\n",
       "      <td>Sydney Running</td>\n",
       "      <td>2.38</td>\n",
       "      <td>317.0</td>\n",
       "      <td>00:19:31</td>\n",
       "      <td>155</td>\n",
       "      <td>182</td>\n",
       "      <td>3.4</td>\n",
       "      <td>166.0</td>\n",
       "      <td>183.0</td>\n",
       "      <td>8:13</td>\n",
       "      <td>6:48</td>\n",
       "      <td>141</td>\n",
       "      <td>174</td>\n",
       "      <td>1.18</td>\n",
       "      <td>0:00</td>\n",
       "      <td>68.0</td>\n",
       "      <td>3.0</td>\n",
       "      <td>3</td>\n",
       "      <td>2020</td>\n",
       "      <td>11</td>\n",
       "      <td>6</td>\n",
       "      <td>1</td>\n",
       "      <td>18:36:50</td>\n",
       "      <td>2020-03-15</td>\n",
       "      <td>Sunday</td>\n",
       "      <td>night</td>\n",
       "      <td>weekend</td>\n",
       "    </tr>\n",
       "    <tr>\n",
       "      <td>1</td>\n",
       "      <td>Running</td>\n",
       "      <td>2020-03-11 18:26:18</td>\n",
       "      <td>Sydney Running</td>\n",
       "      <td>4.09</td>\n",
       "      <td>550.0</td>\n",
       "      <td>00:33:29</td>\n",
       "      <td>158</td>\n",
       "      <td>171</td>\n",
       "      <td>4.0</td>\n",
       "      <td>166.0</td>\n",
       "      <td>181.0</td>\n",
       "      <td>8:11</td>\n",
       "      <td>6:48</td>\n",
       "      <td>226</td>\n",
       "      <td>256</td>\n",
       "      <td>1.18</td>\n",
       "      <td>0:00</td>\n",
       "      <td>71.6</td>\n",
       "      <td>5.0</td>\n",
       "      <td>3</td>\n",
       "      <td>2020</td>\n",
       "      <td>11</td>\n",
       "      <td>2</td>\n",
       "      <td>1</td>\n",
       "      <td>18:26:18</td>\n",
       "      <td>2020-03-11</td>\n",
       "      <td>Wednesday</td>\n",
       "      <td>night</td>\n",
       "      <td>week_day</td>\n",
       "    </tr>\n",
       "    <tr>\n",
       "      <td>2</td>\n",
       "      <td>Running</td>\n",
       "      <td>2020-03-08 17:48:07</td>\n",
       "      <td>Sydney Running</td>\n",
       "      <td>2.82</td>\n",
       "      <td>336.0</td>\n",
       "      <td>00:21:16</td>\n",
       "      <td>150</td>\n",
       "      <td>168</td>\n",
       "      <td>3.3</td>\n",
       "      <td>167.0</td>\n",
       "      <td>195.0</td>\n",
       "      <td>7:32</td>\n",
       "      <td>5:44</td>\n",
       "      <td>128</td>\n",
       "      <td>190</td>\n",
       "      <td>1.28</td>\n",
       "      <td>0:00</td>\n",
       "      <td>71.6</td>\n",
       "      <td>3.0</td>\n",
       "      <td>3</td>\n",
       "      <td>2020</td>\n",
       "      <td>10</td>\n",
       "      <td>6</td>\n",
       "      <td>1</td>\n",
       "      <td>17:48:07</td>\n",
       "      <td>2020-03-08</td>\n",
       "      <td>Sunday</td>\n",
       "      <td>afternoon</td>\n",
       "      <td>weekend</td>\n",
       "    </tr>\n",
       "    <tr>\n",
       "      <td>3</td>\n",
       "      <td>Running</td>\n",
       "      <td>2020-03-04 18:41:53</td>\n",
       "      <td>Sydney Running</td>\n",
       "      <td>1.00</td>\n",
       "      <td>117.0</td>\n",
       "      <td>00:08:24.7</td>\n",
       "      <td>136</td>\n",
       "      <td>148</td>\n",
       "      <td>2.0</td>\n",
       "      <td>160.0</td>\n",
       "      <td>175.0</td>\n",
       "      <td>8:24</td>\n",
       "      <td>7:37</td>\n",
       "      <td>39</td>\n",
       "      <td>62</td>\n",
       "      <td>1.19</td>\n",
       "      <td>0:00</td>\n",
       "      <td>77.0</td>\n",
       "      <td>2.0</td>\n",
       "      <td>3</td>\n",
       "      <td>2020</td>\n",
       "      <td>10</td>\n",
       "      <td>2</td>\n",
       "      <td>1</td>\n",
       "      <td>18:41:53</td>\n",
       "      <td>2020-03-04</td>\n",
       "      <td>Wednesday</td>\n",
       "      <td>night</td>\n",
       "      <td>week_day</td>\n",
       "    </tr>\n",
       "    <tr>\n",
       "      <td>4</td>\n",
       "      <td>Running</td>\n",
       "      <td>2020-02-29 15:55:38</td>\n",
       "      <td>Sydney Running</td>\n",
       "      <td>2.80</td>\n",
       "      <td>347.0</td>\n",
       "      <td>00:22:17</td>\n",
       "      <td>150</td>\n",
       "      <td>170</td>\n",
       "      <td>3.4</td>\n",
       "      <td>166.0</td>\n",
       "      <td>213.0</td>\n",
       "      <td>7:58</td>\n",
       "      <td>6:38</td>\n",
       "      <td>135</td>\n",
       "      <td>187</td>\n",
       "      <td>1.22</td>\n",
       "      <td>0:00</td>\n",
       "      <td>80.6</td>\n",
       "      <td>3.0</td>\n",
       "      <td>2</td>\n",
       "      <td>2020</td>\n",
       "      <td>9</td>\n",
       "      <td>5</td>\n",
       "      <td>1</td>\n",
       "      <td>15:55:38</td>\n",
       "      <td>2020-02-29</td>\n",
       "      <td>Saturday</td>\n",
       "      <td>afternoon</td>\n",
       "      <td>weekend</td>\n",
       "    </tr>\n",
       "  </tbody>\n",
       "</table>\n",
       "</div>"
      ],
      "text/plain": [
       "  activity_type                date           title  distance  calories  \\\n",
       "0       Running 2020-03-15 18:36:50  Sydney Running      2.38     317.0   \n",
       "1       Running 2020-03-11 18:26:18  Sydney Running      4.09     550.0   \n",
       "2       Running 2020-03-08 17:48:07  Sydney Running      2.82     336.0   \n",
       "3       Running 2020-03-04 18:41:53  Sydney Running      1.00     117.0   \n",
       "4       Running 2020-02-29 15:55:38  Sydney Running      2.80     347.0   \n",
       "\n",
       "         time  avg_hr  max_hr  aerobic_te  avg_run_cadence  max_run_cadence  \\\n",
       "0    00:19:31     155     182         3.4            166.0            183.0   \n",
       "1    00:33:29     158     171         4.0            166.0            181.0   \n",
       "2    00:21:16     150     168         3.3            167.0            195.0   \n",
       "3  00:08:24.7     136     148         2.0            160.0            175.0   \n",
       "4    00:22:17     150     170         3.4            166.0            213.0   \n",
       "\n",
       "  avg_pace best_pace elev_gain elev_loss  avg_stride_length climb_time  \\\n",
       "0     8:13      6:48       141       174               1.18       0:00   \n",
       "1     8:11      6:48       226       256               1.18       0:00   \n",
       "2     7:32      5:44       128       190               1.28       0:00   \n",
       "3     8:24      7:37        39        62               1.19       0:00   \n",
       "4     7:58      6:38       135       187               1.22       0:00   \n",
       "\n",
       "   min_temp  number_of_runs  month  year  week  weekday  quarter  \\\n",
       "0      68.0             3.0      3  2020    11        6        1   \n",
       "1      71.6             5.0      3  2020    11        2        1   \n",
       "2      71.6             3.0      3  2020    10        6        1   \n",
       "3      77.0             2.0      3  2020    10        2        1   \n",
       "4      80.6             3.0      2  2020     9        5        1   \n",
       "\n",
       "  time_exercise date_exercise day_of_week   time_day week_or_end  \n",
       "0      18:36:50    2020-03-15      Sunday      night     weekend  \n",
       "1      18:26:18    2020-03-11   Wednesday      night    week_day  \n",
       "2      17:48:07    2020-03-08      Sunday  afternoon     weekend  \n",
       "3      18:41:53    2020-03-04   Wednesday      night    week_day  \n",
       "4      15:55:38    2020-02-29    Saturday  afternoon     weekend  "
      ]
     },
     "execution_count": 59,
     "metadata": {},
     "output_type": "execute_result"
    }
   ],
   "source": [
    "df.head()"
   ]
  },
  {
   "cell_type": "code",
   "execution_count": 70,
   "metadata": {},
   "outputs": [
    {
     "data": {
      "text/plain": [
       "<matplotlib.axes._subplots.AxesSubplot at 0x1a2a80da10>"
      ]
     },
     "execution_count": 70,
     "metadata": {},
     "output_type": "execute_result"
    },
    {
     "data": {
      "image/png": "[encoded data removed]",
      "text/plain": [
       "<Figure size 432x288 with 1 Axes>"
      ]
     },
     "metadata": {
      "needs_background": "light"
     },
     "output_type": "display_data"
    }
   ],
   "source": [
    "df.pivot_table(\n",
    "    index=['week_or_end', 'time_day'],\n",
    "    columns='year',\n",
    "    values='distance',\n",
    "    aggfunc='mean'\n",
    ").plot.bar(title='pivot example')"
   ]
  },
  {
   "cell_type": "code",
   "execution_count": 273,
   "metadata": {},
   "outputs": [],
   "source": [
    "time_day_group = df.groupby(['time_day'])"
   ]
  },
  {
   "cell_type": "code",
   "execution_count": 330,
   "metadata": {},
   "outputs": [
    {
     "data": {
      "text/plain": [
       "time_day   Activity Type    \n",
       "afternoon  Treadmill Running    100\n",
       "           Running               67\n",
       "           Cycling               61\n",
       "morning    Cycling               32\n",
       "           Running               11\n",
       "           Treadmill Running      8\n",
       "           Elliptical             3\n",
       "night      Cycling               70\n",
       "           Treadmill Running     44\n",
       "           Running               34\n",
       "           Elliptical             8\n",
       "           Indoor Cycling         2\n",
       "           Strength Training      1\n",
       "Name: Activity Type, dtype: int64"
      ]
     },
     "execution_count": 330,
     "metadata": {},
     "output_type": "execute_result"
    }
   ],
   "source": [
    "time_day_group['Activity Type'].value_counts()"
   ]
  },
  {
   "cell_type": "code",
   "execution_count": 335,
   "metadata": {},
   "outputs": [
    {
     "data": {
      "text/plain": [
       "Activity Type\n",
       "Cycling              0.440252\n",
       "Treadmill Running    0.276730\n",
       "Running              0.213836\n",
       "Elliptical           0.050314\n",
       "Indoor Cycling       0.012579\n",
       "Strength Training    0.006289\n",
       "Name: Activity Type, dtype: float64"
      ]
     },
     "execution_count": 335,
     "metadata": {},
     "output_type": "execute_result"
    }
   ],
   "source": [
    "time_day_group['Activity Type'].value_counts(normalize=True)['night']"
   ]
  },
  {
   "cell_type": "code",
   "execution_count": 339,
   "metadata": {},
   "outputs": [
    {
     "data": {
      "text/plain": [
       "79.5"
      ]
     },
     "execution_count": 339,
     "metadata": {},
     "output_type": "execute_result"
    }
   ],
   "source": [
    "time_day_group['calories'].median()"
   ]
  },
  {
   "cell_type": "code",
   "execution_count": 341,
   "metadata": {},
   "outputs": [
    {
     "data": {
      "text/html": [
       "<div>\n",
       "<style scoped>\n",
       "    .dataframe tbody tr th:only-of-type {\n",
       "        vertical-align: middle;\n",
       "    }\n",
       "\n",
       "    .dataframe tbody tr th {\n",
       "        vertical-align: top;\n",
       "    }\n",
       "\n",
       "    .dataframe thead th {\n",
       "        text-align: right;\n",
       "    }\n",
       "</style>\n",
       "<table border=\"1\" class=\"dataframe\">\n",
       "  <thead>\n",
       "    <tr style=\"text-align: right;\">\n",
       "      <th></th>\n",
       "      <th>median</th>\n",
       "      <th>mean</th>\n",
       "      <th>count</th>\n",
       "    </tr>\n",
       "    <tr>\n",
       "      <th>time_day</th>\n",
       "      <th></th>\n",
       "      <th></th>\n",
       "      <th></th>\n",
       "    </tr>\n",
       "  </thead>\n",
       "  <tbody>\n",
       "    <tr>\n",
       "      <td>afternoon</td>\n",
       "      <td>126.0</td>\n",
       "      <td>190.149123</td>\n",
       "      <td>228</td>\n",
       "    </tr>\n",
       "    <tr>\n",
       "      <td>morning</td>\n",
       "      <td>79.5</td>\n",
       "      <td>111.185185</td>\n",
       "      <td>54</td>\n",
       "    </tr>\n",
       "    <tr>\n",
       "      <td>night</td>\n",
       "      <td>128.0</td>\n",
       "      <td>179.037975</td>\n",
       "      <td>158</td>\n",
       "    </tr>\n",
       "  </tbody>\n",
       "</table>\n",
       "</div>"
      ],
      "text/plain": [
       "           median        mean  count\n",
       "time_day                            \n",
       "afternoon   126.0  190.149123    228\n",
       "morning      79.5  111.185185     54\n",
       "night       128.0  179.037975    158"
      ]
     },
     "execution_count": 341,
     "metadata": {},
     "output_type": "execute_result"
    }
   ],
   "source": [
    "time_day_group['Calories'].agg(['median', 'mean', 'count'])"
   ]
  },
  {
   "cell_type": "code",
   "execution_count": 293,
   "metadata": {},
   "outputs": [
    {
     "data": {
      "text/plain": [
       "time_day\n",
       "afternoon    AxesSubplot(0.125,0.125;0.775x0.755)\n",
       "morning      AxesSubplot(0.125,0.125;0.775x0.755)\n",
       "night        AxesSubplot(0.125,0.125;0.775x0.755)\n",
       "Name: Calories, dtype: object"
      ]
     },
     "execution_count": 293,
     "metadata": {},
     "output_type": "execute_result"
    },
    {
     "data": {
      "image/png": "[encoded data removed]",
      "text/plain": [
       "<Figure size 432x288 with 1 Axes>"
      ]
     },
     "metadata": {
      "needs_background": "light"
     },
     "output_type": "display_data"
    }
   ],
   "source": [
    "time_day_group['Calories'].plot(kind='box')"
   ]
  },
  {
   "cell_type": "code",
   "execution_count": null,
   "metadata": {},
   "outputs": [],
   "source": [
    "time_day_group['Calories'].plot(kind='box')"
   ]
  },
  {
   "cell_type": "code",
   "execution_count": 301,
   "metadata": {},
   "outputs": [
    {
     "data": {
      "text/plain": [
       "<matplotlib.axes._subplots.AxesSubplot at 0x1a3ce80610>"
      ]
     },
     "execution_count": 301,
     "metadata": {},
     "output_type": "execute_result"
    },
    {
     "data": {
      "image/png": "[encoded data removed]",
      "text/plain": [
       "<Figure size 432x288 with 1 Axes>"
      ]
     },
     "metadata": {
      "needs_background": "light"
     },
     "output_type": "display_data"
    }
   ],
   "source": [
    "df['Number of Runs'].plot.area()"
   ]
  },
  {
   "cell_type": "code",
   "execution_count": 294,
   "metadata": {},
   "outputs": [],
   "source": [
    "activity_group = df.groupby(['Activity Type'], as_index=True)"
   ]
  },
  {
   "cell_type": "code",
   "execution_count": null,
   "metadata": {},
   "outputs": [],
   "source": [
    "activity_group.plot.bar() # can also add stacked=True"
   ]
  },
  {
   "cell_type": "code",
   "execution_count": 302,
   "metadata": {},
   "outputs": [],
   "source": [
    "date_group = df.groupby(['date_exercise'], as_index=True)"
   ]
  },
  {
   "cell_type": "code",
   "execution_count": 324,
   "metadata": {},
   "outputs": [
    {
     "data": {
      "text/plain": [
       "<matplotlib.axes._subplots.AxesSubplot at 0x1a43242d90>"
      ]
     },
     "execution_count": 324,
     "metadata": {},
     "output_type": "execute_result"
    },
    {
     "data": {
      "image/png": "[encoded data removed]",
      "text/plain": [
       "<Figure size 432x288 with 1 Axes>"
      ]
     },
     "metadata": {
      "needs_background": "light"
     },
     "output_type": "display_data"
    }
   ],
   "source": [
    "df[df['year'] == 2018].plot.line(x='date_exercise', y='Distance')"
   ]
  },
  {
   "cell_type": "code",
   "execution_count": 325,
   "metadata": {},
   "outputs": [
    {
     "data": {
      "text/plain": [
       "<matplotlib.axes._subplots.AxesSubplot at 0x1a43af7350>"
      ]
     },
     "execution_count": 325,
     "metadata": {},
     "output_type": "execute_result"
    },
    {
     "data": {
      "image/png": "[encoded data removed]",
      "text/plain": [
       "<Figure size 432x288 with 1 Axes>"
      ]
     },
     "metadata": {
      "needs_background": "light"
     },
     "output_type": "display_data"
    }
   ],
   "source": [
    "df.loc[df['year'] == 2018, 'Distance'].plot.box()"
   ]
  },
  {
   "cell_type": "code",
   "execution_count": 328,
   "metadata": {},
   "outputs": [
    {
     "data": {
      "text/plain": [
       "<matplotlib.axes._subplots.AxesSubplot at 0x1a3f3c7f50>"
      ]
     },
     "execution_count": 328,
     "metadata": {},
     "output_type": "execute_result"
    },
    {
     "data": {
      "image/png": "[encoded data removed]",
      "text/plain": [
       "<Figure size 432x288 with 2 Axes>"
      ]
     },
     "metadata": {
      "needs_background": "light"
     },
     "output_type": "display_data"
    }
   ],
   "source": [
    "df[['Distance', 'Calories']].plot.hexbin(x='Calories', y='Distance', gridsize=25)"
   ]
  },
  {
   "cell_type": "code",
   "execution_count": 263,
   "metadata": {},
   "outputs": [
    {
     "data": {
      "text/plain": [
       "Distance                1.510998\n",
       "Calories              176.468182\n",
       "Avg HR                126.108844\n",
       "Max HR                146.303855\n",
       "Aerobic TE              1.791364\n",
       "Avg Run Cadence       149.065693\n",
       "Max Run Cadence       177.496350\n",
       "Avg Stride Length       0.685034\n",
       "Min Temp               78.314286\n",
       "Number of Runs          1.711009\n",
       "month                   6.911565\n",
       "year                 2018.453515\n",
       "week                   28.378685\n",
       "weekday                 3.006803\n",
       "quarter                 2.609977\n",
       "dtype: float64"
      ]
     },
     "execution_count": 263,
     "metadata": {},
     "output_type": "execute_result"
    }
   ],
   "source": [
    "df.mean()"
   ]
  },
  {
   "cell_type": "code",
   "execution_count": null,
   "metadata": {},
   "outputs": [],
   "source": [
    "df.describe()"
   ]
  },
  {
   "cell_type": "markdown",
   "metadata": {},
   "source": [
    "## 4. Data Visualisation"
   ]
  },
  {
   "cell_type": "code",
   "execution_count": 246,
   "metadata": {},
   "outputs": [
    {
     "data": {
      "text/plain": [
       "numpy.float64"
      ]
     },
     "execution_count": 246,
     "metadata": {},
     "output_type": "execute_result"
    }
   ],
   "source": [
    "type(df['Number of Runs'].iloc[0])"
   ]
  },
  {
   "cell_type": "code",
   "execution_count": 271,
   "metadata": {},
   "outputs": [
    {
     "data": {
      "text/plain": [
       "<matplotlib.axes._subplots.AxesSubplot at 0x1a476a5610>"
      ]
     },
     "execution_count": 271,
     "metadata": {},
     "output_type": "execute_result"
    },
    {
     "data": {
      "image/png": "[encoded data removed]",
      "text/plain": [
       "<Figure size 432x288 with 1 Axes>"
      ]
     },
     "metadata": {
      "needs_background": "light"
     },
     "output_type": "display_data"
    }
   ],
   "source": [
    "sns.distplot(df['Distance'], bins=50, kde=True)"
   ]
  },
  {
   "cell_type": "code",
   "execution_count": 247,
   "metadata": {},
   "outputs": [
    {
     "data": {
      "text/plain": [
       "<matplotlib.axes._subplots.AxesSubplot at 0x1a391986d0>"
      ]
     },
     "execution_count": 247,
     "metadata": {},
     "output_type": "execute_result"
    },
    {
     "data": {
      "image/png": "[encoded data removed]",
      "text/plain": [
       "<Figure size 432x288 with 1 Axes>"
      ]
     },
     "metadata": {
      "needs_background": "light"
     },
     "output_type": "display_data"
    }
   ],
   "source": [
    "sns.distplot(df['Avg HR'], bins=30, kde=False)"
   ]
  },
  {
   "cell_type": "code",
   "execution_count": 248,
   "metadata": {},
   "outputs": [
    {
     "data": {
      "text/plain": [
       "<seaborn.axisgrid.JointGrid at 0x1a39086090>"
      ]
     },
     "execution_count": 248,
     "metadata": {},
     "output_type": "execute_result"
    },
    {
     "data": {
      "image/png": "[encoded data removed]",
      "text/plain": [
       "<Figure size 432x432 with 3 Axes>"
      ]
     },
     "metadata": {
      "needs_background": "light"
     },
     "output_type": "display_data"
    }
   ],
   "source": [
    "sns.jointplot(x='Distance', y='Calories', data=df)"
   ]
  },
  {
   "cell_type": "code",
   "execution_count": 249,
   "metadata": {},
   "outputs": [
    {
     "data": {
      "text/plain": [
       "<seaborn.axisgrid.JointGrid at 0x1a38ed0a50>"
      ]
     },
     "execution_count": 249,
     "metadata": {},
     "output_type": "execute_result"
    },
    {
     "data": {
      "image/png": "[encoded data removed]",
      "text/plain": [
       "<Figure size 432x432 with 3 Axes>"
      ]
     },
     "metadata": {
      "needs_background": "light"
     },
     "output_type": "display_data"
    }
   ],
   "source": [
    "sns.jointplot(x='Distance', y='Calories', data=df, kind='hex')"
   ]
  },
  {
   "cell_type": "code",
   "execution_count": 250,
   "metadata": {},
   "outputs": [
    {
     "data": {
      "text/plain": [
       "<seaborn.axisgrid.JointGrid at 0x1a3932ce10>"
      ]
     },
     "execution_count": 250,
     "metadata": {},
     "output_type": "execute_result"
    },
    {
     "data": {
      "image/png": "[encoded data removed]",
      "text/plain": [
       "<Figure size 432x432 with 3 Axes>"
      ]
     },
     "metadata": {
      "needs_background": "light"
     },
     "output_type": "display_data"
    }
   ],
   "source": [
    "sns.jointplot(x='Distance', y='Calories', data=df, kind='reg')"
   ]
  },
  {
   "cell_type": "code",
   "execution_count": 251,
   "metadata": {},
   "outputs": [
    {
     "name": "stderr",
     "output_type": "stream",
     "text": [
      "/opt/anaconda3/lib/python3.7/site-packages/numpy/lib/histograms.py:829: RuntimeWarning: invalid value encountered in greater_equal\n",
      "  keep = (tmp_a >= first_edge)\n",
      "/opt/anaconda3/lib/python3.7/site-packages/numpy/lib/histograms.py:830: RuntimeWarning: invalid value encountered in less_equal\n",
      "  keep &= (tmp_a <= last_edge)\n"
     ]
    },
    {
     "data": {
      "text/plain": [
       "<seaborn.axisgrid.PairGrid at 0x1a39136550>"
      ]
     },
     "execution_count": 251,
     "metadata": {},
     "output_type": "execute_result"
    },
    {
     "data": {
      "image/png": "[encoded data removed]",
      "text/plain": [
       "<Figure size 720x720 with 20 Axes>"
      ]
     },
     "metadata": {
      "needs_background": "light"
     },
     "output_type": "display_data"
    }
   ],
   "source": [
    "sns.pairplot(df[['Distance', 'Calories', 'Avg HR', 'Max HR']])"
   ]
  },
  {
   "cell_type": "code",
   "execution_count": 256,
   "metadata": {},
   "outputs": [
    {
     "data": {
      "text/html": [
       "\n",
       "<div id=\"altair-viz-3061e1a30d174757b4066b6abbcc1302\"></div>\n",
       "<script type=\"text/javascript\">\n",
       "  (function(spec, embedOpt){\n",
       "    const outputDiv = document.getElementById(\"altair-viz-3061e1a30d174757b4066b6abbcc1302\");\n",
       "    const paths = {\n",
       "      \"vega\": \"https://cdn.jsdelivr.net/npm//vega@5?noext\",\n",
       "      \"vega-lib\": \"https://cdn.jsdelivr.net/npm//vega-lib?noext\",\n",
       "      \"vega-lite\": \"https://cdn.jsdelivr.net/npm//vega-lite@4.0.2?noext\",\n",
       "      \"vega-embed\": \"https://cdn.jsdelivr.net/npm//vega-embed@6?noext\",\n",
       "    };\n",
       "\n",
       "    function loadScript(lib) {\n",
       "      return new Promise(function(resolve, reject) {\n",
       "        var s = document.createElement('script');\n",
       "        s.src = paths[lib];\n",
       "        s.async = true;\n",
       "        s.onload = () => resolve(paths[lib]);\n",
       "        s.onerror = () => reject(`Error loading script: ${paths[lib]}`);\n",
       "        document.getElementsByTagName(\"head\")[0].appendChild(s);\n",
       "      });\n",
       "    }\n",
       "\n",
       "    function showError(err) {\n",
       "      outputDiv.innerHTML = `<div class=\"error\" style=\"color:red;\">${err}</div>`;\n",
       "      throw err;\n",
       "    }\n",
       "\n",
       "    function displayChart(vegaEmbed) {\n",
       "      vegaEmbed(outputDiv, spec, embedOpt)\n",
       "        .catch(err => showError(`Javascript Error: ${err.message}<br>This usually means there's a typo in your chart specification. See the javascript console for the full traceback.`));\n",
       "    }\n",
       "\n",
       "    if(typeof define === \"function\" && define.amd) {\n",
       "      requirejs.config({paths});\n",
       "      require([\"vega-embed\"], displayChart, err => showError(`Error loading script: ${err.message}`));\n",
       "    } else if (typeof vegaEmbed === \"function\") {\n",
       "      displayChart(vegaEmbed);\n",
       "    } else {\n",
       "      loadScript(\"vega\")\n",
       "        .then(() => loadScript(\"vega-lite\"))\n",
       "        .then(() => loadScript(\"vega-embed\"))\n",
       "        .catch(showError)\n",
       "        .then(() => displayChart(vegaEmbed));\n",
       "    }\n",
       "  })({\"config\": {\"view\": {\"continuousWidth\": 400, \"continuousHeight\": 300}}, \"data\": {\"name\": \"data-f3497c84320b4ff543c1f2156df58068\"}, \"mark\": {\"type\": \"circle\", \"size\": 60}, \"encoding\": {\"color\": {\"type\": \"nominal\", \"field\": \"Title\"}, \"tooltip\": [{\"type\": \"quantitative\", \"field\": \"Avg HR\"}, {\"type\": \"quantitative\", \"field\": \"Max HR\"}, {\"type\": \"quantitative\", \"field\": \"Calories\"}, {\"type\": \"quantitative\", \"field\": \"Distance\"}, {\"type\": \"nominal\", \"field\": \"Title\"}], \"x\": {\"type\": \"quantitative\", \"field\": \"Distance\"}, \"y\": {\"type\": \"quantitative\", \"field\": \"Calories\"}}, \"selection\": {\"selector010\": {\"type\": \"interval\", \"bind\": \"scales\", \"encodings\": [\"x\", \"y\"]}}, \"$schema\": \"https://vega.github.io/schema/vega-lite/v4.0.2.json\", \"datasets\": {\"data-f3497c84320b4ff543c1f2156df58068\": [{\"Avg HR\": 130, \"Max HR\": 141, \"Calories\": 165.0, \"Distance\": 1.27, \"Title\": \"Treadmill Running\"}, {\"Avg HR\": 128, \"Max HR\": 137, \"Calories\": 65.0, \"Distance\": 0.63, \"Title\": \"Treadmill Running\"}, {\"Avg HR\": 135, \"Max HR\": 147, \"Calories\": 148.0, \"Distance\": 1.27, \"Title\": \"Treadmill Running\"}, {\"Avg HR\": 152, \"Max HR\": 171, \"Calories\": 359.0, \"Distance\": 2.64, \"Title\": \"Sydney Running\"}, {\"Avg HR\": 159, \"Max HR\": 173, \"Calories\": 71.0, \"Distance\": 0.49, \"Title\": \"Running\"}, {\"Avg HR\": 156, \"Max HR\": 172, \"Calories\": 177.0, \"Distance\": 1.16, \"Title\": \"Running\"}, {\"Avg HR\": 151, \"Max HR\": 169, \"Calories\": 281.0, \"Distance\": 2.13, \"Title\": \"Sydney Running\"}, {\"Avg HR\": 106, \"Max HR\": 134, \"Calories\": 183.0, \"Distance\": 3.36, \"Title\": \"Sydney Cycling\"}, {\"Avg HR\": 111, \"Max HR\": 134, \"Calories\": 223.0, \"Distance\": 3.48, \"Title\": \"Sydney Cycling\"}, {\"Avg HR\": 139, \"Max HR\": 155, \"Calories\": 289.0, \"Distance\": 2.5, \"Title\": \"Sydney Running\"}, {\"Avg HR\": 143, \"Max HR\": 155, \"Calories\": 156.0, \"Distance\": 1.26, \"Title\": \"Treadmill Running\"}, {\"Avg HR\": 145, \"Max HR\": 173, \"Calories\": 375.0, \"Distance\": 3.01, \"Title\": \"Darwin Running\"}, {\"Avg HR\": 149, \"Max HR\": 168, \"Calories\": 414.0, \"Distance\": 3.13, \"Title\": \"Darwin Running\"}, {\"Avg HR\": 144, \"Max HR\": 165, \"Calories\": 253.0, \"Distance\": 2.0, \"Title\": \"Sydney Running\"}, {\"Avg HR\": 86, \"Max HR\": 131, \"Calories\": 53.0, \"Distance\": 0.0, \"Title\": \"Elliptical\"}, {\"Avg HR\": 131, \"Max HR\": 148, \"Calories\": 134.0, \"Distance\": 1.39, \"Title\": \"Treadmill Running\"}, {\"Avg HR\": 149, \"Max HR\": 169, \"Calories\": 394.0, \"Distance\": 3.07, \"Title\": \"Sydney Running\"}, {\"Avg HR\": 150, \"Max HR\": 162, \"Calories\": 165.0, \"Distance\": 1.32, \"Title\": \"Sydney Running\"}, {\"Avg HR\": 148, \"Max HR\": 161, \"Calories\": 384.0, \"Distance\": 3.1, \"Title\": \"Sydney Running\"}, {\"Avg HR\": 131, \"Max HR\": 146, \"Calories\": 50.0, \"Distance\": 0.46, \"Title\": \"Sydney Running\"}, {\"Avg HR\": 130, \"Max HR\": 148, \"Calories\": 64.0, \"Distance\": 0.59, \"Title\": \"Treadmill Running\"}, {\"Avg HR\": 153, \"Max HR\": 177, \"Calories\": 610.0, \"Distance\": 4.69, \"Title\": \"Sydney Running\"}, {\"Avg HR\": 150, \"Max HR\": 163, \"Calories\": 45.0, \"Distance\": 0.37, \"Title\": \"Sydney Running\"}, {\"Avg HR\": 143, \"Max HR\": 164, \"Calories\": 166.0, \"Distance\": 1.37, \"Title\": \"Sydney Running\"}, {\"Avg HR\": 142, \"Max HR\": 155, \"Calories\": 86.0, \"Distance\": 0.8, \"Title\": \"Treadmill Running\"}, {\"Avg HR\": 136, \"Max HR\": 153, \"Calories\": 78.0, \"Distance\": 0.77, \"Title\": \"Treadmill Running\"}, {\"Avg HR\": 120, \"Max HR\": 154, \"Calories\": 197.0, \"Distance\": 1.11, \"Title\": \"Treadmill Running\"}, {\"Avg HR\": 153, \"Max HR\": 190, \"Calories\": 542.0, \"Distance\": 4.13, \"Title\": \"Sydney Running\"}, {\"Avg HR\": 141, \"Max HR\": 149, \"Calories\": 120.0, \"Distance\": 0.97, \"Title\": \"Treadmill Running\"}, {\"Avg HR\": 158, \"Max HR\": 169, \"Calories\": 237.0, \"Distance\": 1.78, \"Title\": \"Treadmill Running\"}, {\"Avg HR\": 142, \"Max HR\": 160, \"Calories\": 176.0, \"Distance\": 1.21, \"Title\": \"Sydney Running\"}, {\"Avg HR\": 152, \"Max HR\": 167, \"Calories\": 271.0, \"Distance\": 1.87, \"Title\": \"Treadmill Running\"}, {\"Avg HR\": 149, \"Max HR\": 177, \"Calories\": 260.0, \"Distance\": 1.83, \"Title\": \"Treadmill Running\"}, {\"Avg HR\": 142, \"Max HR\": 162, \"Calories\": 256.0, \"Distance\": 1.83, \"Title\": \"Treadmill Running\"}, {\"Avg HR\": 140, \"Max HR\": 154, \"Calories\": 153.0, \"Distance\": 0.92, \"Title\": \"Treadmill Running\"}, {\"Avg HR\": 155, \"Max HR\": 174, \"Calories\": 485.0, \"Distance\": 3.52, \"Title\": \"Sydney Running\"}, {\"Avg HR\": 154, \"Max HR\": 183, \"Calories\": 586.0, \"Distance\": 4.09, \"Title\": \"Sydney Running\"}, {\"Avg HR\": 124, \"Max HR\": 137, \"Calories\": 27.0, \"Distance\": 0.25, \"Title\": \"Running\"}, {\"Avg HR\": 129, \"Max HR\": 140, \"Calories\": 51.0, \"Distance\": 0.43, \"Title\": \"Running\"}, {\"Avg HR\": 145, \"Max HR\": 165, \"Calories\": 91.0, \"Distance\": 0.73, \"Title\": \"Santiago Running\"}, {\"Avg HR\": 70, \"Max HR\": 82, \"Calories\": 13.0, \"Distance\": 0.0, \"Title\": \"Elliptical\"}, {\"Avg HR\": 130, \"Max HR\": 143, \"Calories\": 29.0, \"Distance\": 0.27, \"Title\": \"Santiago Running\"}, {\"Avg HR\": 137, \"Max HR\": 149, \"Calories\": 76.0, \"Distance\": 0.6, \"Title\": \"Running\"}, {\"Avg HR\": 150, \"Max HR\": 173, \"Calories\": 546.0, \"Distance\": 4.01, \"Title\": \"Santiago Running\"}, {\"Avg HR\": 132, \"Max HR\": 143, \"Calories\": 126.0, \"Distance\": 1.04, \"Title\": \"Treadmill Running\"}, {\"Avg HR\": 78, \"Max HR\": 103, \"Calories\": 28.0, \"Distance\": 0.0, \"Title\": \"Elliptical\"}, {\"Avg HR\": 145, \"Max HR\": 157, \"Calories\": 112.0, \"Distance\": 0.89, \"Title\": \"Treadmill Running\"}, {\"Avg HR\": 116, \"Max HR\": 136, \"Calories\": 184.0, \"Distance\": 0.0, \"Title\": \"Elliptical\"}, {\"Avg HR\": 124, \"Max HR\": 124, \"Calories\": null, \"Distance\": 0.0, \"Title\": \"Santiago Running\"}, {\"Avg HR\": 154, \"Max HR\": 178, \"Calories\": 659.0, \"Distance\": 4.51, \"Title\": \"Santiago Running\"}, {\"Avg HR\": 129, \"Max HR\": 141, \"Calories\": 85.0, \"Distance\": 0.69, \"Title\": \"Treadmill Running\"}, {\"Avg HR\": 152, \"Max HR\": 161, \"Calories\": 105.0, \"Distance\": 0.88, \"Title\": \"Treadmill Running\"}, {\"Avg HR\": 134, \"Max HR\": 157, \"Calories\": 62.0, \"Distance\": 0.57, \"Title\": \"Santiago Running\"}, {\"Avg HR\": 134, \"Max HR\": 147, \"Calories\": 74.0, \"Distance\": 0.57, \"Title\": \"Running\"}, {\"Avg HR\": 126, \"Max HR\": 144, \"Calories\": 33.0, \"Distance\": 0.26, \"Title\": \"Kansas City Running\"}, {\"Avg HR\": 147, \"Max HR\": 158, \"Calories\": 275.0, \"Distance\": 2.01, \"Title\": \"Kansas City Running\"}, {\"Avg HR\": 90, \"Max HR\": 121, \"Calories\": 64.0, \"Distance\": 1.02, \"Title\": \"Washington Cycling\"}, {\"Avg HR\": 84, \"Max HR\": 111, \"Calories\": 191.0, \"Distance\": 4.36, \"Title\": \"Washington Cycling\"}, {\"Avg HR\": 89, \"Max HR\": 113, \"Calories\": 171.0, \"Distance\": 4.11, \"Title\": \"Washington Cycling\"}, {\"Avg HR\": 86, \"Max HR\": 116, \"Calories\": 128.0, \"Distance\": 2.43, \"Title\": \"Washington Cycling\"}, {\"Avg HR\": 104, \"Max HR\": 125, \"Calories\": 56.0, \"Distance\": 0.84, \"Title\": \"Washington Cycling\"}, {\"Avg HR\": 87, \"Max HR\": 95, \"Calories\": 26.0, \"Distance\": 0.78, \"Title\": \"Washington Cycling\"}, {\"Avg HR\": 96, \"Max HR\": 107, \"Calories\": 47.0, \"Distance\": 0.95, \"Title\": \"Washington Cycling\"}, {\"Avg HR\": 91, \"Max HR\": 112, \"Calories\": 27.0, \"Distance\": 0.44, \"Title\": \"Washington Cycling\"}, {\"Avg HR\": 88, \"Max HR\": 116, \"Calories\": 122.0, \"Distance\": 2.72, \"Title\": \"Washington Cycling\"}, {\"Avg HR\": 82, \"Max HR\": 94, \"Calories\": 21.0, \"Distance\": 0.71, \"Title\": \"Washington Cycling\"}, {\"Avg HR\": 90, \"Max HR\": 99, \"Calories\": 20.0, \"Distance\": 0.41, \"Title\": \"Washington Cycling\"}, {\"Avg HR\": 84, \"Max HR\": 105, \"Calories\": 82.0, \"Distance\": 2.25, \"Title\": \"Washington Cycling\"}, {\"Avg HR\": 92, \"Max HR\": 109, \"Calories\": 69.0, \"Distance\": 1.87, \"Title\": \"Washington Cycling\"}, {\"Avg HR\": 76, \"Max HR\": 100, \"Calories\": 26.0, \"Distance\": 0.72, \"Title\": \"Washington Cycling\"}, {\"Avg HR\": 90, \"Max HR\": 113, \"Calories\": 110.0, \"Distance\": 2.43, \"Title\": \"Washington Cycling\"}, {\"Avg HR\": 92, \"Max HR\": 132, \"Calories\": 176.0, \"Distance\": 3.0, \"Title\": \"Washington Cycling\"}, {\"Avg HR\": 93, \"Max HR\": 120, \"Calories\": 181.0, \"Distance\": 2.89, \"Title\": \"Washington Cycling\"}, {\"Avg HR\": 121, \"Max HR\": 141, \"Calories\": 76.0, \"Distance\": 0.95, \"Title\": \"Washington Cycling\"}, {\"Avg HR\": 120, \"Max HR\": 128, \"Calories\": 85.0, \"Distance\": 0.76, \"Title\": \"Washington Cycling\"}, {\"Avg HR\": 87, \"Max HR\": 125, \"Calories\": 143.0, \"Distance\": 1.07, \"Title\": \"Washington Cycling\"}, {\"Avg HR\": 98, \"Max HR\": 111, \"Calories\": 50.0, \"Distance\": 0.16, \"Title\": \"Washington Cycling\"}, {\"Avg HR\": 150, \"Max HR\": 170, \"Calories\": 276.0, \"Distance\": 2.01, \"Title\": \"Washington Running\"}, {\"Avg HR\": 90, \"Max HR\": 118, \"Calories\": 111.0, \"Distance\": 2.12, \"Title\": \"Washington Cycling\"}, {\"Avg HR\": 112, \"Max HR\": 146, \"Calories\": 107.0, \"Distance\": 2.03, \"Title\": \"Washington Cycling\"}, {\"Avg HR\": 92, \"Max HR\": 106, \"Calories\": 64.0, \"Distance\": 0.87, \"Title\": \"Washington Cycling\"}, {\"Avg HR\": 104, \"Max HR\": 122, \"Calories\": 57.0, \"Distance\": 0.91, \"Title\": \"Washington Cycling\"}, {\"Avg HR\": 93, \"Max HR\": 112, \"Calories\": 108.0, \"Distance\": 2.02, \"Title\": \"Washington Cycling\"}, {\"Avg HR\": 94, \"Max HR\": 110, \"Calories\": 65.0, \"Distance\": 1.05, \"Title\": \"Washington Cycling\"}, {\"Avg HR\": 87, \"Max HR\": 125, \"Calories\": 112.0, \"Distance\": 0.86, \"Title\": \"Washington Cycling\"}, {\"Avg HR\": 105, \"Max HR\": 128, \"Calories\": 54.0, \"Distance\": 0.48, \"Title\": \"Washington Cycling\"}, {\"Avg HR\": 99, \"Max HR\": 124, \"Calories\": 124.0, \"Distance\": 2.12, \"Title\": \"Washington Cycling\"}, {\"Avg HR\": 111, \"Max HR\": 130, \"Calories\": 113.0, \"Distance\": 1.9, \"Title\": \"Washington Cycling\"}, {\"Avg HR\": 99, \"Max HR\": 117, \"Calories\": 45.0, \"Distance\": 0.76, \"Title\": \"Washington Cycling\"}, {\"Avg HR\": 84, \"Max HR\": 98, \"Calories\": 33.0, \"Distance\": 1.01, \"Title\": \"Washington Cycling\"}, {\"Avg HR\": 93, \"Max HR\": 117, \"Calories\": 47.0, \"Distance\": 1.02, \"Title\": \"Washington Cycling\"}, {\"Avg HR\": 106, \"Max HR\": 128, \"Calories\": 62.0, \"Distance\": 0.84, \"Title\": \"Washington Cycling\"}, {\"Avg HR\": 91, \"Max HR\": 109, \"Calories\": 72.0, \"Distance\": 0.83, \"Title\": \"Washington Cycling\"}, {\"Avg HR\": 109, \"Max HR\": 131, \"Calories\": 57.0, \"Distance\": 1.07, \"Title\": \"Washington Cycling\"}, {\"Avg HR\": 137, \"Max HR\": 158, \"Calories\": 464.0, \"Distance\": 3.12, \"Title\": \"Washington Running\"}, {\"Avg HR\": 94, \"Max HR\": 112, \"Calories\": 64.0, \"Distance\": 1.99, \"Title\": \"Washington Cycling\"}, {\"Avg HR\": 99, \"Max HR\": 113, \"Calories\": 39.0, \"Distance\": 0.87, \"Title\": \"Washington Cycling\"}, {\"Avg HR\": 79, \"Max HR\": 94, \"Calories\": 25.0, \"Distance\": 1.03, \"Title\": \"Washington Cycling\"}, {\"Avg HR\": 91, \"Max HR\": 128, \"Calories\": 153.0, \"Distance\": 1.19, \"Title\": \"Washington Cycling\"}, {\"Avg HR\": 103, \"Max HR\": 127, \"Calories\": 55.0, \"Distance\": 0.91, \"Title\": \"Washington Cycling\"}, {\"Avg HR\": 103, \"Max HR\": 122, \"Calories\": 45.0, \"Distance\": 0.63, \"Title\": \"Washington Cycling\"}, {\"Avg HR\": 91, \"Max HR\": 119, \"Calories\": 33.0, \"Distance\": 0.0, \"Title\": \"Cycling\"}, {\"Avg HR\": 97, \"Max HR\": 118, \"Calories\": 94.0, \"Distance\": 1.91, \"Title\": \"Washington Cycling\"}, {\"Avg HR\": 113, \"Max HR\": 152, \"Calories\": 108.0, \"Distance\": 1.87, \"Title\": \"Washington Cycling\"}, {\"Avg HR\": 95, \"Max HR\": 112, \"Calories\": 108.0, \"Distance\": 2.34, \"Title\": \"Washington Cycling\"}, {\"Avg HR\": 101, \"Max HR\": 117, \"Calories\": 89.0, \"Distance\": 1.43, \"Title\": \"Washington Cycling\"}, {\"Avg HR\": 98, \"Max HR\": 118, \"Calories\": 100.0, \"Distance\": 0.88, \"Title\": \"Washington Cycling\"}, {\"Avg HR\": 116, \"Max HR\": 139, \"Calories\": 79.0, \"Distance\": 0.77, \"Title\": \"Washington Cycling\"}, {\"Avg HR\": 96, \"Max HR\": 116, \"Calories\": 71.0, \"Distance\": 1.57, \"Title\": \"Washington Cycling\"}, {\"Avg HR\": 85, \"Max HR\": 97, \"Calories\": 18.0, \"Distance\": 0.74, \"Title\": \"Washington Cycling\"}, {\"Avg HR\": 98, \"Max HR\": 126, \"Calories\": 46.0, \"Distance\": 1.02, \"Title\": \"Washington Cycling\"}, {\"Avg HR\": 92, \"Max HR\": 105, \"Calories\": 89.0, \"Distance\": 1.1, \"Title\": \"Washington Cycling\"}, {\"Avg HR\": 103, \"Max HR\": 120, \"Calories\": 49.0, \"Distance\": 1.03, \"Title\": \"Washington Cycling\"}, {\"Avg HR\": 97, \"Max HR\": 113, \"Calories\": 38.0, \"Distance\": 0.93, \"Title\": \"Washington Cycling\"}, {\"Avg HR\": 86, \"Max HR\": 101, \"Calories\": 35.0, \"Distance\": 1.02, \"Title\": \"Washington Cycling\"}, {\"Avg HR\": 92, \"Max HR\": 111, \"Calories\": 88.0, \"Distance\": 2.11, \"Title\": \"Washington Cycling\"}, {\"Avg HR\": 94, \"Max HR\": 114, \"Calories\": 68.0, \"Distance\": 1.47, \"Title\": \"Washington Cycling\"}, {\"Avg HR\": 87, \"Max HR\": 109, \"Calories\": 88.0, \"Distance\": 1.98, \"Title\": \"Washington Cycling\"}, {\"Avg HR\": 108, \"Max HR\": 137, \"Calories\": 94.0, \"Distance\": 2.05, \"Title\": \"Washington Cycling\"}, {\"Avg HR\": 113, \"Max HR\": 133, \"Calories\": 49.0, \"Distance\": 0.63, \"Title\": \"Washington Cycling\"}, {\"Avg HR\": 97, \"Max HR\": 114, \"Calories\": 23.0, \"Distance\": 0.42, \"Title\": \"Washington Cycling\"}, {\"Avg HR\": 135, \"Max HR\": 148, \"Calories\": 317.0, \"Distance\": 2.26, \"Title\": \"Washington Running\"}, {\"Avg HR\": 83, \"Max HR\": 107, \"Calories\": 79.0, \"Distance\": 2.29, \"Title\": \"Washington Cycling\"}, {\"Avg HR\": 117, \"Max HR\": 168, \"Calories\": 112.0, \"Distance\": 1.68, \"Title\": \"Washington Cycling\"}, {\"Avg HR\": 95, \"Max HR\": 127, \"Calories\": 112.0, \"Distance\": 2.15, \"Title\": \"Washington Cycling\"}, {\"Avg HR\": 104, \"Max HR\": 133, \"Calories\": 99.0, \"Distance\": 2.05, \"Title\": \"Washington Cycling\"}, {\"Avg HR\": 88, \"Max HR\": 116, \"Calories\": 74.0, \"Distance\": 0.76, \"Title\": \"Washington Cycling\"}, {\"Avg HR\": 91, \"Max HR\": 131, \"Calories\": 76.0, \"Distance\": 0.19, \"Title\": \"Washington Cycling\"}, {\"Avg HR\": 110, \"Max HR\": 124, \"Calories\": 51.0, \"Distance\": 0.99, \"Title\": \"Washington Cycling\"}, {\"Avg HR\": 115, \"Max HR\": 131, \"Calories\": 68.0, \"Distance\": 0.94, \"Title\": \"Washington Cycling\"}, {\"Avg HR\": 96, \"Max HR\": 121, \"Calories\": 105.0, \"Distance\": 2.23, \"Title\": \"Washington Cycling\"}, {\"Avg HR\": 115, \"Max HR\": 128, \"Calories\": 118.0, \"Distance\": 1.98, \"Title\": \"Washington Cycling\"}, {\"Avg HR\": 96, \"Max HR\": 130, \"Calories\": 58.0, \"Distance\": 0.88, \"Title\": \"Washington Cycling\"}, {\"Avg HR\": 144, \"Max HR\": 160, \"Calories\": 286.0, \"Distance\": 2.12, \"Title\": \"Washington Running\"}, {\"Avg HR\": 96, \"Max HR\": 126, \"Calories\": 100.0, \"Distance\": 1.49, \"Title\": \"Washington Cycling\"}, {\"Avg HR\": 97, \"Max HR\": 124, \"Calories\": 132.0, \"Distance\": 1.39, \"Title\": \"Washington Cycling\"}, {\"Avg HR\": 134, \"Max HR\": 157, \"Calories\": 407.0, \"Distance\": 2.83, \"Title\": \"Washington Running\"}, {\"Avg HR\": 138, \"Max HR\": 178, \"Calories\": 397.0, \"Distance\": 2.81, \"Title\": \"Washington Running\"}, {\"Avg HR\": 109, \"Max HR\": 136, \"Calories\": 118.0, \"Distance\": 1.96, \"Title\": \"Washington Cycling\"}, {\"Avg HR\": 136, \"Max HR\": 163, \"Calories\": 135.0, \"Distance\": 1.81, \"Title\": \"Washington Cycling\"}, {\"Avg HR\": 113, \"Max HR\": 130, \"Calories\": 164.0, \"Distance\": 2.13, \"Title\": \"Washington Cycling\"}, {\"Avg HR\": 110, \"Max HR\": 131, \"Calories\": 62.0, \"Distance\": 1.34, \"Title\": \"Washington Cycling\"}, {\"Avg HR\": 118, \"Max HR\": 140, \"Calories\": 167.0, \"Distance\": 2.18, \"Title\": \"Washington Cycling\"}, {\"Avg HR\": 119, \"Max HR\": 135, \"Calories\": 124.0, \"Distance\": 1.65, \"Title\": \"Washington Cycling\"}, {\"Avg HR\": 103, \"Max HR\": 127, \"Calories\": 138.0, \"Distance\": 2.27, \"Title\": \"Washington Cycling\"}, {\"Avg HR\": 107, \"Max HR\": 131, \"Calories\": 86.0, \"Distance\": 1.64, \"Title\": \"Washington Cycling\"}, {\"Avg HR\": 143, \"Max HR\": 161, \"Calories\": 299.0, \"Distance\": 2.1, \"Title\": \"Running\"}, {\"Avg HR\": 104, \"Max HR\": 141, \"Calories\": 126.0, \"Distance\": 2.17, \"Title\": \"Washington Cycling\"}, {\"Avg HR\": 104, \"Max HR\": 140, \"Calories\": 229.0, \"Distance\": 2.39, \"Title\": \"Washington Cycling\"}, {\"Avg HR\": 124, \"Max HR\": 144, \"Calories\": 78.0, \"Distance\": 0.36, \"Title\": \"Washington Cycling\"}, {\"Avg HR\": 142, \"Max HR\": 151, \"Calories\": 165.0, \"Distance\": 1.12, \"Title\": \"Running\"}, {\"Avg HR\": 149, \"Max HR\": 169, \"Calories\": 255.0, \"Distance\": 1.63, \"Title\": \"Running\"}, {\"Avg HR\": 110, \"Max HR\": 150, \"Calories\": 48.0, \"Distance\": 0.67, \"Title\": \"Washington Cycling\"}, {\"Avg HR\": 95, \"Max HR\": 122, \"Calories\": 58.0, \"Distance\": 1.17, \"Title\": \"Washington Cycling\"}, {\"Avg HR\": 118, \"Max HR\": 139, \"Calories\": 170.0, \"Distance\": 2.26, \"Title\": \"Washington Cycling\"}, {\"Avg HR\": 108, \"Max HR\": 147, \"Calories\": 131.0, \"Distance\": 0.74, \"Title\": \"Washington Cycling\"}, {\"Avg HR\": 122, \"Max HR\": 143, \"Calories\": 131.0, \"Distance\": 1.97, \"Title\": \"Washington Cycling\"}, {\"Avg HR\": 147, \"Max HR\": 170, \"Calories\": 312.0, \"Distance\": 2.08, \"Title\": \"Running\"}, {\"Avg HR\": 87, \"Max HR\": 115, \"Calories\": 24.0, \"Distance\": 0.82, \"Title\": \"Washington Cycling\"}, {\"Avg HR\": 108, \"Max HR\": 134, \"Calories\": 61.0, \"Distance\": 1.02, \"Title\": \"Washington Cycling\"}, {\"Avg HR\": 102, \"Max HR\": 127, \"Calories\": 78.0, \"Distance\": 1.52, \"Title\": \"Washington Cycling\"}, {\"Avg HR\": 110, \"Max HR\": 129, \"Calories\": 79.0, \"Distance\": 1.16, \"Title\": \"Washington Cycling\"}, {\"Avg HR\": 100, \"Max HR\": 120, \"Calories\": 111.0, \"Distance\": 2.22, \"Title\": \"Washington Cycling\"}, {\"Avg HR\": 124, \"Max HR\": 142, \"Calories\": 134.0, \"Distance\": 1.74, \"Title\": \"Washington Cycling\"}, {\"Avg HR\": 123, \"Max HR\": 131, \"Calories\": 51.0, \"Distance\": 0.71, \"Title\": \"Washington Cycling\"}, {\"Avg HR\": 95, \"Max HR\": 113, \"Calories\": 31.0, \"Distance\": 0.64, \"Title\": \"Washington Cycling\"}, {\"Avg HR\": 100, \"Max HR\": 112, \"Calories\": 23.0, \"Distance\": 0.64, \"Title\": \"Washington Cycling\"}, {\"Avg HR\": 116, \"Max HR\": 142, \"Calories\": 63.0, \"Distance\": 0.35, \"Title\": \"Washington Cycling\"}, {\"Avg HR\": 90, \"Max HR\": 111, \"Calories\": 49.0, \"Distance\": 0.98, \"Title\": \"Washington Cycling\"}, {\"Avg HR\": 102, \"Max HR\": 113, \"Calories\": 50.0, \"Distance\": 0.58, \"Title\": \"Washington Cycling\"}, {\"Avg HR\": 107, \"Max HR\": 119, \"Calories\": 40.0, \"Distance\": 0.54, \"Title\": \"Washington Cycling\"}, {\"Avg HR\": 93, \"Max HR\": 114, \"Calories\": 24.0, \"Distance\": 0.72, \"Title\": \"Washington Cycling\"}, {\"Avg HR\": 104, \"Max HR\": 123, \"Calories\": 194.0, \"Distance\": 3.12, \"Title\": \"Washington Cycling\"}, {\"Avg HR\": 98, \"Max HR\": 120, \"Calories\": 108.0, \"Distance\": 2.11, \"Title\": \"Washington Cycling\"}, {\"Avg HR\": 102, \"Max HR\": 126, \"Calories\": 44.0, \"Distance\": 0.99, \"Title\": \"Washington Cycling\"}, {\"Avg HR\": 96, \"Max HR\": 114, \"Calories\": 38.0, \"Distance\": 0.58, \"Title\": \"Washington Cycling\"}, {\"Avg HR\": 152, \"Max HR\": 167, \"Calories\": 310.0, \"Distance\": 1.95, \"Title\": \"Washington Running\"}, {\"Avg HR\": 101, \"Max HR\": 125, \"Calories\": 135.0, \"Distance\": 2.32, \"Title\": \"Washington Cycling\"}, {\"Avg HR\": 107, \"Max HR\": 140, \"Calories\": 109.0, \"Distance\": 1.79, \"Title\": \"Washington Cycling\"}, {\"Avg HR\": 107, \"Max HR\": 126, \"Calories\": 46.0, \"Distance\": 0.73, \"Title\": \"Washington Cycling\"}, {\"Avg HR\": 109, \"Max HR\": 139, \"Calories\": 52.0, \"Distance\": 0.1, \"Title\": \"Washington Cycling\"}, {\"Avg HR\": 97, \"Max HR\": 124, \"Calories\": 44.0, \"Distance\": 0.65, \"Title\": \"Washington Cycling\"}, {\"Avg HR\": 97, \"Max HR\": 125, \"Calories\": 30.0, \"Distance\": 0.17, \"Title\": \"Washington Cycling\"}, {\"Avg HR\": 104, \"Max HR\": 123, \"Calories\": 47.0, \"Distance\": 0.61, \"Title\": \"Washington Cycling\"}, {\"Avg HR\": 108, \"Max HR\": 134, \"Calories\": 63.0, \"Distance\": 0.67, \"Title\": \"Washington Cycling\"}, {\"Avg HR\": 103, \"Max HR\": 131, \"Calories\": 73.0, \"Distance\": 0.85, \"Title\": \"Washington Cycling\"}, {\"Avg HR\": 101, \"Max HR\": 122, \"Calories\": 104.0, \"Distance\": 1.56, \"Title\": \"Washington Cycling\"}, {\"Avg HR\": 113, \"Max HR\": 129, \"Calories\": 106.0, \"Distance\": 1.84, \"Title\": \"Washington Cycling\"}, {\"Avg HR\": 80, \"Max HR\": 99, \"Calories\": 59.0, \"Distance\": 2.17, \"Title\": \"Washington Cycling\"}, {\"Avg HR\": 96, \"Max HR\": 129, \"Calories\": 75.0, \"Distance\": 1.78, \"Title\": \"Washington Cycling\"}, {\"Avg HR\": 108, \"Max HR\": 136, \"Calories\": 116.0, \"Distance\": 0.83, \"Title\": \"Washington Cycling\"}, {\"Avg HR\": 103, \"Max HR\": 139, \"Calories\": 74.0, \"Distance\": 1.68, \"Title\": \"Washington Cycling\"}, {\"Avg HR\": 102, \"Max HR\": 141, \"Calories\": 128.0, \"Distance\": 1.38, \"Title\": \"Washington Cycling\"}, {\"Avg HR\": 92, \"Max HR\": 123, \"Calories\": 63.0, \"Distance\": 2.01, \"Title\": \"Washington Cycling\"}, {\"Avg HR\": 108, \"Max HR\": 127, \"Calories\": 94.0, \"Distance\": 1.04, \"Title\": \"Washington Cycling\"}, {\"Avg HR\": 149, \"Max HR\": 160, \"Calories\": 242.0, \"Distance\": 2.0, \"Title\": \"Treadmill Running\"}, {\"Avg HR\": 105, \"Max HR\": 121, \"Calories\": 54.0, \"Distance\": 0.6, \"Title\": \"Washington Cycling\"}, {\"Avg HR\": 108, \"Max HR\": 149, \"Calories\": 207.0, \"Distance\": 0.0, \"Title\": \"Indoor Cycling\"}, {\"Avg HR\": 136, \"Max HR\": 175, \"Calories\": 487.0, \"Distance\": 0.0, \"Title\": \"Elliptical\"}, {\"Avg HR\": 104, \"Max HR\": 130, \"Calories\": 93.0, \"Distance\": 0.98, \"Title\": \"Washington Cycling\"}, {\"Avg HR\": 122, \"Max HR\": 143, \"Calories\": 147.0, \"Distance\": 1.49, \"Title\": \"Washington Cycling\"}, {\"Avg HR\": 114, \"Max HR\": 138, \"Calories\": 111.0, \"Distance\": 1.66, \"Title\": \"Washington Cycling\"}, {\"Avg HR\": 110, \"Max HR\": 130, \"Calories\": 78.0, \"Distance\": 1.04, \"Title\": \"Washington Cycling\"}, {\"Avg HR\": 106, \"Max HR\": 125, \"Calories\": 54.0, \"Distance\": 0.95, \"Title\": \"Washington Cycling\"}, {\"Avg HR\": 145, \"Max HR\": 161, \"Calories\": 368.0, \"Distance\": 2.8, \"Title\": \"Washington Running\"}, {\"Avg HR\": 142, \"Max HR\": 154, \"Calories\": 228.0, \"Distance\": 2.0, \"Title\": \"Treadmill Running\"}, {\"Avg HR\": 147, \"Max HR\": 163, \"Calories\": 234.0, \"Distance\": 2.01, \"Title\": \"Treadmill Running\"}, {\"Avg HR\": 148, \"Max HR\": 161, \"Calories\": 353.0, \"Distance\": 3.01, \"Title\": \"Treadmill Running\"}, {\"Avg HR\": 149, \"Max HR\": 161, \"Calories\": 357.0, \"Distance\": 3.0, \"Title\": \"Treadmill Running\"}, {\"Avg HR\": 153, \"Max HR\": 170, \"Calories\": 568.0, \"Distance\": 4.02, \"Title\": \"Shawnee Running\"}, {\"Avg HR\": 149, \"Max HR\": 161, \"Calories\": 243.0, \"Distance\": 2.06, \"Title\": \"Treadmill Running\"}, {\"Avg HR\": 147, \"Max HR\": 168, \"Calories\": 239.0, \"Distance\": 2.01, \"Title\": \"Treadmill Running\"}, {\"Avg HR\": 106, \"Max HR\": 132, \"Calories\": 281.0, \"Distance\": 0.0, \"Title\": \"Indoor Cycling\"}, {\"Avg HR\": 115, \"Max HR\": 129, \"Calories\": 62.0, \"Distance\": 0.99, \"Title\": \"Washington Cycling\"}, {\"Avg HR\": 164, \"Max HR\": 177, \"Calories\": 264.0, \"Distance\": 2.0, \"Title\": \"Treadmill Running\"}, {\"Avg HR\": 157, \"Max HR\": 164, \"Calories\": 253.0, \"Distance\": 1.96, \"Title\": \"Treadmill Running\"}, {\"Avg HR\": 110, \"Max HR\": 136, \"Calories\": 47.0, \"Distance\": 0.42, \"Title\": \"Washington Cycling\"}, {\"Avg HR\": 110, \"Max HR\": 131, \"Calories\": 106.0, \"Distance\": 1.13, \"Title\": \"Washington Cycling\"}, {\"Avg HR\": 103, \"Max HR\": 128, \"Calories\": 58.0, \"Distance\": 1.0, \"Title\": \"Washington Cycling\"}, {\"Avg HR\": 130, \"Max HR\": 161, \"Calories\": 343.0, \"Distance\": 0.0, \"Title\": \"Elliptical\"}, {\"Avg HR\": 102, \"Max HR\": 127, \"Calories\": 80.0, \"Distance\": 0.62, \"Title\": \"Washington Cycling\"}, {\"Avg HR\": 144, \"Max HR\": 162, \"Calories\": 250.0, \"Distance\": 2.01, \"Title\": \"Treadmill Running\"}, {\"Avg HR\": 140, \"Max HR\": 153, \"Calories\": 258.0, \"Distance\": 2.05, \"Title\": \"Treadmill Running\"}, {\"Avg HR\": 139, \"Max HR\": 169, \"Calories\": 493.0, \"Distance\": 0.0, \"Title\": \"Elliptical\"}, {\"Avg HR\": 157, \"Max HR\": 171, \"Calories\": 131.0, \"Distance\": 0.99, \"Title\": \"Treadmill Running\"}, {\"Avg HR\": 138, \"Max HR\": 155, \"Calories\": 143.0, \"Distance\": 1.06, \"Title\": \"Treadmill Running\"}, {\"Avg HR\": 101, \"Max HR\": 126, \"Calories\": 77.0, \"Distance\": 0.79, \"Title\": \"Washington Cycling\"}, {\"Avg HR\": 101, \"Max HR\": 122, \"Calories\": 45.0, \"Distance\": 0.44, \"Title\": \"Washington Cycling\"}, {\"Avg HR\": 133, \"Max HR\": 151, \"Calories\": 382.0, \"Distance\": 0.0, \"Title\": \"Elliptical\"}, {\"Avg HR\": 152, \"Max HR\": 162, \"Calories\": 249.0, \"Distance\": 2.0, \"Title\": \"Treadmill Running\"}, {\"Avg HR\": 108, \"Max HR\": 129, \"Calories\": 86.0, \"Distance\": 0.55, \"Title\": \"Washington Cycling\"}, {\"Avg HR\": 132, \"Max HR\": 180, \"Calories\": 470.0, \"Distance\": 0.0, \"Title\": \"Elliptical\"}, {\"Avg HR\": 106, \"Max HR\": 123, \"Calories\": 69.0, \"Distance\": 0.48, \"Title\": \"Washington Cycling\"}, {\"Avg HR\": 126, \"Max HR\": 166, \"Calories\": 473.0, \"Distance\": 0.0, \"Title\": \"Elliptical\"}, {\"Avg HR\": 120, \"Max HR\": 133, \"Calories\": 63.0, \"Distance\": 0.59, \"Title\": \"Washington Cycling\"}, {\"Avg HR\": 122, \"Max HR\": 146, \"Calories\": 389.0, \"Distance\": 0.0, \"Title\": \"Elliptical\"}, {\"Avg HR\": 98, \"Max HR\": 127, \"Calories\": 50.0, \"Distance\": 0.67, \"Title\": \"Washington Cycling\"}, {\"Avg HR\": 101, \"Max HR\": 116, \"Calories\": 50.0, \"Distance\": 0.6, \"Title\": \"Washington Cycling\"}, {\"Avg HR\": 113, \"Max HR\": 127, \"Calories\": 82.0, \"Distance\": 0.7, \"Title\": \"Washington Cycling\"}, {\"Avg HR\": 104, \"Max HR\": 126, \"Calories\": 69.0, \"Distance\": 1.15, \"Title\": \"Washington Cycling\"}, {\"Avg HR\": 94, \"Max HR\": 109, \"Calories\": 77.0, \"Distance\": 0.89, \"Title\": \"Washington Cycling\"}, {\"Avg HR\": 153, \"Max HR\": 167, \"Calories\": 394.0, \"Distance\": 2.95, \"Title\": \"Washington Running\"}, {\"Avg HR\": 90, \"Max HR\": 118, \"Calories\": 116.0, \"Distance\": 1.87, \"Title\": \"Washington Cycling\"}, {\"Avg HR\": 99, \"Max HR\": 112, \"Calories\": 28.0, \"Distance\": 0.44, \"Title\": \"Washington Cycling\"}, {\"Avg HR\": 146, \"Max HR\": 164, \"Calories\": 273.0, \"Distance\": 2.02, \"Title\": \"Washington Running\"}, {\"Avg HR\": 95, \"Max HR\": 128, \"Calories\": 46.0, \"Distance\": 0.65, \"Title\": \"Washington Cycling\"}, {\"Avg HR\": 150, \"Max HR\": 168, \"Calories\": 271.0, \"Distance\": 2.04, \"Title\": \"Washington Running\"}, {\"Avg HR\": 144, \"Max HR\": 159, \"Calories\": 345.0, \"Distance\": 2.63, \"Title\": \"Treadmill Running\"}, {\"Avg HR\": 153, \"Max HR\": 176, \"Calories\": 286.0, \"Distance\": 2.05, \"Title\": \"Washington Running\"}, {\"Avg HR\": 135, \"Max HR\": 146, \"Calories\": 294.0, \"Distance\": 2.1, \"Title\": \"Washington Running\"}, {\"Avg HR\": 92, \"Max HR\": 100, \"Calories\": 9.0, \"Distance\": 0.17, \"Title\": \"Washington Cycling\"}, {\"Avg HR\": 140, \"Max HR\": 160, \"Calories\": 293.0, \"Distance\": 1.96, \"Title\": \"Washington Running\"}, {\"Avg HR\": 155, \"Max HR\": 163, \"Calories\": 143.0, \"Distance\": 1.0, \"Title\": \"Treadmill Running\"}, {\"Avg HR\": 93, \"Max HR\": 113, \"Calories\": 45.0, \"Distance\": 1.09, \"Title\": \"Washington Cycling\"}, {\"Avg HR\": 139, \"Max HR\": 159, \"Calories\": 124.0, \"Distance\": 1.01, \"Title\": \"Treadmill Running\"}, {\"Avg HR\": 123, \"Max HR\": 151, \"Calories\": 191.0, \"Distance\": 1.03, \"Title\": \"Treadmill Running\"}, {\"Avg HR\": 148, \"Max HR\": 160, \"Calories\": 133.0, \"Distance\": 1.05, \"Title\": \"Treadmill Running\"}, {\"Avg HR\": 137, \"Max HR\": 159, \"Calories\": 123.0, \"Distance\": 1.02, \"Title\": \"Treadmill Running\"}, {\"Avg HR\": 146, \"Max HR\": 164, \"Calories\": 536.0, \"Distance\": 4.3, \"Title\": \"Kansas City Running\"}, {\"Avg HR\": 156, \"Max HR\": 183, \"Calories\": 608.0, \"Distance\": 4.26, \"Title\": \"Kansas City Running\"}, {\"Avg HR\": 150, \"Max HR\": 169, \"Calories\": 571.0, \"Distance\": 4.25, \"Title\": \"Kansas City Running\"}, {\"Avg HR\": 158, \"Max HR\": 182, \"Calories\": 675.0, \"Distance\": 4.4, \"Title\": \"Kansas City Running\"}, {\"Avg HR\": 147, \"Max HR\": 159, \"Calories\": 567.0, \"Distance\": 4.25, \"Title\": \"Kansas City Running\"}, {\"Avg HR\": 151, \"Max HR\": 171, \"Calories\": 435.0, \"Distance\": 3.01, \"Title\": \"Kansas City Running\"}, {\"Avg HR\": 138, \"Max HR\": 155, \"Calories\": 373.0, \"Distance\": 3.0, \"Title\": \"Kansas City Running\"}, {\"Avg HR\": 154, \"Max HR\": 176, \"Calories\": 614.0, \"Distance\": 4.3, \"Title\": \"Kansas City Running\"}, {\"Avg HR\": 150, \"Max HR\": 180, \"Calories\": 361.0, \"Distance\": 3.0, \"Title\": \"Kansas City Running\"}, {\"Avg HR\": 136, \"Max HR\": 148, \"Calories\": 240.0, \"Distance\": 1.74, \"Title\": \"Kansas City Running\"}, {\"Avg HR\": 144, \"Max HR\": 163, \"Calories\": 401.0, \"Distance\": 3.01, \"Title\": \"Kansas City Running\"}, {\"Avg HR\": 150, \"Max HR\": 171, \"Calories\": 419.0, \"Distance\": 3.01, \"Title\": \"Kansas City Running\"}, {\"Avg HR\": 148, \"Max HR\": 172, \"Calories\": 596.0, \"Distance\": 4.4, \"Title\": \"Kansas City Running\"}, {\"Avg HR\": 151, \"Max HR\": 171, \"Calories\": 512.0, \"Distance\": 3.69, \"Title\": \"Kansas City Running\"}, {\"Avg HR\": 152, \"Max HR\": 174, \"Calories\": 395.0, \"Distance\": 3.0, \"Title\": \"Kansas City Running\"}, {\"Avg HR\": 152, \"Max HR\": 174, \"Calories\": 594.0, \"Distance\": 4.31, \"Title\": \"Kansas City Running\"}, {\"Avg HR\": 146, \"Max HR\": 165, \"Calories\": 375.0, \"Distance\": 3.0, \"Title\": \"Kansas City Running\"}, {\"Avg HR\": 153, \"Max HR\": 178, \"Calories\": 572.0, \"Distance\": 4.31, \"Title\": \"Kansas City Running\"}, {\"Avg HR\": 152, \"Max HR\": 176, \"Calories\": 389.0, \"Distance\": 3.01, \"Title\": \"Kansas City Running\"}, {\"Avg HR\": 127, \"Max HR\": 141, \"Calories\": 493.0, \"Distance\": 3.86, \"Title\": \"Kansas City Running\"}, {\"Avg HR\": 142, \"Max HR\": 161, \"Calories\": 149.0, \"Distance\": 1.19, \"Title\": \"Kansas City Running\"}, {\"Avg HR\": 155, \"Max HR\": 172, \"Calories\": 69.0, \"Distance\": 0.55, \"Title\": \"Kansas City Running\"}, {\"Avg HR\": 152, \"Max HR\": 182, \"Calories\": 411.0, \"Distance\": 2.99, \"Title\": \"Kansas City Running\"}, {\"Avg HR\": 146, \"Max HR\": 165, \"Calories\": 253.0, \"Distance\": 1.9, \"Title\": \"Kansas City Running\"}, {\"Avg HR\": 153, \"Max HR\": 177, \"Calories\": 397.0, \"Distance\": 3.01, \"Title\": \"Kansas City Running\"}, {\"Avg HR\": 108, \"Max HR\": 132, \"Calories\": 139.0, \"Distance\": 1.82, \"Title\": \"Kansas City Cycling\"}, {\"Avg HR\": 102, \"Max HR\": 134, \"Calories\": 166.0, \"Distance\": 2.41, \"Title\": \"Kansas City Cycling\"}, {\"Avg HR\": 152, \"Max HR\": 176, \"Calories\": 416.0, \"Distance\": 3.01, \"Title\": \"Kansas City Running\"}, {\"Avg HR\": 156, \"Max HR\": 174, \"Calories\": 107.0, \"Distance\": 0.78, \"Title\": \"Kansas City Running\"}, {\"Avg HR\": 144, \"Max HR\": 158, \"Calories\": 92.0, \"Distance\": 0.77, \"Title\": \"Kansas City Running\"}, {\"Avg HR\": 144, \"Max HR\": 159, \"Calories\": 110.0, \"Distance\": 0.8, \"Title\": \"Kansas City Running\"}, {\"Avg HR\": 144, \"Max HR\": 163, \"Calories\": 93.0, \"Distance\": 0.73, \"Title\": \"Kansas City Running\"}, {\"Avg HR\": 152, \"Max HR\": 170, \"Calories\": 116.0, \"Distance\": 0.8, \"Title\": \"Kansas City Running\"}, {\"Avg HR\": 146, \"Max HR\": 167, \"Calories\": 107.0, \"Distance\": 0.84, \"Title\": \"Kansas City Running\"}, {\"Avg HR\": 151, \"Max HR\": 179, \"Calories\": 587.0, \"Distance\": 4.31, \"Title\": \"Kansas City Running\"}, {\"Avg HR\": 148, \"Max HR\": 159, \"Calories\": 106.0, \"Distance\": 0.81, \"Title\": \"Kansas City Running\"}, {\"Avg HR\": 137, \"Max HR\": 157, \"Calories\": 90.0, \"Distance\": 0.74, \"Title\": \"Kansas City Running\"}, {\"Avg HR\": 146, \"Max HR\": 172, \"Calories\": 564.0, \"Distance\": 4.32, \"Title\": \"Kansas City Running\"}, {\"Avg HR\": 144, \"Max HR\": 164, \"Calories\": 100.0, \"Distance\": 0.8, \"Title\": \"Kansas City Running\"}, {\"Avg HR\": 126, \"Max HR\": 148, \"Calories\": 88.0, \"Distance\": 0.78, \"Title\": \"Kansas City Running\"}, {\"Avg HR\": 152, \"Max HR\": 181, \"Calories\": 585.0, \"Distance\": 4.31, \"Title\": \"Kansas City Running\"}, {\"Avg HR\": 146, \"Max HR\": 162, \"Calories\": 108.0, \"Distance\": 0.75, \"Title\": \"Kansas City Running\"}, {\"Avg HR\": 128, \"Max HR\": 150, \"Calories\": 149.0, \"Distance\": 0.81, \"Title\": \"Kansas City Running\"}, {\"Avg HR\": 146, \"Max HR\": 166, \"Calories\": 127.0, \"Distance\": 0.76, \"Title\": \"Treadmill Running\"}, {\"Avg HR\": 138, \"Max HR\": 150, \"Calories\": 115.0, \"Distance\": 0.89, \"Title\": \"Treadmill Running\"}, {\"Avg HR\": 137, \"Max HR\": 155, \"Calories\": 293.0, \"Distance\": 2.27, \"Title\": \"Kansas City Running\"}, {\"Avg HR\": 139, \"Max HR\": 163, \"Calories\": 112.0, \"Distance\": 0.76, \"Title\": \"Treadmill Running\"}, {\"Avg HR\": 148, \"Max HR\": 170, \"Calories\": 424.0, \"Distance\": 3.01, \"Title\": \"Kansas City Running\"}, {\"Avg HR\": 145, \"Max HR\": 177, \"Calories\": 538.0, \"Distance\": 4.13, \"Title\": \"Kansas City Running\"}, {\"Avg HR\": 141, \"Max HR\": 163, \"Calories\": 317.0, \"Distance\": 2.45, \"Title\": \"Kansas City Running\"}, {\"Avg HR\": 108, \"Max HR\": 132, \"Calories\": 156.0, \"Distance\": 2.05, \"Title\": \"Kansas City Cycling\"}, {\"Avg HR\": 131, \"Max HR\": 159, \"Calories\": 363.0, \"Distance\": 2.6, \"Title\": \"Kansas City Running\"}, {\"Avg HR\": 153, \"Max HR\": 179, \"Calories\": 538.0, \"Distance\": 4.1, \"Title\": \"Kansas City Running\"}, {\"Avg HR\": 150, \"Max HR\": 164, \"Calories\": 391.0, \"Distance\": 2.91, \"Title\": \"Kansas City Running\"}, {\"Avg HR\": 131, \"Max HR\": 167, \"Calories\": 567.0, \"Distance\": 4.37, \"Title\": \"Kansas City Running\"}, {\"Avg HR\": 150, \"Max HR\": 169, \"Calories\": 122.0, \"Distance\": 0.83, \"Title\": \"Kansas City Running\"}, {\"Avg HR\": 144, \"Max HR\": 165, \"Calories\": 113.0, \"Distance\": 0.81, \"Title\": \"Kansas City Running\"}, {\"Avg HR\": 148, \"Max HR\": 173, \"Calories\": 409.0, \"Distance\": 3.01, \"Title\": \"Kansas City Running\"}, {\"Avg HR\": 130, \"Max HR\": 138, \"Calories\": 200.0, \"Distance\": 1.5, \"Title\": \"Treadmill Running\"}, {\"Avg HR\": 100, \"Max HR\": 119, \"Calories\": 110.0, \"Distance\": 1.73, \"Title\": \"Kansas City Cycling\"}, {\"Avg HR\": 94, \"Max HR\": 121, \"Calories\": 143.0, \"Distance\": 1.9, \"Title\": \"Kansas City Cycling\"}, {\"Avg HR\": 143, \"Max HR\": 163, \"Calories\": 417.0, \"Distance\": 3.0, \"Title\": \"Kansas City Running\"}, {\"Avg HR\": 142, \"Max HR\": 154, \"Calories\": 142.0, \"Distance\": 1.09, \"Title\": \"Treadmill Running\"}, {\"Avg HR\": 145, \"Max HR\": 161, \"Calories\": 97.0, \"Distance\": 0.67, \"Title\": \"Kansas City Running\"}, {\"Avg HR\": 136, \"Max HR\": 155, \"Calories\": 130.0, \"Distance\": 0.98, \"Title\": \"Kansas City Running\"}, {\"Avg HR\": 142, \"Max HR\": 150, \"Calories\": 130.0, \"Distance\": 1.0, \"Title\": \"Treadmill Running\"}, {\"Avg HR\": 122, \"Max HR\": 130, \"Calories\": 106.0, \"Distance\": 1.1, \"Title\": \"Treadmill Running\"}, {\"Avg HR\": 135, \"Max HR\": 144, \"Calories\": 239.0, \"Distance\": 2.0, \"Title\": \"Treadmill Running\"}, {\"Avg HR\": 150, \"Max HR\": 169, \"Calories\": 135.0, \"Distance\": 1.02, \"Title\": \"Treadmill Running\"}, {\"Avg HR\": 140, \"Max HR\": 152, \"Calories\": 137.0, \"Distance\": 1.03, \"Title\": \"Treadmill Running\"}, {\"Avg HR\": 157, \"Max HR\": 177, \"Calories\": 575.0, \"Distance\": 4.22, \"Title\": \"Kansas City Running\"}, {\"Avg HR\": 140, \"Max HR\": 155, \"Calories\": 129.0, \"Distance\": 1.0, \"Title\": \"Treadmill Running\"}, {\"Avg HR\": 146, \"Max HR\": 158, \"Calories\": 116.0, \"Distance\": 0.9, \"Title\": \"Treadmill Running\"}, {\"Avg HR\": 146, \"Max HR\": 159, \"Calories\": 143.0, \"Distance\": 1.0, \"Title\": \"Treadmill Running\"}, {\"Avg HR\": 155, \"Max HR\": 159, \"Calories\": 67.0, \"Distance\": 0.55, \"Title\": \"Treadmill Running\"}, {\"Avg HR\": 161, \"Max HR\": 177, \"Calories\": 88.0, \"Distance\": 0.68, \"Title\": \"Treadmill Running\"}, {\"Avg HR\": 135, \"Max HR\": 154, \"Calories\": 123.0, \"Distance\": 1.1, \"Title\": \"Treadmill Running\"}, {\"Avg HR\": 147, \"Max HR\": 165, \"Calories\": 122.0, \"Distance\": 1.12, \"Title\": \"Treadmill Running\"}, {\"Avg HR\": 112, \"Max HR\": 130, \"Calories\": 94.0, \"Distance\": 0.81, \"Title\": \"Treadmill Running\"}, {\"Avg HR\": 134, \"Max HR\": 145, \"Calories\": 335.0, \"Distance\": 3.0, \"Title\": \"Treadmill Running\"}, {\"Avg HR\": 142, \"Max HR\": 154, \"Calories\": 114.0, \"Distance\": 0.95, \"Title\": \"Treadmill Running\"}, {\"Avg HR\": 132, \"Max HR\": 152, \"Calories\": 104.0, \"Distance\": 0.93, \"Title\": \"Treadmill Running\"}, {\"Avg HR\": 140, \"Max HR\": 152, \"Calories\": 131.0, \"Distance\": 1.01, \"Title\": \"Treadmill Running\"}, {\"Avg HR\": 153, \"Max HR\": 167, \"Calories\": 112.0, \"Distance\": 1.02, \"Title\": \"Treadmill Running\"}, {\"Avg HR\": 144, \"Max HR\": 151, \"Calories\": 117.0, \"Distance\": 1.0, \"Title\": \"Treadmill Running\"}, {\"Avg HR\": 153, \"Max HR\": 165, \"Calories\": 140.0, \"Distance\": 0.99, \"Title\": \"Treadmill Running\"}, {\"Avg HR\": 143, \"Max HR\": 159, \"Calories\": 130.0, \"Distance\": 0.99, \"Title\": \"Treadmill Running\"}, {\"Avg HR\": 153, \"Max HR\": 169, \"Calories\": 182.0, \"Distance\": 1.5, \"Title\": \"Treadmill Running\"}, {\"Avg HR\": 124, \"Max HR\": 154, \"Calories\": 232.0, \"Distance\": 1.5, \"Title\": \"Treadmill Running\"}, {\"Avg HR\": 146, \"Max HR\": 165, \"Calories\": 272.0, \"Distance\": 2.0, \"Title\": \"Treadmill Running\"}, {\"Avg HR\": 116, \"Max HR\": 148, \"Calories\": 155.0, \"Distance\": 0.67, \"Title\": \"Treadmill Running\"}, {\"Avg HR\": 129, \"Max HR\": 147, \"Calories\": 159.0, \"Distance\": 0.87, \"Title\": \"Treadmill Running\"}, {\"Avg HR\": 124, \"Max HR\": 148, \"Calories\": 139.0, \"Distance\": 0.82, \"Title\": \"Treadmill Running\"}, {\"Avg HR\": 102, \"Max HR\": 126, \"Calories\": 114.0, \"Distance\": 1.93, \"Title\": \"Kansas City Cycling\"}, {\"Avg HR\": 103, \"Max HR\": 128, \"Calories\": 138.0, \"Distance\": 1.27, \"Title\": \"Kansas City Cycling\"}, {\"Avg HR\": 124, \"Max HR\": 152, \"Calories\": 69.0, \"Distance\": 0.46, \"Title\": \"Treadmill Running\"}, {\"Avg HR\": 153, \"Max HR\": 163, \"Calories\": 131.0, \"Distance\": 0.84, \"Title\": \"Treadmill Running\"}, {\"Avg HR\": 124, \"Max HR\": 166, \"Calories\": 161.0, \"Distance\": 0.87, \"Title\": \"Treadmill Running\"}, {\"Avg HR\": 115, \"Max HR\": 155, \"Calories\": 247.0, \"Distance\": 0.9, \"Title\": \"Treadmill Running\"}, {\"Avg HR\": 138, \"Max HR\": 144, \"Calories\": 15.0, \"Distance\": 0.1, \"Title\": \"Treadmill Running\"}, {\"Avg HR\": 151, \"Max HR\": 168, \"Calories\": 134.0, \"Distance\": 0.83, \"Title\": \"Treadmill Running\"}, {\"Avg HR\": 133, \"Max HR\": 151, \"Calories\": 143.0, \"Distance\": 0.87, \"Title\": \"Treadmill Running\"}, {\"Avg HR\": 145, \"Max HR\": 158, \"Calories\": 79.0, \"Distance\": 0.47, \"Title\": \"Treadmill Running\"}, {\"Avg HR\": 139, \"Max HR\": 153, \"Calories\": 112.0, \"Distance\": 0.82, \"Title\": \"Treadmill Running\"}, {\"Avg HR\": 141, \"Max HR\": 171, \"Calories\": 447.0, \"Distance\": 2.64, \"Title\": \"Kansas City Running\"}, {\"Avg HR\": 134, \"Max HR\": 158, \"Calories\": 138.0, \"Distance\": 0.86, \"Title\": \"Treadmill Running\"}, {\"Avg HR\": 118, \"Max HR\": 159, \"Calories\": 171.0, \"Distance\": 0.87, \"Title\": \"Treadmill Running\"}, {\"Avg HR\": 123, \"Max HR\": 147, \"Calories\": 90.0, \"Distance\": 0.66, \"Title\": \"Treadmill Running\"}, {\"Avg HR\": 135, \"Max HR\": 151, \"Calories\": 101.0, \"Distance\": 0.84, \"Title\": \"Treadmill Running\"}, {\"Avg HR\": 139, \"Max HR\": 158, \"Calories\": 110.0, \"Distance\": 0.89, \"Title\": \"Treadmill Running\"}, {\"Avg HR\": 136, \"Max HR\": 153, \"Calories\": 123.0, \"Distance\": 0.84, \"Title\": \"Treadmill Running\"}, {\"Avg HR\": 142, \"Max HR\": 160, \"Calories\": 112.0, \"Distance\": 0.85, \"Title\": \"Treadmill Running\"}, {\"Avg HR\": 142, \"Max HR\": 161, \"Calories\": 121.0, \"Distance\": 0.85, \"Title\": \"Treadmill Running\"}, {\"Avg HR\": 134, \"Max HR\": 164, \"Calories\": 191.0, \"Distance\": 1.0, \"Title\": \"Treadmill Running\"}, {\"Avg HR\": 142, \"Max HR\": 159, \"Calories\": 130.0, \"Distance\": 0.86, \"Title\": \"Treadmill Running\"}, {\"Avg HR\": 116, \"Max HR\": 161, \"Calories\": 111.0, \"Distance\": 0.33, \"Title\": \"Treadmill Running\"}, {\"Avg HR\": 150, \"Max HR\": 165, \"Calories\": 111.0, \"Distance\": 0.83, \"Title\": \"Treadmill Running\"}, {\"Avg HR\": 144, \"Max HR\": 158, \"Calories\": 125.0, \"Distance\": 0.64, \"Title\": \"Treadmill Running\"}, {\"Avg HR\": 137, \"Max HR\": 153, \"Calories\": 128.0, \"Distance\": 0.84, \"Title\": \"Treadmill Running\"}, {\"Avg HR\": 145, \"Max HR\": 151, \"Calories\": 90.0, \"Distance\": 0.7, \"Title\": \"Treadmill Running\"}, {\"Avg HR\": 145, \"Max HR\": 161, \"Calories\": 105.0, \"Distance\": 0.83, \"Title\": \"Treadmill Running\"}, {\"Avg HR\": 146, \"Max HR\": 168, \"Calories\": 112.0, \"Distance\": 0.93, \"Title\": \"Treadmill Running\"}, {\"Avg HR\": 151, \"Max HR\": 162, \"Calories\": 563.0, \"Distance\": 4.24, \"Title\": \"Kansas City Running\"}, {\"Avg HR\": 151, \"Max HR\": 162, \"Calories\": 121.0, \"Distance\": 0.98, \"Title\": \"Treadmill Running\"}, {\"Avg HR\": 128, \"Max HR\": 158, \"Calories\": 147.0, \"Distance\": 0.99, \"Title\": \"Treadmill Running\"}, {\"Avg HR\": 147, \"Max HR\": 166, \"Calories\": 107.0, \"Distance\": 1.01, \"Title\": \"Treadmill Running\"}, {\"Avg HR\": 135, \"Max HR\": 163, \"Calories\": 155.0, \"Distance\": 0.99, \"Title\": \"Treadmill Running\"}, {\"Avg HR\": 145, \"Max HR\": 164, \"Calories\": 109.0, \"Distance\": 0.97, \"Title\": \"Treadmill Running\"}, {\"Avg HR\": 144, \"Max HR\": 156, \"Calories\": 116.0, \"Distance\": 1.0, \"Title\": \"Treadmill Running\"}, {\"Avg HR\": 139, \"Max HR\": 150, \"Calories\": 111.0, \"Distance\": 0.98, \"Title\": \"Treadmill Running\"}, {\"Avg HR\": 143, \"Max HR\": 158, \"Calories\": 74.0, \"Distance\": 0.65, \"Title\": \"Treadmill Running\"}, {\"Avg HR\": 142, \"Max HR\": 151, \"Calories\": 109.0, \"Distance\": 0.9, \"Title\": \"Treadmill Running\"}, {\"Avg HR\": 149, \"Max HR\": 168, \"Calories\": 145.0, \"Distance\": 1.0, \"Title\": \"Treadmill Running\"}, {\"Avg HR\": 128, \"Max HR\": 142, \"Calories\": 105.0, \"Distance\": 1.0, \"Title\": \"Treadmill Running\"}, {\"Avg HR\": 147, \"Max HR\": 158, \"Calories\": 216.0, \"Distance\": 2.0, \"Title\": \"Treadmill Running\"}, {\"Avg HR\": 151, \"Max HR\": 166, \"Calories\": 148.0, \"Distance\": 1.0, \"Title\": \"Treadmill Running\"}, {\"Avg HR\": 135, \"Max HR\": 148, \"Calories\": 127.0, \"Distance\": 1.0, \"Title\": \"Treadmill Running\"}, {\"Avg HR\": 121, \"Max HR\": 143, \"Calories\": 105.0, \"Distance\": 1.32, \"Title\": \"Treadmill Running\"}, {\"Avg HR\": 134, \"Max HR\": 154, \"Calories\": 71.0, \"Distance\": 0.53, \"Title\": \"Treadmill Running\"}, {\"Avg HR\": 156, \"Max HR\": 165, \"Calories\": 132.0, \"Distance\": 1.5, \"Title\": \"Treadmill Running\"}, {\"Avg HR\": 127, \"Max HR\": 160, \"Calories\": 199.0, \"Distance\": 1.49, \"Title\": \"Treadmill Running\"}, {\"Avg HR\": 125, \"Max HR\": 147, \"Calories\": 147.0, \"Distance\": 1.0, \"Title\": \"Treadmill Running\"}, {\"Avg HR\": 130, \"Max HR\": 151, \"Calories\": 137.0, \"Distance\": 0.89, \"Title\": \"Treadmill Running\"}, {\"Avg HR\": 126, \"Max HR\": 171, \"Calories\": 303.0, \"Distance\": 1.5, \"Title\": \"Treadmill Running\"}, {\"Avg HR\": 143, \"Max HR\": 160, \"Calories\": 185.0, \"Distance\": 1.5, \"Title\": \"Treadmill Running\"}, {\"Avg HR\": 140, \"Max HR\": 158, \"Calories\": 235.0, \"Distance\": 2.0, \"Title\": \"Treadmill Running\"}, {\"Avg HR\": 125, \"Max HR\": 131, \"Calories\": 51.0, \"Distance\": 0.48, \"Title\": \"Treadmill Running\"}, {\"Avg HR\": 128, \"Max HR\": 140, \"Calories\": 97.0, \"Distance\": 0.91, \"Title\": \"Treadmill Running\"}, {\"Avg HR\": 141, \"Max HR\": 175, \"Calories\": 404.0, \"Distance\": 3.07, \"Title\": \"Treadmill Running\"}, {\"Avg HR\": 145, \"Max HR\": 157, \"Calories\": 106.0, \"Distance\": 0.93, \"Title\": \"Treadmill Running\"}, {\"Avg HR\": 145, \"Max HR\": 154, \"Calories\": 115.0, \"Distance\": 1.03, \"Title\": \"Treadmill Running\"}, {\"Avg HR\": 131, \"Max HR\": 151, \"Calories\": 119.0, \"Distance\": 1.0, \"Title\": \"Treadmill Running\"}, {\"Avg HR\": 149, \"Max HR\": 166, \"Calories\": 126.0, \"Distance\": 1.04, \"Title\": \"Treadmill Running\"}, {\"Avg HR\": 136, \"Max HR\": 148, \"Calories\": 104.0, \"Distance\": 1.0, \"Title\": \"Treadmill Running\"}, {\"Avg HR\": 151, \"Max HR\": 166, \"Calories\": 143.0, \"Distance\": 1.0, \"Title\": \"Treadmill Running\"}, {\"Avg HR\": 138, \"Max HR\": 145, \"Calories\": 92.0, \"Distance\": 0.95, \"Title\": \"Treadmill Running\"}, {\"Avg HR\": 127, \"Max HR\": 142, \"Calories\": 110.0, \"Distance\": 1.0, \"Title\": \"Treadmill Running\"}, {\"Avg HR\": 140, \"Max HR\": 156, \"Calories\": 116.0, \"Distance\": 1.0, \"Title\": \"Treadmill Running\"}, {\"Avg HR\": 143, \"Max HR\": 157, \"Calories\": 216.0, \"Distance\": 2.05, \"Title\": \"Treadmill Running\"}, {\"Avg HR\": 151, \"Max HR\": 154, \"Calories\": 112.0, \"Distance\": 0.9, \"Title\": \"Treadmill Running\"}, {\"Avg HR\": 130, \"Max HR\": 146, \"Calories\": 94.0, \"Distance\": 0.9, \"Title\": \"Treadmill Running\"}, {\"Avg HR\": 153, \"Max HR\": 168, \"Calories\": 126.0, \"Distance\": 0.93, \"Title\": \"Treadmill Running\"}, {\"Avg HR\": 122, \"Max HR\": 153, \"Calories\": 120.0, \"Distance\": 0.96, \"Title\": \"Treadmill Running\"}, {\"Avg HR\": 129, \"Max HR\": 159, \"Calories\": 161.0, \"Distance\": 0.97, \"Title\": \"Treadmill Running\"}, {\"Avg HR\": 143, \"Max HR\": 180, \"Calories\": 497.0, \"Distance\": 3.47, \"Title\": \"Treadmill Running\"}, {\"Avg HR\": 158, \"Max HR\": 169, \"Calories\": 110.0, \"Distance\": 0.88, \"Title\": \"Treadmill Running\"}, {\"Avg HR\": 143, \"Max HR\": 158, \"Calories\": 105.0, \"Distance\": 0.94, \"Title\": \"Treadmill Running\"}, {\"Avg HR\": 155, \"Max HR\": 166, \"Calories\": 109.0, \"Distance\": 0.94, \"Title\": \"Treadmill Running\"}, {\"Avg HR\": 134, \"Max HR\": 150, \"Calories\": 98.0, \"Distance\": 0.96, \"Title\": \"Treadmill Running\"}, {\"Avg HR\": 144, \"Max HR\": 156, \"Calories\": 162.0, \"Distance\": 1.0, \"Title\": \"Treadmill Running\"}, {\"Avg HR\": 139, \"Max HR\": 149, \"Calories\": 128.0, \"Distance\": 0.96, \"Title\": \"Treadmill Running\"}, {\"Avg HR\": 150, \"Max HR\": 172, \"Calories\": 127.0, \"Distance\": 0.93, \"Title\": \"Treadmill Running\"}, {\"Avg HR\": 148, \"Max HR\": 167, \"Calories\": 272.0, \"Distance\": 2.0, \"Title\": \"Treadmill Running\"}, {\"Avg HR\": 155, \"Max HR\": 160, \"Calories\": 190.0, \"Distance\": 2.01, \"Title\": \"Treadmill Running\"}, {\"Avg HR\": 140, \"Max HR\": 148, \"Calories\": 116.0, \"Distance\": 1.02, \"Title\": \"Treadmill Running\"}, {\"Avg HR\": 142, \"Max HR\": 162, \"Calories\": 118.0, \"Distance\": 1.01, \"Title\": \"Treadmill Running\"}, {\"Avg HR\": 150, \"Max HR\": 164, \"Calories\": 134.0, \"Distance\": 1.0, \"Title\": \"Treadmill Running\"}, {\"Avg HR\": 144, \"Max HR\": 157, \"Calories\": 123.0, \"Distance\": 1.02, \"Title\": \"Treadmill Running\"}, {\"Avg HR\": 141, \"Max HR\": 162, \"Calories\": 608.0, \"Distance\": 4.44, \"Title\": \"Kansas City Running\"}, {\"Avg HR\": 88, \"Max HR\": 107, \"Calories\": 80.0, \"Distance\": 0.0, \"Title\": \"Strength\"}, {\"Avg HR\": 149, \"Max HR\": 182, \"Calories\": 565.0, \"Distance\": 4.25, \"Title\": \"Kansas City Running\"}, {\"Avg HR\": 148, \"Max HR\": 170, \"Calories\": 553.0, \"Distance\": 4.32, \"Title\": \"Kansas City Running\"}, {\"Avg HR\": 156, \"Max HR\": 187, \"Calories\": 404.0, \"Distance\": 3.02, \"Title\": \"Kansas City Running\"}]}}, {\"mode\": \"vega-lite\"});\n",
       "</script>"
      ],
      "text/plain": [
       "alt.Chart(...)"
      ]
     },
     "execution_count": 256,
     "metadata": {},
     "output_type": "execute_result"
    }
   ],
   "source": [
    "alt.Chart(df[['Avg HR', 'Max HR', 'Calories', 'Distance', 'Title']]).mark_circle(size=60).encode(\n",
    "    x='Distance',\n",
    "    y='Calories',\n",
    "    color='Title',\n",
    "    tooltip=['Avg HR', 'Max HR', 'Calories', 'Distance', 'Title']\n",
    ").interactive()"
   ]
  },
  {
   "cell_type": "code",
   "execution_count": 260,
   "metadata": {},
   "outputs": [
    {
     "data": {
      "text/html": [
       "\n",
       "<div id=\"altair-viz-e9dcad8b9f9348a0bd2be3265488e10f\"></div>\n",
       "<script type=\"text/javascript\">\n",
       "  (function(spec, embedOpt){\n",
       "    const outputDiv = document.getElementById(\"altair-viz-e9dcad8b9f9348a0bd2be3265488e10f\");\n",
       "    const paths = {\n",
       "      \"vega\": \"https://cdn.jsdelivr.net/npm//vega@5?noext\",\n",
       "      \"vega-lib\": \"https://cdn.jsdelivr.net/npm//vega-lib?noext\",\n",
       "      \"vega-lite\": \"https://cdn.jsdelivr.net/npm//vega-lite@4.0.2?noext\",\n",
       "      \"vega-embed\": \"https://cdn.jsdelivr.net/npm//vega-embed@6?noext\",\n",
       "    };\n",
       "\n",
       "    function loadScript(lib) {\n",
       "      return new Promise(function(resolve, reject) {\n",
       "        var s = document.createElement('script');\n",
       "        s.src = paths[lib];\n",
       "        s.async = true;\n",
       "        s.onload = () => resolve(paths[lib]);\n",
       "        s.onerror = () => reject(`Error loading script: ${paths[lib]}`);\n",
       "        document.getElementsByTagName(\"head\")[0].appendChild(s);\n",
       "      });\n",
       "    }\n",
       "\n",
       "    function showError(err) {\n",
       "      outputDiv.innerHTML = `<div class=\"error\" style=\"color:red;\">${err}</div>`;\n",
       "      throw err;\n",
       "    }\n",
       "\n",
       "    function displayChart(vegaEmbed) {\n",
       "      vegaEmbed(outputDiv, spec, embedOpt)\n",
       "        .catch(err => showError(`Javascript Error: ${err.message}<br>This usually means there's a typo in your chart specification. See the javascript console for the full traceback.`));\n",
       "    }\n",
       "\n",
       "    if(typeof define === \"function\" && define.amd) {\n",
       "      requirejs.config({paths});\n",
       "      require([\"vega-embed\"], displayChart, err => showError(`Error loading script: ${err.message}`));\n",
       "    } else if (typeof vegaEmbed === \"function\") {\n",
       "      displayChart(vegaEmbed);\n",
       "    } else {\n",
       "      loadScript(\"vega\")\n",
       "        .then(() => loadScript(\"vega-lite\"))\n",
       "        .then(() => loadScript(\"vega-embed\"))\n",
       "        .catch(showError)\n",
       "        .then(() => displayChart(vegaEmbed));\n",
       "    }\n",
       "  })({\"config\": {\"view\": {\"continuousWidth\": 400, \"continuousHeight\": 300}}, \"data\": {\"name\": \"data-ad7ee87c6c456abed9f171f9cd04beda\"}, \"mark\": {\"type\": \"circle\", \"size\": 60}, \"encoding\": {\"color\": {\"type\": \"nominal\", \"field\": \"time_day\"}, \"tooltip\": [{\"type\": \"quantitative\", \"field\": \"Avg HR\"}, {\"type\": \"quantitative\", \"field\": \"Max HR\"}, {\"type\": \"quantitative\", \"field\": \"Calories\"}, {\"type\": \"quantitative\", \"field\": \"Distance\"}, {\"type\": \"nominal\", \"field\": \"Title\"}, {\"type\": \"nominal\", \"field\": \"time_day\"}], \"x\": {\"type\": \"quantitative\", \"field\": \"Distance\"}, \"y\": {\"type\": \"quantitative\", \"field\": \"Calories\"}}, \"selection\": {\"selector011\": {\"type\": \"interval\", \"bind\": \"scales\", \"encodings\": [\"x\", \"y\"]}}, \"$schema\": \"https://vega.github.io/schema/vega-lite/v4.0.2.json\", \"datasets\": {\"data-ad7ee87c6c456abed9f171f9cd04beda\": [{\"Avg HR\": 130, \"Max HR\": 141, \"Calories\": 165.0, \"Distance\": 1.27, \"Title\": \"Treadmill Running\", \"time_day\": \"night\"}, {\"Avg HR\": 128, \"Max HR\": 137, \"Calories\": 65.0, \"Distance\": 0.63, \"Title\": \"Treadmill Running\", \"time_day\": \"afternoon\"}, {\"Avg HR\": 135, \"Max HR\": 147, \"Calories\": 148.0, \"Distance\": 1.27, \"Title\": \"Treadmill Running\", \"time_day\": \"night\"}, {\"Avg HR\": 152, \"Max HR\": 171, \"Calories\": 359.0, \"Distance\": 2.64, \"Title\": \"Sydney Running\", \"time_day\": \"afternoon\"}, {\"Avg HR\": 159, \"Max HR\": 173, \"Calories\": 71.0, \"Distance\": 0.49, \"Title\": \"Running\", \"time_day\": \"morning\"}, {\"Avg HR\": 156, \"Max HR\": 172, \"Calories\": 177.0, \"Distance\": 1.16, \"Title\": \"Running\", \"time_day\": \"morning\"}, {\"Avg HR\": 151, \"Max HR\": 169, \"Calories\": 281.0, \"Distance\": 2.13, \"Title\": \"Sydney Running\", \"time_day\": \"afternoon\"}, {\"Avg HR\": 106, \"Max HR\": 134, \"Calories\": 183.0, \"Distance\": 3.36, \"Title\": \"Sydney Cycling\", \"time_day\": \"afternoon\"}, {\"Avg HR\": 111, \"Max HR\": 134, \"Calories\": 223.0, \"Distance\": 3.48, \"Title\": \"Sydney Cycling\", \"time_day\": \"night\"}, {\"Avg HR\": 139, \"Max HR\": 155, \"Calories\": 289.0, \"Distance\": 2.5, \"Title\": \"Sydney Running\", \"time_day\": \"night\"}, {\"Avg HR\": 143, \"Max HR\": 155, \"Calories\": 156.0, \"Distance\": 1.26, \"Title\": \"Treadmill Running\", \"time_day\": \"afternoon\"}, {\"Avg HR\": 145, \"Max HR\": 173, \"Calories\": 375.0, \"Distance\": 3.01, \"Title\": \"Darwin Running\", \"time_day\": \"night\"}, {\"Avg HR\": 149, \"Max HR\": 168, \"Calories\": 414.0, \"Distance\": 3.13, \"Title\": \"Darwin Running\", \"time_day\": \"night\"}, {\"Avg HR\": 144, \"Max HR\": 165, \"Calories\": 253.0, \"Distance\": 2.0, \"Title\": \"Sydney Running\", \"time_day\": \"afternoon\"}, {\"Avg HR\": 86, \"Max HR\": 131, \"Calories\": 53.0, \"Distance\": 0.0, \"Title\": \"Elliptical\", \"time_day\": \"night\"}, {\"Avg HR\": 131, \"Max HR\": 148, \"Calories\": 134.0, \"Distance\": 1.39, \"Title\": \"Treadmill Running\", \"time_day\": \"night\"}, {\"Avg HR\": 149, \"Max HR\": 169, \"Calories\": 394.0, \"Distance\": 3.07, \"Title\": \"Sydney Running\", \"time_day\": \"afternoon\"}, {\"Avg HR\": 150, \"Max HR\": 162, \"Calories\": 165.0, \"Distance\": 1.32, \"Title\": \"Sydney Running\", \"time_day\": \"night\"}, {\"Avg HR\": 148, \"Max HR\": 161, \"Calories\": 384.0, \"Distance\": 3.1, \"Title\": \"Sydney Running\", \"time_day\": \"afternoon\"}, {\"Avg HR\": 131, \"Max HR\": 146, \"Calories\": 50.0, \"Distance\": 0.46, \"Title\": \"Sydney Running\", \"time_day\": \"morning\"}, {\"Avg HR\": 130, \"Max HR\": 148, \"Calories\": 64.0, \"Distance\": 0.59, \"Title\": \"Treadmill Running\", \"time_day\": \"night\"}, {\"Avg HR\": 153, \"Max HR\": 177, \"Calories\": 610.0, \"Distance\": 4.69, \"Title\": \"Sydney Running\", \"time_day\": \"night\"}, {\"Avg HR\": 150, \"Max HR\": 163, \"Calories\": 45.0, \"Distance\": 0.37, \"Title\": \"Sydney Running\", \"time_day\": \"afternoon\"}, {\"Avg HR\": 143, \"Max HR\": 164, \"Calories\": 166.0, \"Distance\": 1.37, \"Title\": \"Sydney Running\", \"time_day\": \"afternoon\"}, {\"Avg HR\": 142, \"Max HR\": 155, \"Calories\": 86.0, \"Distance\": 0.8, \"Title\": \"Treadmill Running\", \"time_day\": \"night\"}, {\"Avg HR\": 136, \"Max HR\": 153, \"Calories\": 78.0, \"Distance\": 0.77, \"Title\": \"Treadmill Running\", \"time_day\": \"night\"}, {\"Avg HR\": 120, \"Max HR\": 154, \"Calories\": 197.0, \"Distance\": 1.11, \"Title\": \"Treadmill Running\", \"time_day\": \"night\"}, {\"Avg HR\": 153, \"Max HR\": 190, \"Calories\": 542.0, \"Distance\": 4.13, \"Title\": \"Sydney Running\", \"time_day\": \"night\"}, {\"Avg HR\": 141, \"Max HR\": 149, \"Calories\": 120.0, \"Distance\": 0.97, \"Title\": \"Treadmill Running\", \"time_day\": \"night\"}, {\"Avg HR\": 158, \"Max HR\": 169, \"Calories\": 237.0, \"Distance\": 1.78, \"Title\": \"Treadmill Running\", \"time_day\": \"night\"}, {\"Avg HR\": 142, \"Max HR\": 160, \"Calories\": 176.0, \"Distance\": 1.21, \"Title\": \"Sydney Running\", \"time_day\": \"night\"}, {\"Avg HR\": 152, \"Max HR\": 167, \"Calories\": 271.0, \"Distance\": 1.87, \"Title\": \"Treadmill Running\", \"time_day\": \"night\"}, {\"Avg HR\": 149, \"Max HR\": 177, \"Calories\": 260.0, \"Distance\": 1.83, \"Title\": \"Treadmill Running\", \"time_day\": \"night\"}, {\"Avg HR\": 142, \"Max HR\": 162, \"Calories\": 256.0, \"Distance\": 1.83, \"Title\": \"Treadmill Running\", \"time_day\": \"night\"}, {\"Avg HR\": 140, \"Max HR\": 154, \"Calories\": 153.0, \"Distance\": 0.92, \"Title\": \"Treadmill Running\", \"time_day\": \"night\"}, {\"Avg HR\": 155, \"Max HR\": 174, \"Calories\": 485.0, \"Distance\": 3.52, \"Title\": \"Sydney Running\", \"time_day\": \"night\"}, {\"Avg HR\": 154, \"Max HR\": 183, \"Calories\": 586.0, \"Distance\": 4.09, \"Title\": \"Sydney Running\", \"time_day\": \"afternoon\"}, {\"Avg HR\": 124, \"Max HR\": 137, \"Calories\": 27.0, \"Distance\": 0.25, \"Title\": \"Running\", \"time_day\": \"night\"}, {\"Avg HR\": 129, \"Max HR\": 140, \"Calories\": 51.0, \"Distance\": 0.43, \"Title\": \"Running\", \"time_day\": \"night\"}, {\"Avg HR\": 145, \"Max HR\": 165, \"Calories\": 91.0, \"Distance\": 0.73, \"Title\": \"Santiago Running\", \"time_day\": \"morning\"}, {\"Avg HR\": 70, \"Max HR\": 82, \"Calories\": 13.0, \"Distance\": 0.0, \"Title\": \"Elliptical\", \"time_day\": \"morning\"}, {\"Avg HR\": 130, \"Max HR\": 143, \"Calories\": 29.0, \"Distance\": 0.27, \"Title\": \"Santiago Running\", \"time_day\": \"morning\"}, {\"Avg HR\": 137, \"Max HR\": 149, \"Calories\": 76.0, \"Distance\": 0.6, \"Title\": \"Running\", \"time_day\": \"night\"}, {\"Avg HR\": 150, \"Max HR\": 173, \"Calories\": 546.0, \"Distance\": 4.01, \"Title\": \"Santiago Running\", \"time_day\": \"afternoon\"}, {\"Avg HR\": 132, \"Max HR\": 143, \"Calories\": 126.0, \"Distance\": 1.04, \"Title\": \"Treadmill Running\", \"time_day\": \"morning\"}, {\"Avg HR\": 78, \"Max HR\": 103, \"Calories\": 28.0, \"Distance\": 0.0, \"Title\": \"Elliptical\", \"time_day\": \"morning\"}, {\"Avg HR\": 145, \"Max HR\": 157, \"Calories\": 112.0, \"Distance\": 0.89, \"Title\": \"Treadmill Running\", \"time_day\": \"morning\"}, {\"Avg HR\": 116, \"Max HR\": 136, \"Calories\": 184.0, \"Distance\": 0.0, \"Title\": \"Elliptical\", \"time_day\": \"morning\"}, {\"Avg HR\": 124, \"Max HR\": 124, \"Calories\": null, \"Distance\": 0.0, \"Title\": \"Santiago Running\", \"time_day\": \"night\"}, {\"Avg HR\": 154, \"Max HR\": 178, \"Calories\": 659.0, \"Distance\": 4.51, \"Title\": \"Santiago Running\", \"time_day\": \"afternoon\"}, {\"Avg HR\": 129, \"Max HR\": 141, \"Calories\": 85.0, \"Distance\": 0.69, \"Title\": \"Treadmill Running\", \"time_day\": \"morning\"}, {\"Avg HR\": 152, \"Max HR\": 161, \"Calories\": 105.0, \"Distance\": 0.88, \"Title\": \"Treadmill Running\", \"time_day\": \"morning\"}, {\"Avg HR\": 134, \"Max HR\": 157, \"Calories\": 62.0, \"Distance\": 0.57, \"Title\": \"Santiago Running\", \"time_day\": \"night\"}, {\"Avg HR\": 134, \"Max HR\": 147, \"Calories\": 74.0, \"Distance\": 0.57, \"Title\": \"Running\", \"time_day\": \"morning\"}, {\"Avg HR\": 126, \"Max HR\": 144, \"Calories\": 33.0, \"Distance\": 0.26, \"Title\": \"Kansas City Running\", \"time_day\": \"afternoon\"}, {\"Avg HR\": 147, \"Max HR\": 158, \"Calories\": 275.0, \"Distance\": 2.01, \"Title\": \"Kansas City Running\", \"time_day\": \"morning\"}, {\"Avg HR\": 90, \"Max HR\": 121, \"Calories\": 64.0, \"Distance\": 1.02, \"Title\": \"Washington Cycling\", \"time_day\": \"afternoon\"}, {\"Avg HR\": 84, \"Max HR\": 111, \"Calories\": 191.0, \"Distance\": 4.36, \"Title\": \"Washington Cycling\", \"time_day\": \"night\"}, {\"Avg HR\": 89, \"Max HR\": 113, \"Calories\": 171.0, \"Distance\": 4.11, \"Title\": \"Washington Cycling\", \"time_day\": \"morning\"}, {\"Avg HR\": 86, \"Max HR\": 116, \"Calories\": 128.0, \"Distance\": 2.43, \"Title\": \"Washington Cycling\", \"time_day\": \"night\"}, {\"Avg HR\": 104, \"Max HR\": 125, \"Calories\": 56.0, \"Distance\": 0.84, \"Title\": \"Washington Cycling\", \"time_day\": \"night\"}, {\"Avg HR\": 87, \"Max HR\": 95, \"Calories\": 26.0, \"Distance\": 0.78, \"Title\": \"Washington Cycling\", \"time_day\": \"night\"}, {\"Avg HR\": 96, \"Max HR\": 107, \"Calories\": 47.0, \"Distance\": 0.95, \"Title\": \"Washington Cycling\", \"time_day\": \"afternoon\"}, {\"Avg HR\": 91, \"Max HR\": 112, \"Calories\": 27.0, \"Distance\": 0.44, \"Title\": \"Washington Cycling\", \"time_day\": \"morning\"}, {\"Avg HR\": 88, \"Max HR\": 116, \"Calories\": 122.0, \"Distance\": 2.72, \"Title\": \"Washington Cycling\", \"time_day\": \"morning\"}, {\"Avg HR\": 82, \"Max HR\": 94, \"Calories\": 21.0, \"Distance\": 0.71, \"Title\": \"Washington Cycling\", \"time_day\": \"morning\"}, {\"Avg HR\": 90, \"Max HR\": 99, \"Calories\": 20.0, \"Distance\": 0.41, \"Title\": \"Washington Cycling\", \"time_day\": \"morning\"}, {\"Avg HR\": 84, \"Max HR\": 105, \"Calories\": 82.0, \"Distance\": 2.25, \"Title\": \"Washington Cycling\", \"time_day\": \"night\"}, {\"Avg HR\": 92, \"Max HR\": 109, \"Calories\": 69.0, \"Distance\": 1.87, \"Title\": \"Washington Cycling\", \"time_day\": \"afternoon\"}, {\"Avg HR\": 76, \"Max HR\": 100, \"Calories\": 26.0, \"Distance\": 0.72, \"Title\": \"Washington Cycling\", \"time_day\": \"morning\"}, {\"Avg HR\": 90, \"Max HR\": 113, \"Calories\": 110.0, \"Distance\": 2.43, \"Title\": \"Washington Cycling\", \"time_day\": \"morning\"}, {\"Avg HR\": 92, \"Max HR\": 132, \"Calories\": 176.0, \"Distance\": 3.0, \"Title\": \"Washington Cycling\", \"time_day\": \"morning\"}, {\"Avg HR\": 93, \"Max HR\": 120, \"Calories\": 181.0, \"Distance\": 2.89, \"Title\": \"Washington Cycling\", \"time_day\": \"afternoon\"}, {\"Avg HR\": 121, \"Max HR\": 141, \"Calories\": 76.0, \"Distance\": 0.95, \"Title\": \"Washington Cycling\", \"time_day\": \"night\"}, {\"Avg HR\": 120, \"Max HR\": 128, \"Calories\": 85.0, \"Distance\": 0.76, \"Title\": \"Washington Cycling\", \"time_day\": \"afternoon\"}, {\"Avg HR\": 87, \"Max HR\": 125, \"Calories\": 143.0, \"Distance\": 1.07, \"Title\": \"Washington Cycling\", \"time_day\": \"night\"}, {\"Avg HR\": 98, \"Max HR\": 111, \"Calories\": 50.0, \"Distance\": 0.16, \"Title\": \"Washington Cycling\", \"time_day\": \"afternoon\"}, {\"Avg HR\": 150, \"Max HR\": 170, \"Calories\": 276.0, \"Distance\": 2.01, \"Title\": \"Washington Running\", \"time_day\": \"afternoon\"}, {\"Avg HR\": 90, \"Max HR\": 118, \"Calories\": 111.0, \"Distance\": 2.12, \"Title\": \"Washington Cycling\", \"time_day\": \"night\"}, {\"Avg HR\": 112, \"Max HR\": 146, \"Calories\": 107.0, \"Distance\": 2.03, \"Title\": \"Washington Cycling\", \"time_day\": \"afternoon\"}, {\"Avg HR\": 92, \"Max HR\": 106, \"Calories\": 64.0, \"Distance\": 0.87, \"Title\": \"Washington Cycling\", \"time_day\": \"afternoon\"}, {\"Avg HR\": 104, \"Max HR\": 122, \"Calories\": 57.0, \"Distance\": 0.91, \"Title\": \"Washington Cycling\", \"time_day\": \"night\"}, {\"Avg HR\": 93, \"Max HR\": 112, \"Calories\": 108.0, \"Distance\": 2.02, \"Title\": \"Washington Cycling\", \"time_day\": \"night\"}, {\"Avg HR\": 94, \"Max HR\": 110, \"Calories\": 65.0, \"Distance\": 1.05, \"Title\": \"Washington Cycling\", \"time_day\": \"morning\"}, {\"Avg HR\": 87, \"Max HR\": 125, \"Calories\": 112.0, \"Distance\": 0.86, \"Title\": \"Washington Cycling\", \"time_day\": \"night\"}, {\"Avg HR\": 105, \"Max HR\": 128, \"Calories\": 54.0, \"Distance\": 0.48, \"Title\": \"Washington Cycling\", \"time_day\": \"afternoon\"}, {\"Avg HR\": 99, \"Max HR\": 124, \"Calories\": 124.0, \"Distance\": 2.12, \"Title\": \"Washington Cycling\", \"time_day\": \"night\"}, {\"Avg HR\": 111, \"Max HR\": 130, \"Calories\": 113.0, \"Distance\": 1.9, \"Title\": \"Washington Cycling\", \"time_day\": \"afternoon\"}, {\"Avg HR\": 99, \"Max HR\": 117, \"Calories\": 45.0, \"Distance\": 0.76, \"Title\": \"Washington Cycling\", \"time_day\": \"night\"}, {\"Avg HR\": 84, \"Max HR\": 98, \"Calories\": 33.0, \"Distance\": 1.01, \"Title\": \"Washington Cycling\", \"time_day\": \"afternoon\"}, {\"Avg HR\": 93, \"Max HR\": 117, \"Calories\": 47.0, \"Distance\": 1.02, \"Title\": \"Washington Cycling\", \"time_day\": \"night\"}, {\"Avg HR\": 106, \"Max HR\": 128, \"Calories\": 62.0, \"Distance\": 0.84, \"Title\": \"Washington Cycling\", \"time_day\": \"night\"}, {\"Avg HR\": 91, \"Max HR\": 109, \"Calories\": 72.0, \"Distance\": 0.83, \"Title\": \"Washington Cycling\", \"time_day\": \"night\"}, {\"Avg HR\": 109, \"Max HR\": 131, \"Calories\": 57.0, \"Distance\": 1.07, \"Title\": \"Washington Cycling\", \"time_day\": \"night\"}, {\"Avg HR\": 137, \"Max HR\": 158, \"Calories\": 464.0, \"Distance\": 3.12, \"Title\": \"Washington Running\", \"time_day\": \"afternoon\"}, {\"Avg HR\": 94, \"Max HR\": 112, \"Calories\": 64.0, \"Distance\": 1.99, \"Title\": \"Washington Cycling\", \"time_day\": \"afternoon\"}, {\"Avg HR\": 99, \"Max HR\": 113, \"Calories\": 39.0, \"Distance\": 0.87, \"Title\": \"Washington Cycling\", \"time_day\": \"night\"}, {\"Avg HR\": 79, \"Max HR\": 94, \"Calories\": 25.0, \"Distance\": 1.03, \"Title\": \"Washington Cycling\", \"time_day\": \"afternoon\"}, {\"Avg HR\": 91, \"Max HR\": 128, \"Calories\": 153.0, \"Distance\": 1.19, \"Title\": \"Washington Cycling\", \"time_day\": \"night\"}, {\"Avg HR\": 103, \"Max HR\": 127, \"Calories\": 55.0, \"Distance\": 0.91, \"Title\": \"Washington Cycling\", \"time_day\": \"afternoon\"}, {\"Avg HR\": 103, \"Max HR\": 122, \"Calories\": 45.0, \"Distance\": 0.63, \"Title\": \"Washington Cycling\", \"time_day\": \"night\"}, {\"Avg HR\": 91, \"Max HR\": 119, \"Calories\": 33.0, \"Distance\": 0.0, \"Title\": \"Cycling\", \"time_day\": \"afternoon\"}, {\"Avg HR\": 97, \"Max HR\": 118, \"Calories\": 94.0, \"Distance\": 1.91, \"Title\": \"Washington Cycling\", \"time_day\": \"night\"}, {\"Avg HR\": 113, \"Max HR\": 152, \"Calories\": 108.0, \"Distance\": 1.87, \"Title\": \"Washington Cycling\", \"time_day\": \"afternoon\"}, {\"Avg HR\": 95, \"Max HR\": 112, \"Calories\": 108.0, \"Distance\": 2.34, \"Title\": \"Washington Cycling\", \"time_day\": \"night\"}, {\"Avg HR\": 101, \"Max HR\": 117, \"Calories\": 89.0, \"Distance\": 1.43, \"Title\": \"Washington Cycling\", \"time_day\": \"afternoon\"}, {\"Avg HR\": 98, \"Max HR\": 118, \"Calories\": 100.0, \"Distance\": 0.88, \"Title\": \"Washington Cycling\", \"time_day\": \"night\"}, {\"Avg HR\": 116, \"Max HR\": 139, \"Calories\": 79.0, \"Distance\": 0.77, \"Title\": \"Washington Cycling\", \"time_day\": \"night\"}, {\"Avg HR\": 96, \"Max HR\": 116, \"Calories\": 71.0, \"Distance\": 1.57, \"Title\": \"Washington Cycling\", \"time_day\": \"afternoon\"}, {\"Avg HR\": 85, \"Max HR\": 97, \"Calories\": 18.0, \"Distance\": 0.74, \"Title\": \"Washington Cycling\", \"time_day\": \"night\"}, {\"Avg HR\": 98, \"Max HR\": 126, \"Calories\": 46.0, \"Distance\": 1.02, \"Title\": \"Washington Cycling\", \"time_day\": \"afternoon\"}, {\"Avg HR\": 92, \"Max HR\": 105, \"Calories\": 89.0, \"Distance\": 1.1, \"Title\": \"Washington Cycling\", \"time_day\": \"night\"}, {\"Avg HR\": 103, \"Max HR\": 120, \"Calories\": 49.0, \"Distance\": 1.03, \"Title\": \"Washington Cycling\", \"time_day\": \"afternoon\"}, {\"Avg HR\": 97, \"Max HR\": 113, \"Calories\": 38.0, \"Distance\": 0.93, \"Title\": \"Washington Cycling\", \"time_day\": \"night\"}, {\"Avg HR\": 86, \"Max HR\": 101, \"Calories\": 35.0, \"Distance\": 1.02, \"Title\": \"Washington Cycling\", \"time_day\": \"afternoon\"}, {\"Avg HR\": 92, \"Max HR\": 111, \"Calories\": 88.0, \"Distance\": 2.11, \"Title\": \"Washington Cycling\", \"time_day\": \"night\"}, {\"Avg HR\": 94, \"Max HR\": 114, \"Calories\": 68.0, \"Distance\": 1.47, \"Title\": \"Washington Cycling\", \"time_day\": \"afternoon\"}, {\"Avg HR\": 87, \"Max HR\": 109, \"Calories\": 88.0, \"Distance\": 1.98, \"Title\": \"Washington Cycling\", \"time_day\": \"night\"}, {\"Avg HR\": 108, \"Max HR\": 137, \"Calories\": 94.0, \"Distance\": 2.05, \"Title\": \"Washington Cycling\", \"time_day\": \"afternoon\"}, {\"Avg HR\": 113, \"Max HR\": 133, \"Calories\": 49.0, \"Distance\": 0.63, \"Title\": \"Washington Cycling\", \"time_day\": \"night\"}, {\"Avg HR\": 97, \"Max HR\": 114, \"Calories\": 23.0, \"Distance\": 0.42, \"Title\": \"Washington Cycling\", \"time_day\": \"afternoon\"}, {\"Avg HR\": 135, \"Max HR\": 148, \"Calories\": 317.0, \"Distance\": 2.26, \"Title\": \"Washington Running\", \"time_day\": \"morning\"}, {\"Avg HR\": 83, \"Max HR\": 107, \"Calories\": 79.0, \"Distance\": 2.29, \"Title\": \"Washington Cycling\", \"time_day\": \"night\"}, {\"Avg HR\": 117, \"Max HR\": 168, \"Calories\": 112.0, \"Distance\": 1.68, \"Title\": \"Washington Cycling\", \"time_day\": \"afternoon\"}, {\"Avg HR\": 95, \"Max HR\": 127, \"Calories\": 112.0, \"Distance\": 2.15, \"Title\": \"Washington Cycling\", \"time_day\": \"night\"}, {\"Avg HR\": 104, \"Max HR\": 133, \"Calories\": 99.0, \"Distance\": 2.05, \"Title\": \"Washington Cycling\", \"time_day\": \"afternoon\"}, {\"Avg HR\": 88, \"Max HR\": 116, \"Calories\": 74.0, \"Distance\": 0.76, \"Title\": \"Washington Cycling\", \"time_day\": \"afternoon\"}, {\"Avg HR\": 91, \"Max HR\": 131, \"Calories\": 76.0, \"Distance\": 0.19, \"Title\": \"Washington Cycling\", \"time_day\": \"afternoon\"}, {\"Avg HR\": 110, \"Max HR\": 124, \"Calories\": 51.0, \"Distance\": 0.99, \"Title\": \"Washington Cycling\", \"time_day\": \"night\"}, {\"Avg HR\": 115, \"Max HR\": 131, \"Calories\": 68.0, \"Distance\": 0.94, \"Title\": \"Washington Cycling\", \"time_day\": \"night\"}, {\"Avg HR\": 96, \"Max HR\": 121, \"Calories\": 105.0, \"Distance\": 2.23, \"Title\": \"Washington Cycling\", \"time_day\": \"night\"}, {\"Avg HR\": 115, \"Max HR\": 128, \"Calories\": 118.0, \"Distance\": 1.98, \"Title\": \"Washington Cycling\", \"time_day\": \"afternoon\"}, {\"Avg HR\": 96, \"Max HR\": 130, \"Calories\": 58.0, \"Distance\": 0.88, \"Title\": \"Washington Cycling\", \"time_day\": \"afternoon\"}, {\"Avg HR\": 144, \"Max HR\": 160, \"Calories\": 286.0, \"Distance\": 2.12, \"Title\": \"Washington Running\", \"time_day\": \"night\"}, {\"Avg HR\": 96, \"Max HR\": 126, \"Calories\": 100.0, \"Distance\": 1.49, \"Title\": \"Washington Cycling\", \"time_day\": \"afternoon\"}, {\"Avg HR\": 97, \"Max HR\": 124, \"Calories\": 132.0, \"Distance\": 1.39, \"Title\": \"Washington Cycling\", \"time_day\": \"afternoon\"}, {\"Avg HR\": 134, \"Max HR\": 157, \"Calories\": 407.0, \"Distance\": 2.83, \"Title\": \"Washington Running\", \"time_day\": \"night\"}, {\"Avg HR\": 138, \"Max HR\": 178, \"Calories\": 397.0, \"Distance\": 2.81, \"Title\": \"Washington Running\", \"time_day\": \"afternoon\"}, {\"Avg HR\": 109, \"Max HR\": 136, \"Calories\": 118.0, \"Distance\": 1.96, \"Title\": \"Washington Cycling\", \"time_day\": \"night\"}, {\"Avg HR\": 136, \"Max HR\": 163, \"Calories\": 135.0, \"Distance\": 1.81, \"Title\": \"Washington Cycling\", \"time_day\": \"afternoon\"}, {\"Avg HR\": 113, \"Max HR\": 130, \"Calories\": 164.0, \"Distance\": 2.13, \"Title\": \"Washington Cycling\", \"time_day\": \"night\"}, {\"Avg HR\": 110, \"Max HR\": 131, \"Calories\": 62.0, \"Distance\": 1.34, \"Title\": \"Washington Cycling\", \"time_day\": \"afternoon\"}, {\"Avg HR\": 118, \"Max HR\": 140, \"Calories\": 167.0, \"Distance\": 2.18, \"Title\": \"Washington Cycling\", \"time_day\": \"night\"}, {\"Avg HR\": 119, \"Max HR\": 135, \"Calories\": 124.0, \"Distance\": 1.65, \"Title\": \"Washington Cycling\", \"time_day\": \"afternoon\"}, {\"Avg HR\": 103, \"Max HR\": 127, \"Calories\": 138.0, \"Distance\": 2.27, \"Title\": \"Washington Cycling\", \"time_day\": \"night\"}, {\"Avg HR\": 107, \"Max HR\": 131, \"Calories\": 86.0, \"Distance\": 1.64, \"Title\": \"Washington Cycling\", \"time_day\": \"afternoon\"}, {\"Avg HR\": 143, \"Max HR\": 161, \"Calories\": 299.0, \"Distance\": 2.1, \"Title\": \"Running\", \"time_day\": \"night\"}, {\"Avg HR\": 104, \"Max HR\": 141, \"Calories\": 126.0, \"Distance\": 2.17, \"Title\": \"Washington Cycling\", \"time_day\": \"afternoon\"}, {\"Avg HR\": 104, \"Max HR\": 140, \"Calories\": 229.0, \"Distance\": 2.39, \"Title\": \"Washington Cycling\", \"time_day\": \"afternoon\"}, {\"Avg HR\": 124, \"Max HR\": 144, \"Calories\": 78.0, \"Distance\": 0.36, \"Title\": \"Washington Cycling\", \"time_day\": \"night\"}, {\"Avg HR\": 142, \"Max HR\": 151, \"Calories\": 165.0, \"Distance\": 1.12, \"Title\": \"Running\", \"time_day\": \"afternoon\"}, {\"Avg HR\": 149, \"Max HR\": 169, \"Calories\": 255.0, \"Distance\": 1.63, \"Title\": \"Running\", \"time_day\": \"night\"}, {\"Avg HR\": 110, \"Max HR\": 150, \"Calories\": 48.0, \"Distance\": 0.67, \"Title\": \"Washington Cycling\", \"time_day\": \"morning\"}, {\"Avg HR\": 95, \"Max HR\": 122, \"Calories\": 58.0, \"Distance\": 1.17, \"Title\": \"Washington Cycling\", \"time_day\": \"morning\"}, {\"Avg HR\": 118, \"Max HR\": 139, \"Calories\": 170.0, \"Distance\": 2.26, \"Title\": \"Washington Cycling\", \"time_day\": \"afternoon\"}, {\"Avg HR\": 108, \"Max HR\": 147, \"Calories\": 131.0, \"Distance\": 0.74, \"Title\": \"Washington Cycling\", \"time_day\": \"night\"}, {\"Avg HR\": 122, \"Max HR\": 143, \"Calories\": 131.0, \"Distance\": 1.97, \"Title\": \"Washington Cycling\", \"time_day\": \"afternoon\"}, {\"Avg HR\": 147, \"Max HR\": 170, \"Calories\": 312.0, \"Distance\": 2.08, \"Title\": \"Running\", \"time_day\": \"afternoon\"}, {\"Avg HR\": 87, \"Max HR\": 115, \"Calories\": 24.0, \"Distance\": 0.82, \"Title\": \"Washington Cycling\", \"time_day\": \"night\"}, {\"Avg HR\": 108, \"Max HR\": 134, \"Calories\": 61.0, \"Distance\": 1.02, \"Title\": \"Washington Cycling\", \"time_day\": \"afternoon\"}, {\"Avg HR\": 102, \"Max HR\": 127, \"Calories\": 78.0, \"Distance\": 1.52, \"Title\": \"Washington Cycling\", \"time_day\": \"morning\"}, {\"Avg HR\": 110, \"Max HR\": 129, \"Calories\": 79.0, \"Distance\": 1.16, \"Title\": \"Washington Cycling\", \"time_day\": \"morning\"}, {\"Avg HR\": 100, \"Max HR\": 120, \"Calories\": 111.0, \"Distance\": 2.22, \"Title\": \"Washington Cycling\", \"time_day\": \"night\"}, {\"Avg HR\": 124, \"Max HR\": 142, \"Calories\": 134.0, \"Distance\": 1.74, \"Title\": \"Washington Cycling\", \"time_day\": \"afternoon\"}, {\"Avg HR\": 123, \"Max HR\": 131, \"Calories\": 51.0, \"Distance\": 0.71, \"Title\": \"Washington Cycling\", \"time_day\": \"afternoon\"}, {\"Avg HR\": 95, \"Max HR\": 113, \"Calories\": 31.0, \"Distance\": 0.64, \"Title\": \"Washington Cycling\", \"time_day\": \"afternoon\"}, {\"Avg HR\": 100, \"Max HR\": 112, \"Calories\": 23.0, \"Distance\": 0.64, \"Title\": \"Washington Cycling\", \"time_day\": \"night\"}, {\"Avg HR\": 116, \"Max HR\": 142, \"Calories\": 63.0, \"Distance\": 0.35, \"Title\": \"Washington Cycling\", \"time_day\": \"night\"}, {\"Avg HR\": 90, \"Max HR\": 111, \"Calories\": 49.0, \"Distance\": 0.98, \"Title\": \"Washington Cycling\", \"time_day\": \"night\"}, {\"Avg HR\": 102, \"Max HR\": 113, \"Calories\": 50.0, \"Distance\": 0.58, \"Title\": \"Washington Cycling\", \"time_day\": \"night\"}, {\"Avg HR\": 107, \"Max HR\": 119, \"Calories\": 40.0, \"Distance\": 0.54, \"Title\": \"Washington Cycling\", \"time_day\": \"night\"}, {\"Avg HR\": 93, \"Max HR\": 114, \"Calories\": 24.0, \"Distance\": 0.72, \"Title\": \"Washington Cycling\", \"time_day\": \"afternoon\"}, {\"Avg HR\": 104, \"Max HR\": 123, \"Calories\": 194.0, \"Distance\": 3.12, \"Title\": \"Washington Cycling\", \"time_day\": \"afternoon\"}, {\"Avg HR\": 98, \"Max HR\": 120, \"Calories\": 108.0, \"Distance\": 2.11, \"Title\": \"Washington Cycling\", \"time_day\": \"afternoon\"}, {\"Avg HR\": 102, \"Max HR\": 126, \"Calories\": 44.0, \"Distance\": 0.99, \"Title\": \"Washington Cycling\", \"time_day\": \"night\"}, {\"Avg HR\": 96, \"Max HR\": 114, \"Calories\": 38.0, \"Distance\": 0.58, \"Title\": \"Washington Cycling\", \"time_day\": \"night\"}, {\"Avg HR\": 152, \"Max HR\": 167, \"Calories\": 310.0, \"Distance\": 1.95, \"Title\": \"Washington Running\", \"time_day\": \"afternoon\"}, {\"Avg HR\": 101, \"Max HR\": 125, \"Calories\": 135.0, \"Distance\": 2.32, \"Title\": \"Washington Cycling\", \"time_day\": \"night\"}, {\"Avg HR\": 107, \"Max HR\": 140, \"Calories\": 109.0, \"Distance\": 1.79, \"Title\": \"Washington Cycling\", \"time_day\": \"afternoon\"}, {\"Avg HR\": 107, \"Max HR\": 126, \"Calories\": 46.0, \"Distance\": 0.73, \"Title\": \"Washington Cycling\", \"time_day\": \"night\"}, {\"Avg HR\": 109, \"Max HR\": 139, \"Calories\": 52.0, \"Distance\": 0.1, \"Title\": \"Washington Cycling\", \"time_day\": \"night\"}, {\"Avg HR\": 97, \"Max HR\": 124, \"Calories\": 44.0, \"Distance\": 0.65, \"Title\": \"Washington Cycling\", \"time_day\": \"afternoon\"}, {\"Avg HR\": 97, \"Max HR\": 125, \"Calories\": 30.0, \"Distance\": 0.17, \"Title\": \"Washington Cycling\", \"time_day\": \"afternoon\"}, {\"Avg HR\": 104, \"Max HR\": 123, \"Calories\": 47.0, \"Distance\": 0.61, \"Title\": \"Washington Cycling\", \"time_day\": \"night\"}, {\"Avg HR\": 108, \"Max HR\": 134, \"Calories\": 63.0, \"Distance\": 0.67, \"Title\": \"Washington Cycling\", \"time_day\": \"afternoon\"}, {\"Avg HR\": 103, \"Max HR\": 131, \"Calories\": 73.0, \"Distance\": 0.85, \"Title\": \"Washington Cycling\", \"time_day\": \"afternoon\"}, {\"Avg HR\": 101, \"Max HR\": 122, \"Calories\": 104.0, \"Distance\": 1.56, \"Title\": \"Washington Cycling\", \"time_day\": \"morning\"}, {\"Avg HR\": 113, \"Max HR\": 129, \"Calories\": 106.0, \"Distance\": 1.84, \"Title\": \"Washington Cycling\", \"time_day\": \"morning\"}, {\"Avg HR\": 80, \"Max HR\": 99, \"Calories\": 59.0, \"Distance\": 2.17, \"Title\": \"Washington Cycling\", \"time_day\": \"night\"}, {\"Avg HR\": 96, \"Max HR\": 129, \"Calories\": 75.0, \"Distance\": 1.78, \"Title\": \"Washington Cycling\", \"time_day\": \"afternoon\"}, {\"Avg HR\": 108, \"Max HR\": 136, \"Calories\": 116.0, \"Distance\": 0.83, \"Title\": \"Washington Cycling\", \"time_day\": \"night\"}, {\"Avg HR\": 103, \"Max HR\": 139, \"Calories\": 74.0, \"Distance\": 1.68, \"Title\": \"Washington Cycling\", \"time_day\": \"afternoon\"}, {\"Avg HR\": 102, \"Max HR\": 141, \"Calories\": 128.0, \"Distance\": 1.38, \"Title\": \"Washington Cycling\", \"time_day\": \"night\"}, {\"Avg HR\": 92, \"Max HR\": 123, \"Calories\": 63.0, \"Distance\": 2.01, \"Title\": \"Washington Cycling\", \"time_day\": \"afternoon\"}, {\"Avg HR\": 108, \"Max HR\": 127, \"Calories\": 94.0, \"Distance\": 1.04, \"Title\": \"Washington Cycling\", \"time_day\": \"morning\"}, {\"Avg HR\": 149, \"Max HR\": 160, \"Calories\": 242.0, \"Distance\": 2.0, \"Title\": \"Treadmill Running\", \"time_day\": \"night\"}, {\"Avg HR\": 105, \"Max HR\": 121, \"Calories\": 54.0, \"Distance\": 0.6, \"Title\": \"Washington Cycling\", \"time_day\": \"morning\"}, {\"Avg HR\": 108, \"Max HR\": 149, \"Calories\": 207.0, \"Distance\": 0.0, \"Title\": \"Indoor Cycling\", \"time_day\": \"night\"}, {\"Avg HR\": 136, \"Max HR\": 175, \"Calories\": 487.0, \"Distance\": 0.0, \"Title\": \"Elliptical\", \"time_day\": \"night\"}, {\"Avg HR\": 104, \"Max HR\": 130, \"Calories\": 93.0, \"Distance\": 0.98, \"Title\": \"Washington Cycling\", \"time_day\": \"night\"}, {\"Avg HR\": 122, \"Max HR\": 143, \"Calories\": 147.0, \"Distance\": 1.49, \"Title\": \"Washington Cycling\", \"time_day\": \"night\"}, {\"Avg HR\": 114, \"Max HR\": 138, \"Calories\": 111.0, \"Distance\": 1.66, \"Title\": \"Washington Cycling\", \"time_day\": \"night\"}, {\"Avg HR\": 110, \"Max HR\": 130, \"Calories\": 78.0, \"Distance\": 1.04, \"Title\": \"Washington Cycling\", \"time_day\": \"morning\"}, {\"Avg HR\": 106, \"Max HR\": 125, \"Calories\": 54.0, \"Distance\": 0.95, \"Title\": \"Washington Cycling\", \"time_day\": \"morning\"}, {\"Avg HR\": 145, \"Max HR\": 161, \"Calories\": 368.0, \"Distance\": 2.8, \"Title\": \"Washington Running\", \"time_day\": \"afternoon\"}, {\"Avg HR\": 142, \"Max HR\": 154, \"Calories\": 228.0, \"Distance\": 2.0, \"Title\": \"Treadmill Running\", \"time_day\": \"afternoon\"}, {\"Avg HR\": 147, \"Max HR\": 163, \"Calories\": 234.0, \"Distance\": 2.01, \"Title\": \"Treadmill Running\", \"time_day\": \"afternoon\"}, {\"Avg HR\": 148, \"Max HR\": 161, \"Calories\": 353.0, \"Distance\": 3.01, \"Title\": \"Treadmill Running\", \"time_day\": \"afternoon\"}, {\"Avg HR\": 149, \"Max HR\": 161, \"Calories\": 357.0, \"Distance\": 3.0, \"Title\": \"Treadmill Running\", \"time_day\": \"afternoon\"}, {\"Avg HR\": 153, \"Max HR\": 170, \"Calories\": 568.0, \"Distance\": 4.02, \"Title\": \"Shawnee Running\", \"time_day\": \"afternoon\"}, {\"Avg HR\": 149, \"Max HR\": 161, \"Calories\": 243.0, \"Distance\": 2.06, \"Title\": \"Treadmill Running\", \"time_day\": \"afternoon\"}, {\"Avg HR\": 147, \"Max HR\": 168, \"Calories\": 239.0, \"Distance\": 2.01, \"Title\": \"Treadmill Running\", \"time_day\": \"night\"}, {\"Avg HR\": 106, \"Max HR\": 132, \"Calories\": 281.0, \"Distance\": 0.0, \"Title\": \"Indoor Cycling\", \"time_day\": \"night\"}, {\"Avg HR\": 115, \"Max HR\": 129, \"Calories\": 62.0, \"Distance\": 0.99, \"Title\": \"Washington Cycling\", \"time_day\": \"morning\"}, {\"Avg HR\": 164, \"Max HR\": 177, \"Calories\": 264.0, \"Distance\": 2.0, \"Title\": \"Treadmill Running\", \"time_day\": \"night\"}, {\"Avg HR\": 157, \"Max HR\": 164, \"Calories\": 253.0, \"Distance\": 1.96, \"Title\": \"Treadmill Running\", \"time_day\": \"night\"}, {\"Avg HR\": 110, \"Max HR\": 136, \"Calories\": 47.0, \"Distance\": 0.42, \"Title\": \"Washington Cycling\", \"time_day\": \"night\"}, {\"Avg HR\": 110, \"Max HR\": 131, \"Calories\": 106.0, \"Distance\": 1.13, \"Title\": \"Washington Cycling\", \"time_day\": \"morning\"}, {\"Avg HR\": 103, \"Max HR\": 128, \"Calories\": 58.0, \"Distance\": 1.0, \"Title\": \"Washington Cycling\", \"time_day\": \"morning\"}, {\"Avg HR\": 130, \"Max HR\": 161, \"Calories\": 343.0, \"Distance\": 0.0, \"Title\": \"Elliptical\", \"time_day\": \"night\"}, {\"Avg HR\": 102, \"Max HR\": 127, \"Calories\": 80.0, \"Distance\": 0.62, \"Title\": \"Washington Cycling\", \"time_day\": \"morning\"}, {\"Avg HR\": 144, \"Max HR\": 162, \"Calories\": 250.0, \"Distance\": 2.01, \"Title\": \"Treadmill Running\", \"time_day\": \"night\"}, {\"Avg HR\": 140, \"Max HR\": 153, \"Calories\": 258.0, \"Distance\": 2.05, \"Title\": \"Treadmill Running\", \"time_day\": \"night\"}, {\"Avg HR\": 139, \"Max HR\": 169, \"Calories\": 493.0, \"Distance\": 0.0, \"Title\": \"Elliptical\", \"time_day\": \"night\"}, {\"Avg HR\": 157, \"Max HR\": 171, \"Calories\": 131.0, \"Distance\": 0.99, \"Title\": \"Treadmill Running\", \"time_day\": \"night\"}, {\"Avg HR\": 138, \"Max HR\": 155, \"Calories\": 143.0, \"Distance\": 1.06, \"Title\": \"Treadmill Running\", \"time_day\": \"night\"}, {\"Avg HR\": 101, \"Max HR\": 126, \"Calories\": 77.0, \"Distance\": 0.79, \"Title\": \"Washington Cycling\", \"time_day\": \"night\"}, {\"Avg HR\": 101, \"Max HR\": 122, \"Calories\": 45.0, \"Distance\": 0.44, \"Title\": \"Washington Cycling\", \"time_day\": \"morning\"}, {\"Avg HR\": 133, \"Max HR\": 151, \"Calories\": 382.0, \"Distance\": 0.0, \"Title\": \"Elliptical\", \"time_day\": \"night\"}, {\"Avg HR\": 152, \"Max HR\": 162, \"Calories\": 249.0, \"Distance\": 2.0, \"Title\": \"Treadmill Running\", \"time_day\": \"night\"}, {\"Avg HR\": 108, \"Max HR\": 129, \"Calories\": 86.0, \"Distance\": 0.55, \"Title\": \"Washington Cycling\", \"time_day\": \"morning\"}, {\"Avg HR\": 132, \"Max HR\": 180, \"Calories\": 470.0, \"Distance\": 0.0, \"Title\": \"Elliptical\", \"time_day\": \"night\"}, {\"Avg HR\": 106, \"Max HR\": 123, \"Calories\": 69.0, \"Distance\": 0.48, \"Title\": \"Washington Cycling\", \"time_day\": \"morning\"}, {\"Avg HR\": 126, \"Max HR\": 166, \"Calories\": 473.0, \"Distance\": 0.0, \"Title\": \"Elliptical\", \"time_day\": \"night\"}, {\"Avg HR\": 120, \"Max HR\": 133, \"Calories\": 63.0, \"Distance\": 0.59, \"Title\": \"Washington Cycling\", \"time_day\": \"morning\"}, {\"Avg HR\": 122, \"Max HR\": 146, \"Calories\": 389.0, \"Distance\": 0.0, \"Title\": \"Elliptical\", \"time_day\": \"night\"}, {\"Avg HR\": 98, \"Max HR\": 127, \"Calories\": 50.0, \"Distance\": 0.67, \"Title\": \"Washington Cycling\", \"time_day\": \"night\"}, {\"Avg HR\": 101, \"Max HR\": 116, \"Calories\": 50.0, \"Distance\": 0.6, \"Title\": \"Washington Cycling\", \"time_day\": \"morning\"}, {\"Avg HR\": 113, \"Max HR\": 127, \"Calories\": 82.0, \"Distance\": 0.7, \"Title\": \"Washington Cycling\", \"time_day\": \"morning\"}, {\"Avg HR\": 104, \"Max HR\": 126, \"Calories\": 69.0, \"Distance\": 1.15, \"Title\": \"Washington Cycling\", \"time_day\": \"night\"}, {\"Avg HR\": 94, \"Max HR\": 109, \"Calories\": 77.0, \"Distance\": 0.89, \"Title\": \"Washington Cycling\", \"time_day\": \"night\"}, {\"Avg HR\": 153, \"Max HR\": 167, \"Calories\": 394.0, \"Distance\": 2.95, \"Title\": \"Washington Running\", \"time_day\": \"afternoon\"}, {\"Avg HR\": 90, \"Max HR\": 118, \"Calories\": 116.0, \"Distance\": 1.87, \"Title\": \"Washington Cycling\", \"time_day\": \"night\"}, {\"Avg HR\": 99, \"Max HR\": 112, \"Calories\": 28.0, \"Distance\": 0.44, \"Title\": \"Washington Cycling\", \"time_day\": \"morning\"}, {\"Avg HR\": 146, \"Max HR\": 164, \"Calories\": 273.0, \"Distance\": 2.02, \"Title\": \"Washington Running\", \"time_day\": \"night\"}, {\"Avg HR\": 95, \"Max HR\": 128, \"Calories\": 46.0, \"Distance\": 0.65, \"Title\": \"Washington Cycling\", \"time_day\": \"morning\"}, {\"Avg HR\": 150, \"Max HR\": 168, \"Calories\": 271.0, \"Distance\": 2.04, \"Title\": \"Washington Running\", \"time_day\": \"night\"}, {\"Avg HR\": 144, \"Max HR\": 159, \"Calories\": 345.0, \"Distance\": 2.63, \"Title\": \"Treadmill Running\", \"time_day\": \"night\"}, {\"Avg HR\": 153, \"Max HR\": 176, \"Calories\": 286.0, \"Distance\": 2.05, \"Title\": \"Washington Running\", \"time_day\": \"night\"}, {\"Avg HR\": 135, \"Max HR\": 146, \"Calories\": 294.0, \"Distance\": 2.1, \"Title\": \"Washington Running\", \"time_day\": \"night\"}, {\"Avg HR\": 92, \"Max HR\": 100, \"Calories\": 9.0, \"Distance\": 0.17, \"Title\": \"Washington Cycling\", \"time_day\": \"morning\"}, {\"Avg HR\": 140, \"Max HR\": 160, \"Calories\": 293.0, \"Distance\": 1.96, \"Title\": \"Washington Running\", \"time_day\": \"night\"}, {\"Avg HR\": 155, \"Max HR\": 163, \"Calories\": 143.0, \"Distance\": 1.0, \"Title\": \"Treadmill Running\", \"time_day\": \"night\"}, {\"Avg HR\": 93, \"Max HR\": 113, \"Calories\": 45.0, \"Distance\": 1.09, \"Title\": \"Washington Cycling\", \"time_day\": \"afternoon\"}, {\"Avg HR\": 139, \"Max HR\": 159, \"Calories\": 124.0, \"Distance\": 1.01, \"Title\": \"Treadmill Running\", \"time_day\": \"night\"}, {\"Avg HR\": 123, \"Max HR\": 151, \"Calories\": 191.0, \"Distance\": 1.03, \"Title\": \"Treadmill Running\", \"time_day\": \"night\"}, {\"Avg HR\": 148, \"Max HR\": 160, \"Calories\": 133.0, \"Distance\": 1.05, \"Title\": \"Treadmill Running\", \"time_day\": \"night\"}, {\"Avg HR\": 137, \"Max HR\": 159, \"Calories\": 123.0, \"Distance\": 1.02, \"Title\": \"Treadmill Running\", \"time_day\": \"night\"}, {\"Avg HR\": 146, \"Max HR\": 164, \"Calories\": 536.0, \"Distance\": 4.3, \"Title\": \"Kansas City Running\", \"time_day\": \"afternoon\"}, {\"Avg HR\": 156, \"Max HR\": 183, \"Calories\": 608.0, \"Distance\": 4.26, \"Title\": \"Kansas City Running\", \"time_day\": \"afternoon\"}, {\"Avg HR\": 150, \"Max HR\": 169, \"Calories\": 571.0, \"Distance\": 4.25, \"Title\": \"Kansas City Running\", \"time_day\": \"afternoon\"}, {\"Avg HR\": 158, \"Max HR\": 182, \"Calories\": 675.0, \"Distance\": 4.4, \"Title\": \"Kansas City Running\", \"time_day\": \"night\"}, {\"Avg HR\": 147, \"Max HR\": 159, \"Calories\": 567.0, \"Distance\": 4.25, \"Title\": \"Kansas City Running\", \"time_day\": \"afternoon\"}, {\"Avg HR\": 151, \"Max HR\": 171, \"Calories\": 435.0, \"Distance\": 3.01, \"Title\": \"Kansas City Running\", \"time_day\": \"afternoon\"}, {\"Avg HR\": 138, \"Max HR\": 155, \"Calories\": 373.0, \"Distance\": 3.0, \"Title\": \"Kansas City Running\", \"time_day\": \"afternoon\"}, {\"Avg HR\": 154, \"Max HR\": 176, \"Calories\": 614.0, \"Distance\": 4.3, \"Title\": \"Kansas City Running\", \"time_day\": \"afternoon\"}, {\"Avg HR\": 150, \"Max HR\": 180, \"Calories\": 361.0, \"Distance\": 3.0, \"Title\": \"Kansas City Running\", \"time_day\": \"afternoon\"}, {\"Avg HR\": 136, \"Max HR\": 148, \"Calories\": 240.0, \"Distance\": 1.74, \"Title\": \"Kansas City Running\", \"time_day\": \"afternoon\"}, {\"Avg HR\": 144, \"Max HR\": 163, \"Calories\": 401.0, \"Distance\": 3.01, \"Title\": \"Kansas City Running\", \"time_day\": \"afternoon\"}, {\"Avg HR\": 150, \"Max HR\": 171, \"Calories\": 419.0, \"Distance\": 3.01, \"Title\": \"Kansas City Running\", \"time_day\": \"morning\"}, {\"Avg HR\": 148, \"Max HR\": 172, \"Calories\": 596.0, \"Distance\": 4.4, \"Title\": \"Kansas City Running\", \"time_day\": \"afternoon\"}, {\"Avg HR\": 151, \"Max HR\": 171, \"Calories\": 512.0, \"Distance\": 3.69, \"Title\": \"Kansas City Running\", \"time_day\": \"afternoon\"}, {\"Avg HR\": 152, \"Max HR\": 174, \"Calories\": 395.0, \"Distance\": 3.0, \"Title\": \"Kansas City Running\", \"time_day\": \"afternoon\"}, {\"Avg HR\": 152, \"Max HR\": 174, \"Calories\": 594.0, \"Distance\": 4.31, \"Title\": \"Kansas City Running\", \"time_day\": \"afternoon\"}, {\"Avg HR\": 146, \"Max HR\": 165, \"Calories\": 375.0, \"Distance\": 3.0, \"Title\": \"Kansas City Running\", \"time_day\": \"night\"}, {\"Avg HR\": 153, \"Max HR\": 178, \"Calories\": 572.0, \"Distance\": 4.31, \"Title\": \"Kansas City Running\", \"time_day\": \"afternoon\"}, {\"Avg HR\": 152, \"Max HR\": 176, \"Calories\": 389.0, \"Distance\": 3.01, \"Title\": \"Kansas City Running\", \"time_day\": \"afternoon\"}, {\"Avg HR\": 127, \"Max HR\": 141, \"Calories\": 493.0, \"Distance\": 3.86, \"Title\": \"Kansas City Running\", \"time_day\": \"morning\"}, {\"Avg HR\": 142, \"Max HR\": 161, \"Calories\": 149.0, \"Distance\": 1.19, \"Title\": \"Kansas City Running\", \"time_day\": \"afternoon\"}, {\"Avg HR\": 155, \"Max HR\": 172, \"Calories\": 69.0, \"Distance\": 0.55, \"Title\": \"Kansas City Running\", \"time_day\": \"afternoon\"}, {\"Avg HR\": 152, \"Max HR\": 182, \"Calories\": 411.0, \"Distance\": 2.99, \"Title\": \"Kansas City Running\", \"time_day\": \"afternoon\"}, {\"Avg HR\": 146, \"Max HR\": 165, \"Calories\": 253.0, \"Distance\": 1.9, \"Title\": \"Kansas City Running\", \"time_day\": \"afternoon\"}, {\"Avg HR\": 153, \"Max HR\": 177, \"Calories\": 397.0, \"Distance\": 3.01, \"Title\": \"Kansas City Running\", \"time_day\": \"night\"}, {\"Avg HR\": 108, \"Max HR\": 132, \"Calories\": 139.0, \"Distance\": 1.82, \"Title\": \"Kansas City Cycling\", \"time_day\": \"night\"}, {\"Avg HR\": 102, \"Max HR\": 134, \"Calories\": 166.0, \"Distance\": 2.41, \"Title\": \"Kansas City Cycling\", \"time_day\": \"night\"}, {\"Avg HR\": 152, \"Max HR\": 176, \"Calories\": 416.0, \"Distance\": 3.01, \"Title\": \"Kansas City Running\", \"time_day\": \"night\"}, {\"Avg HR\": 156, \"Max HR\": 174, \"Calories\": 107.0, \"Distance\": 0.78, \"Title\": \"Kansas City Running\", \"time_day\": \"afternoon\"}, {\"Avg HR\": 144, \"Max HR\": 158, \"Calories\": 92.0, \"Distance\": 0.77, \"Title\": \"Kansas City Running\", \"time_day\": \"afternoon\"}, {\"Avg HR\": 144, \"Max HR\": 159, \"Calories\": 110.0, \"Distance\": 0.8, \"Title\": \"Kansas City Running\", \"time_day\": \"afternoon\"}, {\"Avg HR\": 144, \"Max HR\": 163, \"Calories\": 93.0, \"Distance\": 0.73, \"Title\": \"Kansas City Running\", \"time_day\": \"afternoon\"}, {\"Avg HR\": 152, \"Max HR\": 170, \"Calories\": 116.0, \"Distance\": 0.8, \"Title\": \"Kansas City Running\", \"time_day\": \"afternoon\"}, {\"Avg HR\": 146, \"Max HR\": 167, \"Calories\": 107.0, \"Distance\": 0.84, \"Title\": \"Kansas City Running\", \"time_day\": \"afternoon\"}, {\"Avg HR\": 151, \"Max HR\": 179, \"Calories\": 587.0, \"Distance\": 4.31, \"Title\": \"Kansas City Running\", \"time_day\": \"night\"}, {\"Avg HR\": 148, \"Max HR\": 159, \"Calories\": 106.0, \"Distance\": 0.81, \"Title\": \"Kansas City Running\", \"time_day\": \"night\"}, {\"Avg HR\": 137, \"Max HR\": 157, \"Calories\": 90.0, \"Distance\": 0.74, \"Title\": \"Kansas City Running\", \"time_day\": \"afternoon\"}, {\"Avg HR\": 146, \"Max HR\": 172, \"Calories\": 564.0, \"Distance\": 4.32, \"Title\": \"Kansas City Running\", \"time_day\": \"afternoon\"}, {\"Avg HR\": 144, \"Max HR\": 164, \"Calories\": 100.0, \"Distance\": 0.8, \"Title\": \"Kansas City Running\", \"time_day\": \"afternoon\"}, {\"Avg HR\": 126, \"Max HR\": 148, \"Calories\": 88.0, \"Distance\": 0.78, \"Title\": \"Kansas City Running\", \"time_day\": \"afternoon\"}, {\"Avg HR\": 152, \"Max HR\": 181, \"Calories\": 585.0, \"Distance\": 4.31, \"Title\": \"Kansas City Running\", \"time_day\": \"afternoon\"}, {\"Avg HR\": 146, \"Max HR\": 162, \"Calories\": 108.0, \"Distance\": 0.75, \"Title\": \"Kansas City Running\", \"time_day\": \"night\"}, {\"Avg HR\": 128, \"Max HR\": 150, \"Calories\": 149.0, \"Distance\": 0.81, \"Title\": \"Kansas City Running\", \"time_day\": \"afternoon\"}, {\"Avg HR\": 146, \"Max HR\": 166, \"Calories\": 127.0, \"Distance\": 0.76, \"Title\": \"Treadmill Running\", \"time_day\": \"afternoon\"}, {\"Avg HR\": 138, \"Max HR\": 150, \"Calories\": 115.0, \"Distance\": 0.89, \"Title\": \"Treadmill Running\", \"time_day\": \"afternoon\"}, {\"Avg HR\": 137, \"Max HR\": 155, \"Calories\": 293.0, \"Distance\": 2.27, \"Title\": \"Kansas City Running\", \"time_day\": \"afternoon\"}, {\"Avg HR\": 139, \"Max HR\": 163, \"Calories\": 112.0, \"Distance\": 0.76, \"Title\": \"Treadmill Running\", \"time_day\": \"afternoon\"}, {\"Avg HR\": 148, \"Max HR\": 170, \"Calories\": 424.0, \"Distance\": 3.01, \"Title\": \"Kansas City Running\", \"time_day\": \"afternoon\"}, {\"Avg HR\": 145, \"Max HR\": 177, \"Calories\": 538.0, \"Distance\": 4.13, \"Title\": \"Kansas City Running\", \"time_day\": \"afternoon\"}, {\"Avg HR\": 141, \"Max HR\": 163, \"Calories\": 317.0, \"Distance\": 2.45, \"Title\": \"Kansas City Running\", \"time_day\": \"night\"}, {\"Avg HR\": 108, \"Max HR\": 132, \"Calories\": 156.0, \"Distance\": 2.05, \"Title\": \"Kansas City Cycling\", \"time_day\": \"night\"}, {\"Avg HR\": 131, \"Max HR\": 159, \"Calories\": 363.0, \"Distance\": 2.6, \"Title\": \"Kansas City Running\", \"time_day\": \"night\"}, {\"Avg HR\": 153, \"Max HR\": 179, \"Calories\": 538.0, \"Distance\": 4.1, \"Title\": \"Kansas City Running\", \"time_day\": \"afternoon\"}, {\"Avg HR\": 150, \"Max HR\": 164, \"Calories\": 391.0, \"Distance\": 2.91, \"Title\": \"Kansas City Running\", \"time_day\": \"afternoon\"}, {\"Avg HR\": 131, \"Max HR\": 167, \"Calories\": 567.0, \"Distance\": 4.37, \"Title\": \"Kansas City Running\", \"time_day\": \"night\"}, {\"Avg HR\": 150, \"Max HR\": 169, \"Calories\": 122.0, \"Distance\": 0.83, \"Title\": \"Kansas City Running\", \"time_day\": \"afternoon\"}, {\"Avg HR\": 144, \"Max HR\": 165, \"Calories\": 113.0, \"Distance\": 0.81, \"Title\": \"Kansas City Running\", \"time_day\": \"afternoon\"}, {\"Avg HR\": 148, \"Max HR\": 173, \"Calories\": 409.0, \"Distance\": 3.01, \"Title\": \"Kansas City Running\", \"time_day\": \"night\"}, {\"Avg HR\": 130, \"Max HR\": 138, \"Calories\": 200.0, \"Distance\": 1.5, \"Title\": \"Treadmill Running\", \"time_day\": \"night\"}, {\"Avg HR\": 100, \"Max HR\": 119, \"Calories\": 110.0, \"Distance\": 1.73, \"Title\": \"Kansas City Cycling\", \"time_day\": \"afternoon\"}, {\"Avg HR\": 94, \"Max HR\": 121, \"Calories\": 143.0, \"Distance\": 1.9, \"Title\": \"Kansas City Cycling\", \"time_day\": \"afternoon\"}, {\"Avg HR\": 143, \"Max HR\": 163, \"Calories\": 417.0, \"Distance\": 3.0, \"Title\": \"Kansas City Running\", \"time_day\": \"afternoon\"}, {\"Avg HR\": 142, \"Max HR\": 154, \"Calories\": 142.0, \"Distance\": 1.09, \"Title\": \"Treadmill Running\", \"time_day\": \"afternoon\"}, {\"Avg HR\": 145, \"Max HR\": 161, \"Calories\": 97.0, \"Distance\": 0.67, \"Title\": \"Kansas City Running\", \"time_day\": \"afternoon\"}, {\"Avg HR\": 136, \"Max HR\": 155, \"Calories\": 130.0, \"Distance\": 0.98, \"Title\": \"Kansas City Running\", \"time_day\": \"afternoon\"}, {\"Avg HR\": 142, \"Max HR\": 150, \"Calories\": 130.0, \"Distance\": 1.0, \"Title\": \"Treadmill Running\", \"time_day\": \"afternoon\"}, {\"Avg HR\": 122, \"Max HR\": 130, \"Calories\": 106.0, \"Distance\": 1.1, \"Title\": \"Treadmill Running\", \"time_day\": \"afternoon\"}, {\"Avg HR\": 135, \"Max HR\": 144, \"Calories\": 239.0, \"Distance\": 2.0, \"Title\": \"Treadmill Running\", \"time_day\": \"afternoon\"}, {\"Avg HR\": 150, \"Max HR\": 169, \"Calories\": 135.0, \"Distance\": 1.02, \"Title\": \"Treadmill Running\", \"time_day\": \"afternoon\"}, {\"Avg HR\": 140, \"Max HR\": 152, \"Calories\": 137.0, \"Distance\": 1.03, \"Title\": \"Treadmill Running\", \"time_day\": \"afternoon\"}, {\"Avg HR\": 157, \"Max HR\": 177, \"Calories\": 575.0, \"Distance\": 4.22, \"Title\": \"Kansas City Running\", \"time_day\": \"afternoon\"}, {\"Avg HR\": 140, \"Max HR\": 155, \"Calories\": 129.0, \"Distance\": 1.0, \"Title\": \"Treadmill Running\", \"time_day\": \"afternoon\"}, {\"Avg HR\": 146, \"Max HR\": 158, \"Calories\": 116.0, \"Distance\": 0.9, \"Title\": \"Treadmill Running\", \"time_day\": \"afternoon\"}, {\"Avg HR\": 146, \"Max HR\": 159, \"Calories\": 143.0, \"Distance\": 1.0, \"Title\": \"Treadmill Running\", \"time_day\": \"afternoon\"}, {\"Avg HR\": 155, \"Max HR\": 159, \"Calories\": 67.0, \"Distance\": 0.55, \"Title\": \"Treadmill Running\", \"time_day\": \"afternoon\"}, {\"Avg HR\": 161, \"Max HR\": 177, \"Calories\": 88.0, \"Distance\": 0.68, \"Title\": \"Treadmill Running\", \"time_day\": \"afternoon\"}, {\"Avg HR\": 135, \"Max HR\": 154, \"Calories\": 123.0, \"Distance\": 1.1, \"Title\": \"Treadmill Running\", \"time_day\": \"afternoon\"}, {\"Avg HR\": 147, \"Max HR\": 165, \"Calories\": 122.0, \"Distance\": 1.12, \"Title\": \"Treadmill Running\", \"time_day\": \"afternoon\"}, {\"Avg HR\": 112, \"Max HR\": 130, \"Calories\": 94.0, \"Distance\": 0.81, \"Title\": \"Treadmill Running\", \"time_day\": \"afternoon\"}, {\"Avg HR\": 134, \"Max HR\": 145, \"Calories\": 335.0, \"Distance\": 3.0, \"Title\": \"Treadmill Running\", \"time_day\": \"afternoon\"}, {\"Avg HR\": 142, \"Max HR\": 154, \"Calories\": 114.0, \"Distance\": 0.95, \"Title\": \"Treadmill Running\", \"time_day\": \"afternoon\"}, {\"Avg HR\": 132, \"Max HR\": 152, \"Calories\": 104.0, \"Distance\": 0.93, \"Title\": \"Treadmill Running\", \"time_day\": \"afternoon\"}, {\"Avg HR\": 140, \"Max HR\": 152, \"Calories\": 131.0, \"Distance\": 1.01, \"Title\": \"Treadmill Running\", \"time_day\": \"morning\"}, {\"Avg HR\": 153, \"Max HR\": 167, \"Calories\": 112.0, \"Distance\": 1.02, \"Title\": \"Treadmill Running\", \"time_day\": \"night\"}, {\"Avg HR\": 144, \"Max HR\": 151, \"Calories\": 117.0, \"Distance\": 1.0, \"Title\": \"Treadmill Running\", \"time_day\": \"afternoon\"}, {\"Avg HR\": 153, \"Max HR\": 165, \"Calories\": 140.0, \"Distance\": 0.99, \"Title\": \"Treadmill Running\", \"time_day\": \"afternoon\"}, {\"Avg HR\": 143, \"Max HR\": 159, \"Calories\": 130.0, \"Distance\": 0.99, \"Title\": \"Treadmill Running\", \"time_day\": \"afternoon\"}, {\"Avg HR\": 153, \"Max HR\": 169, \"Calories\": 182.0, \"Distance\": 1.5, \"Title\": \"Treadmill Running\", \"time_day\": \"afternoon\"}, {\"Avg HR\": 124, \"Max HR\": 154, \"Calories\": 232.0, \"Distance\": 1.5, \"Title\": \"Treadmill Running\", \"time_day\": \"afternoon\"}, {\"Avg HR\": 146, \"Max HR\": 165, \"Calories\": 272.0, \"Distance\": 2.0, \"Title\": \"Treadmill Running\", \"time_day\": \"afternoon\"}, {\"Avg HR\": 116, \"Max HR\": 148, \"Calories\": 155.0, \"Distance\": 0.67, \"Title\": \"Treadmill Running\", \"time_day\": \"afternoon\"}, {\"Avg HR\": 129, \"Max HR\": 147, \"Calories\": 159.0, \"Distance\": 0.87, \"Title\": \"Treadmill Running\", \"time_day\": \"afternoon\"}, {\"Avg HR\": 124, \"Max HR\": 148, \"Calories\": 139.0, \"Distance\": 0.82, \"Title\": \"Treadmill Running\", \"time_day\": \"afternoon\"}, {\"Avg HR\": 102, \"Max HR\": 126, \"Calories\": 114.0, \"Distance\": 1.93, \"Title\": \"Kansas City Cycling\", \"time_day\": \"afternoon\"}, {\"Avg HR\": 103, \"Max HR\": 128, \"Calories\": 138.0, \"Distance\": 1.27, \"Title\": \"Kansas City Cycling\", \"time_day\": \"afternoon\"}, {\"Avg HR\": 124, \"Max HR\": 152, \"Calories\": 69.0, \"Distance\": 0.46, \"Title\": \"Treadmill Running\", \"time_day\": \"afternoon\"}, {\"Avg HR\": 153, \"Max HR\": 163, \"Calories\": 131.0, \"Distance\": 0.84, \"Title\": \"Treadmill Running\", \"time_day\": \"afternoon\"}, {\"Avg HR\": 124, \"Max HR\": 166, \"Calories\": 161.0, \"Distance\": 0.87, \"Title\": \"Treadmill Running\", \"time_day\": \"afternoon\"}, {\"Avg HR\": 115, \"Max HR\": 155, \"Calories\": 247.0, \"Distance\": 0.9, \"Title\": \"Treadmill Running\", \"time_day\": \"night\"}, {\"Avg HR\": 138, \"Max HR\": 144, \"Calories\": 15.0, \"Distance\": 0.1, \"Title\": \"Treadmill Running\", \"time_day\": \"afternoon\"}, {\"Avg HR\": 151, \"Max HR\": 168, \"Calories\": 134.0, \"Distance\": 0.83, \"Title\": \"Treadmill Running\", \"time_day\": \"afternoon\"}, {\"Avg HR\": 133, \"Max HR\": 151, \"Calories\": 143.0, \"Distance\": 0.87, \"Title\": \"Treadmill Running\", \"time_day\": \"afternoon\"}, {\"Avg HR\": 145, \"Max HR\": 158, \"Calories\": 79.0, \"Distance\": 0.47, \"Title\": \"Treadmill Running\", \"time_day\": \"afternoon\"}, {\"Avg HR\": 139, \"Max HR\": 153, \"Calories\": 112.0, \"Distance\": 0.82, \"Title\": \"Treadmill Running\", \"time_day\": \"afternoon\"}, {\"Avg HR\": 141, \"Max HR\": 171, \"Calories\": 447.0, \"Distance\": 2.64, \"Title\": \"Kansas City Running\", \"time_day\": \"afternoon\"}, {\"Avg HR\": 134, \"Max HR\": 158, \"Calories\": 138.0, \"Distance\": 0.86, \"Title\": \"Treadmill Running\", \"time_day\": \"afternoon\"}, {\"Avg HR\": 118, \"Max HR\": 159, \"Calories\": 171.0, \"Distance\": 0.87, \"Title\": \"Treadmill Running\", \"time_day\": \"night\"}, {\"Avg HR\": 123, \"Max HR\": 147, \"Calories\": 90.0, \"Distance\": 0.66, \"Title\": \"Treadmill Running\", \"time_day\": \"afternoon\"}, {\"Avg HR\": 135, \"Max HR\": 151, \"Calories\": 101.0, \"Distance\": 0.84, \"Title\": \"Treadmill Running\", \"time_day\": \"afternoon\"}, {\"Avg HR\": 139, \"Max HR\": 158, \"Calories\": 110.0, \"Distance\": 0.89, \"Title\": \"Treadmill Running\", \"time_day\": \"afternoon\"}, {\"Avg HR\": 136, \"Max HR\": 153, \"Calories\": 123.0, \"Distance\": 0.84, \"Title\": \"Treadmill Running\", \"time_day\": \"afternoon\"}, {\"Avg HR\": 142, \"Max HR\": 160, \"Calories\": 112.0, \"Distance\": 0.85, \"Title\": \"Treadmill Running\", \"time_day\": \"afternoon\"}, {\"Avg HR\": 142, \"Max HR\": 161, \"Calories\": 121.0, \"Distance\": 0.85, \"Title\": \"Treadmill Running\", \"time_day\": \"afternoon\"}, {\"Avg HR\": 134, \"Max HR\": 164, \"Calories\": 191.0, \"Distance\": 1.0, \"Title\": \"Treadmill Running\", \"time_day\": \"afternoon\"}, {\"Avg HR\": 142, \"Max HR\": 159, \"Calories\": 130.0, \"Distance\": 0.86, \"Title\": \"Treadmill Running\", \"time_day\": \"afternoon\"}, {\"Avg HR\": 116, \"Max HR\": 161, \"Calories\": 111.0, \"Distance\": 0.33, \"Title\": \"Treadmill Running\", \"time_day\": \"afternoon\"}, {\"Avg HR\": 150, \"Max HR\": 165, \"Calories\": 111.0, \"Distance\": 0.83, \"Title\": \"Treadmill Running\", \"time_day\": \"afternoon\"}, {\"Avg HR\": 144, \"Max HR\": 158, \"Calories\": 125.0, \"Distance\": 0.64, \"Title\": \"Treadmill Running\", \"time_day\": \"afternoon\"}, {\"Avg HR\": 137, \"Max HR\": 153, \"Calories\": 128.0, \"Distance\": 0.84, \"Title\": \"Treadmill Running\", \"time_day\": \"afternoon\"}, {\"Avg HR\": 145, \"Max HR\": 151, \"Calories\": 90.0, \"Distance\": 0.7, \"Title\": \"Treadmill Running\", \"time_day\": \"afternoon\"}, {\"Avg HR\": 145, \"Max HR\": 161, \"Calories\": 105.0, \"Distance\": 0.83, \"Title\": \"Treadmill Running\", \"time_day\": \"afternoon\"}, {\"Avg HR\": 146, \"Max HR\": 168, \"Calories\": 112.0, \"Distance\": 0.93, \"Title\": \"Treadmill Running\", \"time_day\": \"afternoon\"}, {\"Avg HR\": 151, \"Max HR\": 162, \"Calories\": 563.0, \"Distance\": 4.24, \"Title\": \"Kansas City Running\", \"time_day\": \"afternoon\"}, {\"Avg HR\": 151, \"Max HR\": 162, \"Calories\": 121.0, \"Distance\": 0.98, \"Title\": \"Treadmill Running\", \"time_day\": \"afternoon\"}, {\"Avg HR\": 128, \"Max HR\": 158, \"Calories\": 147.0, \"Distance\": 0.99, \"Title\": \"Treadmill Running\", \"time_day\": \"afternoon\"}, {\"Avg HR\": 147, \"Max HR\": 166, \"Calories\": 107.0, \"Distance\": 1.01, \"Title\": \"Treadmill Running\", \"time_day\": \"afternoon\"}, {\"Avg HR\": 135, \"Max HR\": 163, \"Calories\": 155.0, \"Distance\": 0.99, \"Title\": \"Treadmill Running\", \"time_day\": \"afternoon\"}, {\"Avg HR\": 145, \"Max HR\": 164, \"Calories\": 109.0, \"Distance\": 0.97, \"Title\": \"Treadmill Running\", \"time_day\": \"morning\"}, {\"Avg HR\": 144, \"Max HR\": 156, \"Calories\": 116.0, \"Distance\": 1.0, \"Title\": \"Treadmill Running\", \"time_day\": \"morning\"}, {\"Avg HR\": 139, \"Max HR\": 150, \"Calories\": 111.0, \"Distance\": 0.98, \"Title\": \"Treadmill Running\", \"time_day\": \"afternoon\"}, {\"Avg HR\": 143, \"Max HR\": 158, \"Calories\": 74.0, \"Distance\": 0.65, \"Title\": \"Treadmill Running\", \"time_day\": \"night\"}, {\"Avg HR\": 142, \"Max HR\": 151, \"Calories\": 109.0, \"Distance\": 0.9, \"Title\": \"Treadmill Running\", \"time_day\": \"night\"}, {\"Avg HR\": 149, \"Max HR\": 168, \"Calories\": 145.0, \"Distance\": 1.0, \"Title\": \"Treadmill Running\", \"time_day\": \"afternoon\"}, {\"Avg HR\": 128, \"Max HR\": 142, \"Calories\": 105.0, \"Distance\": 1.0, \"Title\": \"Treadmill Running\", \"time_day\": \"afternoon\"}, {\"Avg HR\": 147, \"Max HR\": 158, \"Calories\": 216.0, \"Distance\": 2.0, \"Title\": \"Treadmill Running\", \"time_day\": \"afternoon\"}, {\"Avg HR\": 151, \"Max HR\": 166, \"Calories\": 148.0, \"Distance\": 1.0, \"Title\": \"Treadmill Running\", \"time_day\": \"afternoon\"}, {\"Avg HR\": 135, \"Max HR\": 148, \"Calories\": 127.0, \"Distance\": 1.0, \"Title\": \"Treadmill Running\", \"time_day\": \"afternoon\"}, {\"Avg HR\": 121, \"Max HR\": 143, \"Calories\": 105.0, \"Distance\": 1.32, \"Title\": \"Treadmill Running\", \"time_day\": \"afternoon\"}, {\"Avg HR\": 134, \"Max HR\": 154, \"Calories\": 71.0, \"Distance\": 0.53, \"Title\": \"Treadmill Running\", \"time_day\": \"afternoon\"}, {\"Avg HR\": 156, \"Max HR\": 165, \"Calories\": 132.0, \"Distance\": 1.5, \"Title\": \"Treadmill Running\", \"time_day\": \"afternoon\"}, {\"Avg HR\": 127, \"Max HR\": 160, \"Calories\": 199.0, \"Distance\": 1.49, \"Title\": \"Treadmill Running\", \"time_day\": \"afternoon\"}, {\"Avg HR\": 125, \"Max HR\": 147, \"Calories\": 147.0, \"Distance\": 1.0, \"Title\": \"Treadmill Running\", \"time_day\": \"afternoon\"}, {\"Avg HR\": 130, \"Max HR\": 151, \"Calories\": 137.0, \"Distance\": 0.89, \"Title\": \"Treadmill Running\", \"time_day\": \"afternoon\"}, {\"Avg HR\": 126, \"Max HR\": 171, \"Calories\": 303.0, \"Distance\": 1.5, \"Title\": \"Treadmill Running\", \"time_day\": \"afternoon\"}, {\"Avg HR\": 143, \"Max HR\": 160, \"Calories\": 185.0, \"Distance\": 1.5, \"Title\": \"Treadmill Running\", \"time_day\": \"afternoon\"}, {\"Avg HR\": 140, \"Max HR\": 158, \"Calories\": 235.0, \"Distance\": 2.0, \"Title\": \"Treadmill Running\", \"time_day\": \"afternoon\"}, {\"Avg HR\": 125, \"Max HR\": 131, \"Calories\": 51.0, \"Distance\": 0.48, \"Title\": \"Treadmill Running\", \"time_day\": \"afternoon\"}, {\"Avg HR\": 128, \"Max HR\": 140, \"Calories\": 97.0, \"Distance\": 0.91, \"Title\": \"Treadmill Running\", \"time_day\": \"afternoon\"}, {\"Avg HR\": 141, \"Max HR\": 175, \"Calories\": 404.0, \"Distance\": 3.07, \"Title\": \"Treadmill Running\", \"time_day\": \"afternoon\"}, {\"Avg HR\": 145, \"Max HR\": 157, \"Calories\": 106.0, \"Distance\": 0.93, \"Title\": \"Treadmill Running\", \"time_day\": \"afternoon\"}, {\"Avg HR\": 145, \"Max HR\": 154, \"Calories\": 115.0, \"Distance\": 1.03, \"Title\": \"Treadmill Running\", \"time_day\": \"afternoon\"}, {\"Avg HR\": 131, \"Max HR\": 151, \"Calories\": 119.0, \"Distance\": 1.0, \"Title\": \"Treadmill Running\", \"time_day\": \"afternoon\"}, {\"Avg HR\": 149, \"Max HR\": 166, \"Calories\": 126.0, \"Distance\": 1.04, \"Title\": \"Treadmill Running\", \"time_day\": \"afternoon\"}, {\"Avg HR\": 136, \"Max HR\": 148, \"Calories\": 104.0, \"Distance\": 1.0, \"Title\": \"Treadmill Running\", \"time_day\": \"afternoon\"}, {\"Avg HR\": 151, \"Max HR\": 166, \"Calories\": 143.0, \"Distance\": 1.0, \"Title\": \"Treadmill Running\", \"time_day\": \"night\"}, {\"Avg HR\": 138, \"Max HR\": 145, \"Calories\": 92.0, \"Distance\": 0.95, \"Title\": \"Treadmill Running\", \"time_day\": \"night\"}, {\"Avg HR\": 127, \"Max HR\": 142, \"Calories\": 110.0, \"Distance\": 1.0, \"Title\": \"Treadmill Running\", \"time_day\": \"night\"}, {\"Avg HR\": 140, \"Max HR\": 156, \"Calories\": 116.0, \"Distance\": 1.0, \"Title\": \"Treadmill Running\", \"time_day\": \"night\"}, {\"Avg HR\": 143, \"Max HR\": 157, \"Calories\": 216.0, \"Distance\": 2.05, \"Title\": \"Treadmill Running\", \"time_day\": \"afternoon\"}, {\"Avg HR\": 151, \"Max HR\": 154, \"Calories\": 112.0, \"Distance\": 0.9, \"Title\": \"Treadmill Running\", \"time_day\": \"afternoon\"}, {\"Avg HR\": 130, \"Max HR\": 146, \"Calories\": 94.0, \"Distance\": 0.9, \"Title\": \"Treadmill Running\", \"time_day\": \"afternoon\"}, {\"Avg HR\": 153, \"Max HR\": 168, \"Calories\": 126.0, \"Distance\": 0.93, \"Title\": \"Treadmill Running\", \"time_day\": \"night\"}, {\"Avg HR\": 122, \"Max HR\": 153, \"Calories\": 120.0, \"Distance\": 0.96, \"Title\": \"Treadmill Running\", \"time_day\": \"night\"}, {\"Avg HR\": 129, \"Max HR\": 159, \"Calories\": 161.0, \"Distance\": 0.97, \"Title\": \"Treadmill Running\", \"time_day\": \"afternoon\"}, {\"Avg HR\": 143, \"Max HR\": 180, \"Calories\": 497.0, \"Distance\": 3.47, \"Title\": \"Treadmill Running\", \"time_day\": \"afternoon\"}, {\"Avg HR\": 158, \"Max HR\": 169, \"Calories\": 110.0, \"Distance\": 0.88, \"Title\": \"Treadmill Running\", \"time_day\": \"afternoon\"}, {\"Avg HR\": 143, \"Max HR\": 158, \"Calories\": 105.0, \"Distance\": 0.94, \"Title\": \"Treadmill Running\", \"time_day\": \"afternoon\"}, {\"Avg HR\": 155, \"Max HR\": 166, \"Calories\": 109.0, \"Distance\": 0.94, \"Title\": \"Treadmill Running\", \"time_day\": \"afternoon\"}, {\"Avg HR\": 134, \"Max HR\": 150, \"Calories\": 98.0, \"Distance\": 0.96, \"Title\": \"Treadmill Running\", \"time_day\": \"afternoon\"}, {\"Avg HR\": 144, \"Max HR\": 156, \"Calories\": 162.0, \"Distance\": 1.0, \"Title\": \"Treadmill Running\", \"time_day\": \"night\"}, {\"Avg HR\": 139, \"Max HR\": 149, \"Calories\": 128.0, \"Distance\": 0.96, \"Title\": \"Treadmill Running\", \"time_day\": \"night\"}, {\"Avg HR\": 150, \"Max HR\": 172, \"Calories\": 127.0, \"Distance\": 0.93, \"Title\": \"Treadmill Running\", \"time_day\": \"afternoon\"}, {\"Avg HR\": 148, \"Max HR\": 167, \"Calories\": 272.0, \"Distance\": 2.0, \"Title\": \"Treadmill Running\", \"time_day\": \"night\"}, {\"Avg HR\": 155, \"Max HR\": 160, \"Calories\": 190.0, \"Distance\": 2.01, \"Title\": \"Treadmill Running\", \"time_day\": \"night\"}, {\"Avg HR\": 140, \"Max HR\": 148, \"Calories\": 116.0, \"Distance\": 1.02, \"Title\": \"Treadmill Running\", \"time_day\": \"morning\"}, {\"Avg HR\": 142, \"Max HR\": 162, \"Calories\": 118.0, \"Distance\": 1.01, \"Title\": \"Treadmill Running\", \"time_day\": \"afternoon\"}, {\"Avg HR\": 150, \"Max HR\": 164, \"Calories\": 134.0, \"Distance\": 1.0, \"Title\": \"Treadmill Running\", \"time_day\": \"afternoon\"}, {\"Avg HR\": 144, \"Max HR\": 157, \"Calories\": 123.0, \"Distance\": 1.02, \"Title\": \"Treadmill Running\", \"time_day\": \"afternoon\"}, {\"Avg HR\": 141, \"Max HR\": 162, \"Calories\": 608.0, \"Distance\": 4.44, \"Title\": \"Kansas City Running\", \"time_day\": \"morning\"}, {\"Avg HR\": 88, \"Max HR\": 107, \"Calories\": 80.0, \"Distance\": 0.0, \"Title\": \"Strength\", \"time_day\": \"night\"}, {\"Avg HR\": 149, \"Max HR\": 182, \"Calories\": 565.0, \"Distance\": 4.25, \"Title\": \"Kansas City Running\", \"time_day\": \"afternoon\"}, {\"Avg HR\": 148, \"Max HR\": 170, \"Calories\": 553.0, \"Distance\": 4.32, \"Title\": \"Kansas City Running\", \"time_day\": \"night\"}, {\"Avg HR\": 156, \"Max HR\": 187, \"Calories\": 404.0, \"Distance\": 3.02, \"Title\": \"Kansas City Running\", \"time_day\": \"afternoon\"}]}}, {\"mode\": \"vega-lite\"});\n",
       "</script>"
      ],
      "text/plain": [
       "alt.Chart(...)"
      ]
     },
     "execution_count": 260,
     "metadata": {},
     "output_type": "execute_result"
    }
   ],
   "source": [
    "alt.Chart(df[['Avg HR', 'Max HR', 'Calories', 'Distance', 'Title', 'time_day']]).mark_circle(size=60).encode(\n",
    "    x='Distance',\n",
    "    y='Calories',\n",
    "    color='time_day',\n",
    "    tooltip=['Avg HR', 'Max HR', 'Calories', 'Distance', 'Title', 'time_day']\n",
    ").interactive()"
   ]
  },
  {
   "cell_type": "code",
   "execution_count": 161,
   "metadata": {},
   "outputs": [
    {
     "data": {
      "text/plain": [
       "datetime.time"
      ]
     },
     "execution_count": 161,
     "metadata": {},
     "output_type": "execute_result"
    }
   ],
   "source": [
    "type(df['time_exercise'].iloc[1])"
   ]
  },
  {
   "cell_type": "code",
   "execution_count": 75,
   "metadata": {},
   "outputs": [
    {
     "data": {
      "text/plain": [
       "0      False\n",
       "1      False\n",
       "2      False\n",
       "3      False\n",
       "4      False\n",
       "       ...  \n",
       "449    False\n",
       "450    False\n",
       "451    False\n",
       "452    False\n",
       "453    False\n",
       "Name: calories, Length: 454, dtype: bool"
      ]
     },
     "execution_count": 75,
     "metadata": {},
     "output_type": "execute_result"
    }
   ],
   "source": [
    "mask = (df['calories'] == max(df['calories']))\n",
    "mask"
   ]
  },
  {
   "cell_type": "code",
   "execution_count": 79,
   "metadata": {},
   "outputs": [
    {
     "data": {
      "text/plain": [
       "datetime.date(2020, 3, 17)"
      ]
     },
     "execution_count": 79,
     "metadata": {},
     "output_type": "execute_result"
    }
   ],
   "source": [
    "today = datetime.date.today()\n",
    "today"
   ]
  },
  {
   "cell_type": "code",
   "execution_count": 84,
   "metadata": {},
   "outputs": [
    {
     "data": {
      "text/plain": [
       "274   572 days\n",
       "Name: date_exercise, dtype: timedelta64[ns]"
      ]
     },
     "execution_count": 84,
     "metadata": {},
     "output_type": "execute_result"
    }
   ],
   "source": [
    "difference = today - df[mask]['date_exercise']\n",
    "difference"
   ]
  },
  {
   "cell_type": "code",
   "execution_count": 92,
   "metadata": {},
   "outputs": [
    {
     "data": {
      "text/plain": [
       "49420800.0"
      ]
     },
     "execution_count": 92,
     "metadata": {},
     "output_type": "execute_result"
    }
   ],
   "source": [
    "difference.iloc[0].total_seconds()"
   ]
  },
  {
   "cell_type": "code",
   "execution_count": 202,
   "metadata": {},
   "outputs": [
    {
     "data": {
      "text/plain": [
       "1.5561643835616439"
      ]
     },
     "execution_count": 202,
     "metadata": {},
     "output_type": "execute_result"
    }
   ],
   "source": [
    "difference.iloc[0].days / 365"
   ]
  },
  {
   "cell_type": "code",
   "execution_count": 158,
   "metadata": {},
   "outputs": [
    {
     "data": {
      "text/plain": [
       "datetime.date(2020, 4, 2)"
      ]
     },
     "execution_count": 158,
     "metadata": {},
     "output_type": "execute_result"
    }
   ],
   "source": [
    "df['Date'].dt.date.iloc[1]"
   ]
  },
  {
   "cell_type": "code",
   "execution_count": 205,
   "metadata": {},
   "outputs": [
    {
     "ename": "ValueError",
     "evalue": "too many values to unpack (expected 2)",
     "output_type": "error",
     "traceback": [
      "\u001b[0;31m---------------------------------------------------------------------------\u001b[0m",
      "\u001b[0;31mValueError\u001b[0m                                Traceback (most recent call last)",
      "\u001b[0;32m<ipython-input-205-f963ea95e0b7>\u001b[0m in \u001b[0;36m<module>\u001b[0;34m\u001b[0m\n\u001b[0;32m----> 1\u001b[0;31m \u001b[0;32mfor\u001b[0m \u001b[0mi\u001b[0m\u001b[0;34m,\u001b[0m \u001b[0mj\u001b[0m \u001b[0;32min\u001b[0m \u001b[0mdf\u001b[0m\u001b[0;34m:\u001b[0m\u001b[0;34m\u001b[0m\u001b[0;34m\u001b[0m\u001b[0m\n\u001b[0m\u001b[1;32m      2\u001b[0m     \u001b[0mprint\u001b[0m\u001b[0;34m(\u001b[0m\u001b[0mtype\u001b[0m\u001b[0;34m(\u001b[0m\u001b[0mi\u001b[0m\u001b[0;34m[\u001b[0m\u001b[0mj\u001b[0m\u001b[0;34m]\u001b[0m\u001b[0;34m)\u001b[0m\u001b[0;34m)\u001b[0m\u001b[0;34m\u001b[0m\u001b[0;34m\u001b[0m\u001b[0m\n",
      "\u001b[0;31mValueError\u001b[0m: too many values to unpack (expected 2)"
     ]
    }
   ],
   "source": []
  },
  {
   "cell_type": "code",
   "execution_count": null,
   "metadata": {},
   "outputs": [],
   "source": []
  }
 ],
 "metadata": {
  "kernelspec": {
   "display_name": "Python 3",
   "language": "python",
   "name": "python3"
  },
  "language_info": {
   "codemirror_mode": {
    "name": "ipython",
    "version": 3
   },
   "file_extension": ".py",
   "mimetype": "text/x-python",
   "name": "python",
   "nbconvert_exporter": "python",
   "pygments_lexer": "ipython3",
   "version": "3.7.4"
  }
 },
 "nbformat": 4,
 "nbformat_minor": 4
}
